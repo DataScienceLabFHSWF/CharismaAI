{
 "cells": [
  {
   "cell_type": "code",
   "execution_count": 11,
   "id": "e657a7c2",
   "metadata": {},
   "outputs": [],
   "source": [
    "import pandas as pd \n",
    "from glob import glob\n",
    "import difflib\n",
    "def compare(file1, file2):\n",
    "    print(file2[14:-5])\n",
    "    df1 = pd.read_excel(file1,skiprows=1, index_col=0,header=None).iloc[:,:]\n",
    "\n",
    "    df1 = df1.fillna(0)\n",
    "\n",
    "    df2 = pd.read_excel(file2,skiprows=8,header=None).iloc[:,1:]\n",
    "    df2.index = df2.index.fillna(0)\n",
    "\n",
    "    df2 = df2.fillna(0)\n",
    "\n",
    "    # Check if shapes are the same\n",
    "    if df1.shape != df2.shape:\n",
    "        print(\"Sheets have different shapes. They cannot be compared.\")\n",
    "    else:\n",
    "        differences = []\n",
    "\n",
    "        # Compare cell values\n",
    "        for i in range(df1.shape[0]):\n",
    "            for j in range(df1.shape[1]):\n",
    "                if df1.iloc[i, j] != df2.iloc[i, j]:\n",
    "                    differences.append((i+1, j+1, df1.iloc[i, j], df2.iloc[i, j]))\n",
    "\n",
    "        if differences:\n",
    "            diff_df = pd.DataFrame(differences, columns=['Row', 'Column', 'Value_Sheet1', 'Value_Sheet2'])\n",
    "\n",
    "            diff_excel_path = 'differences'+file2[16:-5]+'.xlsx'\n",
    "            diff_df.to_excel(diff_excel_path, index=False)\n",
    "            print(f\"Differences saved in '{diff_excel_path}'.\")\n",
    "        else:\n",
    "            print(\"Sheets are identical. No differences found.\")\n",
    "\n"
   ]
  },
  {
   "cell_type": "code",
   "execution_count": 12,
   "id": "8355dbd4",
   "metadata": {},
   "outputs": [
    {
     "name": "stdout",
     "output_type": "stream",
     "text": [
      "s/Speech_1_Obama_\n",
      "Sheets are identical. No differences found.\n"
     ]
    }
   ],
   "source": [
    "file1 = \"./test_speeches/predictions/Speech_1_Obama__AI.xlsx\"\n",
    "file2 = \"./test_speeches/Speech_1_Obama_.xlsx\"\n",
    "compare(file1,file2)"
   ]
  },
  {
   "cell_type": "code",
   "execution_count": 13,
   "id": "9075ffd7",
   "metadata": {},
   "outputs": [],
   "source": [
    "files_AI = glob('test_speeches/predictions/*.xlsx')\n",
    "files_test = glob('test_speeches/*.xlsx')"
   ]
  },
  {
   "cell_type": "code",
   "execution_count": 14,
   "id": "b6b98bba",
   "metadata": {},
   "outputs": [
    {
     "data": {
      "text/plain": [
       "['test_speeches/predictions\\\\Coding_Differneces_103_AI.xlsx',\n",
       " 'test_speeches/predictions\\\\Coding_Differneces_110_AI.xlsx',\n",
       " 'test_speeches/predictions\\\\Coding_Differneces_118_AI.xlsx',\n",
       " 'test_speeches/predictions\\\\Coding_Differneces_134_AI.xlsx',\n",
       " 'test_speeches/predictions\\\\Coding_Differneces_140_AI.xlsx',\n",
       " 'test_speeches/predictions\\\\Coding_Differneces_150_AI.xlsx',\n",
       " 'test_speeches/predictions\\\\Coding_Differneces_4_AI.xlsx',\n",
       " 'test_speeches/predictions\\\\Coding_Differneces_5_AI.xlsx',\n",
       " 'test_speeches/predictions\\\\Speech_10_AI.xlsx',\n",
       " 'test_speeches/predictions\\\\Speech_1_Obama__AI.xlsx',\n",
       " 'test_speeches/predictions\\\\Speech_2_Maggie_Thatcher_AI.xlsx',\n",
       " 'test_speeches/predictions\\\\Speech_3_Testspeech_AI.xlsx',\n",
       " 'test_speeches/predictions\\\\Speech_4_AI.xlsx',\n",
       " 'test_speeches/predictions\\\\Speech_5_AI.xlsx',\n",
       " 'test_speeches/predictions\\\\Speech_6_AI.xlsx',\n",
       " 'test_speeches/predictions\\\\Speech_7_AI.xlsx',\n",
       " 'test_speeches/predictions\\\\Speech_8_AI.xlsx',\n",
       " 'test_speeches/predictions\\\\Speech_9_AI.xlsx']"
      ]
     },
     "execution_count": 14,
     "metadata": {},
     "output_type": "execute_result"
    }
   ],
   "source": [
    "files_AI.sort()\n",
    "files_AI"
   ]
  },
  {
   "cell_type": "code",
   "execution_count": 15,
   "id": "491e9a95",
   "metadata": {},
   "outputs": [
    {
     "data": {
      "text/plain": [
       "['test_speeches\\\\Coding_Differneces_103.xlsx',\n",
       " 'test_speeches\\\\Coding_Differneces_110.xlsx',\n",
       " 'test_speeches\\\\Coding_Differneces_118.xlsx',\n",
       " 'test_speeches\\\\Coding_Differneces_134.xlsx',\n",
       " 'test_speeches\\\\Coding_Differneces_140.xlsx',\n",
       " 'test_speeches\\\\Coding_Differneces_150.xlsx',\n",
       " 'test_speeches\\\\Coding_Differneces_4.xlsx',\n",
       " 'test_speeches\\\\Coding_Differneces_5.xlsx',\n",
       " 'test_speeches\\\\Speech_10.xlsx',\n",
       " 'test_speeches\\\\Speech_1_Obama_.xlsx',\n",
       " 'test_speeches\\\\Speech_2_Maggie_Thatcher.xlsx',\n",
       " 'test_speeches\\\\Speech_3_Testspeech.xlsx',\n",
       " 'test_speeches\\\\Speech_4.xlsx',\n",
       " 'test_speeches\\\\Speech_5.xlsx',\n",
       " 'test_speeches\\\\Speech_6.xlsx',\n",
       " 'test_speeches\\\\Speech_7.xlsx',\n",
       " 'test_speeches\\\\Speech_8.xlsx',\n",
       " 'test_speeches\\\\Speech_9.xlsx']"
      ]
     },
     "execution_count": 15,
     "metadata": {},
     "output_type": "execute_result"
    }
   ],
   "source": [
    "files_test.sort()\n",
    "files_test"
   ]
  },
  {
   "cell_type": "code",
   "execution_count": 16,
   "id": "3cce25ef",
   "metadata": {},
   "outputs": [
    {
     "name": "stdout",
     "output_type": "stream",
     "text": [
      "Coding_Differneces_103\n",
      "Sheets are identical. No differences found.\n",
      "Coding_Differneces_110\n",
      "Sheets are identical. No differences found.\n",
      "Coding_Differneces_118\n",
      "Sheets are identical. No differences found.\n",
      "Coding_Differneces_134\n",
      "Sheets are identical. No differences found.\n",
      "Coding_Differneces_140\n",
      "Sheets are identical. No differences found.\n",
      "Coding_Differneces_150\n",
      "Sheets are identical. No differences found.\n",
      "Coding_Differneces_4\n",
      "Sheets are identical. No differences found.\n",
      "Coding_Differneces_5\n",
      "Sheets are identical. No differences found.\n",
      "Speech_10\n",
      "Sheets are identical. No differences found.\n",
      "Speech_1_Obama_\n",
      "Sheets are identical. No differences found.\n",
      "Speech_2_Maggie_Thatcher\n",
      "Sheets are identical. No differences found.\n",
      "Speech_3_Testspeech\n",
      "Sheets are identical. No differences found.\n",
      "Speech_4\n",
      "Sheets are identical. No differences found.\n",
      "Speech_5\n",
      "Sheets are identical. No differences found.\n",
      "Speech_6\n",
      "Sheets are identical. No differences found.\n",
      "Speech_7\n",
      "Sheets are identical. No differences found.\n",
      "Speech_8\n",
      "Sheets are identical. No differences found.\n",
      "Speech_9\n",
      "Sheets are identical. No differences found.\n"
     ]
    }
   ],
   "source": [
    "files = tuple(zip(files_AI,files_test))\n",
    "for f in files:\n",
    "    compare(*f)"
   ]
  },
  {
   "cell_type": "code",
   "execution_count": null,
   "id": "397615d5",
   "metadata": {},
   "outputs": [],
   "source": []
  }
 ],
 "metadata": {
  "kernelspec": {
   "display_name": "Python 3 (ipykernel)",
   "language": "python",
   "name": "python3"
  },
  "language_info": {
   "codemirror_mode": {
    "name": "ipython",
    "version": 3
   },
   "file_extension": ".py",
   "mimetype": "text/x-python",
   "name": "python",
   "nbconvert_exporter": "python",
   "pygments_lexer": "ipython3",
   "version": "3.9.17"
  }
 },
 "nbformat": 4,
 "nbformat_minor": 5
}
