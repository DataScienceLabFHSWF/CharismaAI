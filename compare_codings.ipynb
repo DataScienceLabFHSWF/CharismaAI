{
 "cells": [
  {
   "cell_type": "code",
   "execution_count": 41,
   "id": "e657a7c2",
   "metadata": {},
   "outputs": [],
   "source": [
    "import pandas as pd \n",
    "from glob import glob\n",
    "import difflib\n",
    "import numpy as np\n",
    "\n",
    "def compare(file1, file2):\n",
    "    #print(file2[14:-5])\n",
    "    df1 = pd.read_excel(file1, index_col=0).drop(columns='label').dropna(subset='sentence')\n",
    "    print(df1.columns)\n",
    "    print(df1.shape)\n",
    "    df1 = df1.fillna(0)\n",
    "\n",
    "    df2 =pd.read_excel(file2,skiprows=6,header=0).drop(columns=\n",
    "                                                       'Unnamed: 0').rename(columns=\n",
    "                                                                            {'Sentence':'sentence'}).dropna(subset=\n",
    "                                                                                                            'sentence')\n",
    "    #print(df2)\n",
    "    #print(df2.columns)\n",
    "    print(df2.shape)\n",
    "    df2.index = df2.index.fillna(0)\n",
    "    \n",
    "    df2 = df2.fillna(0)\n",
    "\n",
    "    # Check if shapes are the same\n",
    "    if df1.shape != df2.shape:\n",
    "        print(\"Sheets have different shapes. They cannot be compared.\")\n",
    "    else:\n",
    "        diff_df = df1.drop(columns='sentence').compare(df2.drop(columns='sentence'),\n",
    "                                                       result_names=('Coding AI', 'Coding Human'),\n",
    "                                                       keep_shape=True, keep_equal=True).round(0).astype(int)\n",
    "        #print(diff_df.columns)#.get_level_values(0))\n",
    "        for col in diff_df.columns.get_level_values(0):\n",
    "            diff_df[col, \"Final coding\"] = None\n",
    "            diff_df[' sentence'] = df1['sentence']\n",
    "        diff_excel_path = 'differences/'+file2[14:-5]+'.xlsx'   \n",
    "        diff_df = diff_df.reindex(sorted(diff_df.columns), axis=1)\n",
    "        diff_df.reindex(sorted(diff_df.columns), axis=1).to_excel(diff_excel_path)\n",
    "        print(f\"Differences saved in '{diff_excel_path}'.\")\n",
    "\n"
   ]
  },
  {
   "cell_type": "code",
   "execution_count": 42,
   "id": "8355dbd4",
   "metadata": {},
   "outputs": [
    {
     "ename": "FileNotFoundError",
     "evalue": "[Errno 2] No such file or directory: 'test_speeches/predictions/Speech_1_Obama__AI.xlsx'",
     "output_type": "error",
     "traceback": [
      "\u001b[1;31m---------------------------------------------------------------------------\u001b[0m",
      "\u001b[1;31mFileNotFoundError\u001b[0m                         Traceback (most recent call last)",
      "Cell \u001b[1;32mIn[42], line 5\u001b[0m\n\u001b[0;32m      1\u001b[0m file1 \u001b[38;5;241m=\u001b[39m \u001b[38;5;124m\"\u001b[39m\u001b[38;5;124mtest_speeches/predictions/Speech_1_Obama__AI.xlsx\u001b[39m\u001b[38;5;124m\"\u001b[39m\n\u001b[0;32m      2\u001b[0m file2 \u001b[38;5;241m=\u001b[39m \u001b[38;5;124m\"\u001b[39m\u001b[38;5;124mtest_speeches/Speech_1_Obama_.xlsx\u001b[39m\u001b[38;5;124m\"\u001b[39m\n\u001b[1;32m----> 5\u001b[0m \u001b[43mcompare\u001b[49m\u001b[43m(\u001b[49m\u001b[43mfile1\u001b[49m\u001b[43m,\u001b[49m\u001b[43mfile2\u001b[49m\u001b[43m)\u001b[49m\n",
      "Cell \u001b[1;32mIn[41], line 8\u001b[0m, in \u001b[0;36mcompare\u001b[1;34m(file1, file2)\u001b[0m\n\u001b[0;32m      6\u001b[0m \u001b[38;5;28;01mdef\u001b[39;00m \u001b[38;5;21mcompare\u001b[39m(file1, file2):\n\u001b[0;32m      7\u001b[0m     \u001b[38;5;66;03m#print(file2[14:-5])\u001b[39;00m\n\u001b[1;32m----> 8\u001b[0m     df1 \u001b[38;5;241m=\u001b[39m \u001b[43mpd\u001b[49m\u001b[38;5;241;43m.\u001b[39;49m\u001b[43mread_excel\u001b[49m\u001b[43m(\u001b[49m\u001b[43mfile1\u001b[49m\u001b[43m,\u001b[49m\u001b[43m \u001b[49m\u001b[43mindex_col\u001b[49m\u001b[38;5;241;43m=\u001b[39;49m\u001b[38;5;241;43m0\u001b[39;49m\u001b[43m)\u001b[49m\u001b[38;5;241m.\u001b[39mdrop(columns\u001b[38;5;241m=\u001b[39m\u001b[38;5;124m'\u001b[39m\u001b[38;5;124mlabel\u001b[39m\u001b[38;5;124m'\u001b[39m)\u001b[38;5;241m.\u001b[39mdropna(subset\u001b[38;5;241m=\u001b[39m\u001b[38;5;124m'\u001b[39m\u001b[38;5;124msentence\u001b[39m\u001b[38;5;124m'\u001b[39m)\n\u001b[0;32m      9\u001b[0m     \u001b[38;5;28mprint\u001b[39m(df1\u001b[38;5;241m.\u001b[39mcolumns)\n\u001b[0;32m     10\u001b[0m     \u001b[38;5;28mprint\u001b[39m(df1\u001b[38;5;241m.\u001b[39mshape)\n",
      "File \u001b[1;32m~\\anaconda3\\lib\\site-packages\\pandas\\io\\excel\\_base.py:495\u001b[0m, in \u001b[0;36mread_excel\u001b[1;34m(io, sheet_name, header, names, index_col, usecols, dtype, engine, converters, true_values, false_values, skiprows, nrows, na_values, keep_default_na, na_filter, verbose, parse_dates, date_parser, date_format, thousands, decimal, comment, skipfooter, storage_options, dtype_backend, engine_kwargs)\u001b[0m\n\u001b[0;32m    493\u001b[0m \u001b[38;5;28;01mif\u001b[39;00m \u001b[38;5;129;01mnot\u001b[39;00m \u001b[38;5;28misinstance\u001b[39m(io, ExcelFile):\n\u001b[0;32m    494\u001b[0m     should_close \u001b[38;5;241m=\u001b[39m \u001b[38;5;28;01mTrue\u001b[39;00m\n\u001b[1;32m--> 495\u001b[0m     io \u001b[38;5;241m=\u001b[39m \u001b[43mExcelFile\u001b[49m\u001b[43m(\u001b[49m\n\u001b[0;32m    496\u001b[0m \u001b[43m        \u001b[49m\u001b[43mio\u001b[49m\u001b[43m,\u001b[49m\n\u001b[0;32m    497\u001b[0m \u001b[43m        \u001b[49m\u001b[43mstorage_options\u001b[49m\u001b[38;5;241;43m=\u001b[39;49m\u001b[43mstorage_options\u001b[49m\u001b[43m,\u001b[49m\n\u001b[0;32m    498\u001b[0m \u001b[43m        \u001b[49m\u001b[43mengine\u001b[49m\u001b[38;5;241;43m=\u001b[39;49m\u001b[43mengine\u001b[49m\u001b[43m,\u001b[49m\n\u001b[0;32m    499\u001b[0m \u001b[43m        \u001b[49m\u001b[43mengine_kwargs\u001b[49m\u001b[38;5;241;43m=\u001b[39;49m\u001b[43mengine_kwargs\u001b[49m\u001b[43m,\u001b[49m\n\u001b[0;32m    500\u001b[0m \u001b[43m    \u001b[49m\u001b[43m)\u001b[49m\n\u001b[0;32m    501\u001b[0m \u001b[38;5;28;01melif\u001b[39;00m engine \u001b[38;5;129;01mand\u001b[39;00m engine \u001b[38;5;241m!=\u001b[39m io\u001b[38;5;241m.\u001b[39mengine:\n\u001b[0;32m    502\u001b[0m     \u001b[38;5;28;01mraise\u001b[39;00m \u001b[38;5;167;01mValueError\u001b[39;00m(\n\u001b[0;32m    503\u001b[0m         \u001b[38;5;124m\"\u001b[39m\u001b[38;5;124mEngine should not be specified when passing \u001b[39m\u001b[38;5;124m\"\u001b[39m\n\u001b[0;32m    504\u001b[0m         \u001b[38;5;124m\"\u001b[39m\u001b[38;5;124man ExcelFile - ExcelFile already has the engine set\u001b[39m\u001b[38;5;124m\"\u001b[39m\n\u001b[0;32m    505\u001b[0m     )\n",
      "File \u001b[1;32m~\\anaconda3\\lib\\site-packages\\pandas\\io\\excel\\_base.py:1550\u001b[0m, in \u001b[0;36mExcelFile.__init__\u001b[1;34m(self, path_or_buffer, engine, storage_options, engine_kwargs)\u001b[0m\n\u001b[0;32m   1548\u001b[0m     ext \u001b[38;5;241m=\u001b[39m \u001b[38;5;124m\"\u001b[39m\u001b[38;5;124mxls\u001b[39m\u001b[38;5;124m\"\u001b[39m\n\u001b[0;32m   1549\u001b[0m \u001b[38;5;28;01melse\u001b[39;00m:\n\u001b[1;32m-> 1550\u001b[0m     ext \u001b[38;5;241m=\u001b[39m \u001b[43minspect_excel_format\u001b[49m\u001b[43m(\u001b[49m\n\u001b[0;32m   1551\u001b[0m \u001b[43m        \u001b[49m\u001b[43mcontent_or_path\u001b[49m\u001b[38;5;241;43m=\u001b[39;49m\u001b[43mpath_or_buffer\u001b[49m\u001b[43m,\u001b[49m\u001b[43m \u001b[49m\u001b[43mstorage_options\u001b[49m\u001b[38;5;241;43m=\u001b[39;49m\u001b[43mstorage_options\u001b[49m\n\u001b[0;32m   1552\u001b[0m \u001b[43m    \u001b[49m\u001b[43m)\u001b[49m\n\u001b[0;32m   1553\u001b[0m     \u001b[38;5;28;01mif\u001b[39;00m ext \u001b[38;5;129;01mis\u001b[39;00m \u001b[38;5;28;01mNone\u001b[39;00m:\n\u001b[0;32m   1554\u001b[0m         \u001b[38;5;28;01mraise\u001b[39;00m \u001b[38;5;167;01mValueError\u001b[39;00m(\n\u001b[0;32m   1555\u001b[0m             \u001b[38;5;124m\"\u001b[39m\u001b[38;5;124mExcel file format cannot be determined, you must specify \u001b[39m\u001b[38;5;124m\"\u001b[39m\n\u001b[0;32m   1556\u001b[0m             \u001b[38;5;124m\"\u001b[39m\u001b[38;5;124man engine manually.\u001b[39m\u001b[38;5;124m\"\u001b[39m\n\u001b[0;32m   1557\u001b[0m         )\n",
      "File \u001b[1;32m~\\anaconda3\\lib\\site-packages\\pandas\\io\\excel\\_base.py:1402\u001b[0m, in \u001b[0;36minspect_excel_format\u001b[1;34m(content_or_path, storage_options)\u001b[0m\n\u001b[0;32m   1399\u001b[0m \u001b[38;5;28;01mif\u001b[39;00m \u001b[38;5;28misinstance\u001b[39m(content_or_path, \u001b[38;5;28mbytes\u001b[39m):\n\u001b[0;32m   1400\u001b[0m     content_or_path \u001b[38;5;241m=\u001b[39m BytesIO(content_or_path)\n\u001b[1;32m-> 1402\u001b[0m \u001b[38;5;28;01mwith\u001b[39;00m \u001b[43mget_handle\u001b[49m\u001b[43m(\u001b[49m\n\u001b[0;32m   1403\u001b[0m \u001b[43m    \u001b[49m\u001b[43mcontent_or_path\u001b[49m\u001b[43m,\u001b[49m\u001b[43m \u001b[49m\u001b[38;5;124;43m\"\u001b[39;49m\u001b[38;5;124;43mrb\u001b[39;49m\u001b[38;5;124;43m\"\u001b[39;49m\u001b[43m,\u001b[49m\u001b[43m \u001b[49m\u001b[43mstorage_options\u001b[49m\u001b[38;5;241;43m=\u001b[39;49m\u001b[43mstorage_options\u001b[49m\u001b[43m,\u001b[49m\u001b[43m \u001b[49m\u001b[43mis_text\u001b[49m\u001b[38;5;241;43m=\u001b[39;49m\u001b[38;5;28;43;01mFalse\u001b[39;49;00m\n\u001b[0;32m   1404\u001b[0m \u001b[43m\u001b[49m\u001b[43m)\u001b[49m \u001b[38;5;28;01mas\u001b[39;00m handle:\n\u001b[0;32m   1405\u001b[0m     stream \u001b[38;5;241m=\u001b[39m handle\u001b[38;5;241m.\u001b[39mhandle\n\u001b[0;32m   1406\u001b[0m     stream\u001b[38;5;241m.\u001b[39mseek(\u001b[38;5;241m0\u001b[39m)\n",
      "File \u001b[1;32m~\\anaconda3\\lib\\site-packages\\pandas\\io\\common.py:882\u001b[0m, in \u001b[0;36mget_handle\u001b[1;34m(path_or_buf, mode, encoding, compression, memory_map, is_text, errors, storage_options)\u001b[0m\n\u001b[0;32m    873\u001b[0m         handle \u001b[38;5;241m=\u001b[39m \u001b[38;5;28mopen\u001b[39m(\n\u001b[0;32m    874\u001b[0m             handle,\n\u001b[0;32m    875\u001b[0m             ioargs\u001b[38;5;241m.\u001b[39mmode,\n\u001b[1;32m   (...)\u001b[0m\n\u001b[0;32m    878\u001b[0m             newline\u001b[38;5;241m=\u001b[39m\u001b[38;5;124m\"\u001b[39m\u001b[38;5;124m\"\u001b[39m,\n\u001b[0;32m    879\u001b[0m         )\n\u001b[0;32m    880\u001b[0m     \u001b[38;5;28;01melse\u001b[39;00m:\n\u001b[0;32m    881\u001b[0m         \u001b[38;5;66;03m# Binary mode\u001b[39;00m\n\u001b[1;32m--> 882\u001b[0m         handle \u001b[38;5;241m=\u001b[39m \u001b[38;5;28;43mopen\u001b[39;49m\u001b[43m(\u001b[49m\u001b[43mhandle\u001b[49m\u001b[43m,\u001b[49m\u001b[43m \u001b[49m\u001b[43mioargs\u001b[49m\u001b[38;5;241;43m.\u001b[39;49m\u001b[43mmode\u001b[49m\u001b[43m)\u001b[49m\n\u001b[0;32m    883\u001b[0m     handles\u001b[38;5;241m.\u001b[39mappend(handle)\n\u001b[0;32m    885\u001b[0m \u001b[38;5;66;03m# Convert BytesIO or file objects passed with an encoding\u001b[39;00m\n",
      "\u001b[1;31mFileNotFoundError\u001b[0m: [Errno 2] No such file or directory: 'test_speeches/predictions/Speech_1_Obama__AI.xlsx'"
     ]
    }
   ],
   "source": [
    "file1 = \"test_speeches/predictions/Speech_1_Obama__AI.xlsx\"\n",
    "file2 = \"test_speeches/Speech_1_Obama_.xlsx\"\n",
    "\n",
    "\n",
    "compare(file1,file2)"
   ]
  },
  {
   "cell_type": "code",
   "execution_count": 47,
   "id": "9075ffd7",
   "metadata": {},
   "outputs": [],
   "source": [
    "files_AI = glob('test_speeches/predictions/*.xlsx')\n",
    "files_test = glob('test_speeches/*.xlsx')"
   ]
  },
  {
   "cell_type": "code",
   "execution_count": 48,
   "id": "b6b98bba",
   "metadata": {},
   "outputs": [
    {
     "data": {
      "text/plain": [
       "['test_speeches/predictions\\\\Coding_Differneces_103_AI.xlsx',\n",
       " 'test_speeches/predictions\\\\Coding_Differneces_110_AI.xlsx',\n",
       " 'test_speeches/predictions\\\\Coding_Differneces_118_AI.xlsx',\n",
       " 'test_speeches/predictions\\\\Coding_Differneces_134_AI.xlsx',\n",
       " 'test_speeches/predictions\\\\Coding_Differneces_140_AI.xlsx',\n",
       " 'test_speeches/predictions\\\\Coding_Differneces_150_AI.xlsx',\n",
       " 'test_speeches/predictions\\\\Coding_Differneces_4_AI.xlsx',\n",
       " 'test_speeches/predictions\\\\Coding_Differneces_5_AI.xlsx',\n",
       " 'test_speeches/predictions\\\\Speech_10_AI.xlsx',\n",
       " 'test_speeches/predictions\\\\Speech_1_Obama__AI.xlsx',\n",
       " 'test_speeches/predictions\\\\Speech_2_Maggie_Thatcher_AI.xlsx',\n",
       " 'test_speeches/predictions\\\\Speech_3_Testspeech_AI.xlsx',\n",
       " 'test_speeches/predictions\\\\Speech_4_AI.xlsx',\n",
       " 'test_speeches/predictions\\\\Speech_5_AI.xlsx',\n",
       " 'test_speeches/predictions\\\\Speech_6_AI.xlsx',\n",
       " 'test_speeches/predictions\\\\Speech_7_AI.xlsx',\n",
       " 'test_speeches/predictions\\\\Speech_8_AI.xlsx',\n",
       " 'test_speeches/predictions\\\\Speech_9_AI.xlsx']"
      ]
     },
     "execution_count": 48,
     "metadata": {},
     "output_type": "execute_result"
    }
   ],
   "source": [
    "files_AI.sort()\n",
    "files_AI"
   ]
  },
  {
   "cell_type": "code",
   "execution_count": 49,
   "id": "491e9a95",
   "metadata": {},
   "outputs": [
    {
     "data": {
      "text/plain": [
       "['test_speeches\\\\Coding_Differneces_103.xlsx',\n",
       " 'test_speeches\\\\Coding_Differneces_110.xlsx',\n",
       " 'test_speeches\\\\Coding_Differneces_118.xlsx',\n",
       " 'test_speeches\\\\Coding_Differneces_134.xlsx',\n",
       " 'test_speeches\\\\Coding_Differneces_140.xlsx',\n",
       " 'test_speeches\\\\Coding_Differneces_150.xlsx',\n",
       " 'test_speeches\\\\Coding_Differneces_4.xlsx',\n",
       " 'test_speeches\\\\Coding_Differneces_5.xlsx',\n",
       " 'test_speeches\\\\Speech_10.xlsx',\n",
       " 'test_speeches\\\\Speech_1_Obama_.xlsx',\n",
       " 'test_speeches\\\\Speech_2_Maggie_Thatcher.xlsx',\n",
       " 'test_speeches\\\\Speech_3_Testspeech.xlsx',\n",
       " 'test_speeches\\\\Speech_4.xlsx',\n",
       " 'test_speeches\\\\Speech_5.xlsx',\n",
       " 'test_speeches\\\\Speech_6.xlsx',\n",
       " 'test_speeches\\\\Speech_7.xlsx',\n",
       " 'test_speeches\\\\Speech_8.xlsx',\n",
       " 'test_speeches\\\\Speech_9.xlsx']"
      ]
     },
     "execution_count": 49,
     "metadata": {},
     "output_type": "execute_result"
    }
   ],
   "source": [
    "files_test.sort()\n",
    "files_test"
   ]
  },
  {
   "cell_type": "code",
   "execution_count": 51,
   "id": "3cce25ef",
   "metadata": {},
   "outputs": [
    {
     "name": "stdout",
     "output_type": "stream",
     "text": [
      "Index(['sentence', 'Metaphor/Simile', 'Rhetorical questions',\n",
      "       'Stories / anecdotes', 'Contrasts', 'Lists / Repetition ',\n",
      "       'Moral conviction', 'Sentiment of the collective',\n",
      "       'Ambitious goals / Setting high expectations', 'Confidence in goals'],\n",
      "      dtype='object')\n",
      "(252, 10)\n",
      "(252, 10)\n",
      "Differences saved in 'differences/Coding_Differneces_103.xlsx'.\n",
      "Index(['sentence', 'Metaphor/Simile', 'Rhetorical questions',\n",
      "       'Stories / anecdotes', 'Contrasts', 'Lists / Repetition ',\n",
      "       'Moral conviction', 'Sentiment of the collective',\n",
      "       'Ambitious goals / Setting high expectations', 'Confidence in goals'],\n",
      "      dtype='object')\n",
      "(343, 10)\n"
     ]
    },
    {
     "name": "stderr",
     "output_type": "stream",
     "text": [
      "C:\\Users\\felix\\AppData\\Local\\Temp\\ipykernel_16288\\2605245590.py:22: FutureWarning: Downcasting object dtype arrays on .fillna, .ffill, .bfill is deprecated and will change in a future version. Call result.infer_objects(copy=False) instead. To opt-in to the future behavior, set `pd.set_option('future.no_silent_downcasting', True)`\n",
      "  df2 = df2.fillna(0)\n"
     ]
    },
    {
     "name": "stdout",
     "output_type": "stream",
     "text": [
      "(343, 10)\n",
      "Differences saved in 'differences/Coding_Differneces_110.xlsx'.\n",
      "Index(['sentence', 'Metaphor/Simile', 'Rhetorical questions',\n",
      "       'Stories / anecdotes', 'Contrasts', 'Lists / Repetition ',\n",
      "       'Moral conviction', 'Sentiment of the collective',\n",
      "       'Ambitious goals / Setting high expectations', 'Confidence in goals'],\n",
      "      dtype='object')\n",
      "(96, 10)\n",
      "(96, 10)\n"
     ]
    },
    {
     "name": "stderr",
     "output_type": "stream",
     "text": [
      "C:\\Users\\felix\\AppData\\Local\\Temp\\ipykernel_16288\\2605245590.py:22: FutureWarning: Downcasting object dtype arrays on .fillna, .ffill, .bfill is deprecated and will change in a future version. Call result.infer_objects(copy=False) instead. To opt-in to the future behavior, set `pd.set_option('future.no_silent_downcasting', True)`\n",
      "  df2 = df2.fillna(0)\n",
      "C:\\Users\\felix\\AppData\\Local\\Temp\\ipykernel_16288\\2605245590.py:22: FutureWarning: Downcasting object dtype arrays on .fillna, .ffill, .bfill is deprecated and will change in a future version. Call result.infer_objects(copy=False) instead. To opt-in to the future behavior, set `pd.set_option('future.no_silent_downcasting', True)`\n",
      "  df2 = df2.fillna(0)\n"
     ]
    },
    {
     "name": "stdout",
     "output_type": "stream",
     "text": [
      "Differences saved in 'differences/Coding_Differneces_118.xlsx'.\n",
      "Index(['sentence', 'Metaphor/Simile', 'Rhetorical questions',\n",
      "       'Stories / anecdotes', 'Contrasts', 'Lists / Repetition ',\n",
      "       'Moral conviction', 'Sentiment of the collective',\n",
      "       'Ambitious goals / Setting high expectations', 'Confidence in goals'],\n",
      "      dtype='object')\n",
      "(51, 10)\n",
      "(51, 10)\n",
      "Differences saved in 'differences/Coding_Differneces_134.xlsx'.\n",
      "Index(['sentence', 'Metaphor/Simile', 'Rhetorical questions',\n",
      "       'Stories / anecdotes', 'Contrasts', 'Lists / Repetition ',\n",
      "       'Moral conviction', 'Sentiment of the collective',\n",
      "       'Ambitious goals / Setting high expectations', 'Confidence in goals'],\n",
      "      dtype='object')\n",
      "(77, 10)\n",
      "(77, 10)\n"
     ]
    },
    {
     "name": "stderr",
     "output_type": "stream",
     "text": [
      "C:\\Users\\felix\\AppData\\Local\\Temp\\ipykernel_16288\\2605245590.py:22: FutureWarning: Downcasting object dtype arrays on .fillna, .ffill, .bfill is deprecated and will change in a future version. Call result.infer_objects(copy=False) instead. To opt-in to the future behavior, set `pd.set_option('future.no_silent_downcasting', True)`\n",
      "  df2 = df2.fillna(0)\n",
      "C:\\Users\\felix\\AppData\\Local\\Temp\\ipykernel_16288\\2605245590.py:22: FutureWarning: Downcasting object dtype arrays on .fillna, .ffill, .bfill is deprecated and will change in a future version. Call result.infer_objects(copy=False) instead. To opt-in to the future behavior, set `pd.set_option('future.no_silent_downcasting', True)`\n",
      "  df2 = df2.fillna(0)\n"
     ]
    },
    {
     "name": "stdout",
     "output_type": "stream",
     "text": [
      "Differences saved in 'differences/Coding_Differneces_140.xlsx'.\n",
      "Index(['sentence', 'Metaphor/Simile', 'Rhetorical questions',\n",
      "       'Stories / anecdotes', 'Contrasts', 'Lists / Repetition ',\n",
      "       'Moral conviction', 'Sentiment of the collective',\n",
      "       'Ambitious goals / Setting high expectations', 'Confidence in goals'],\n",
      "      dtype='object')\n",
      "(74, 10)\n",
      "(74, 10)\n",
      "Differences saved in 'differences/Coding_Differneces_150.xlsx'.\n"
     ]
    },
    {
     "name": "stderr",
     "output_type": "stream",
     "text": [
      "C:\\Users\\felix\\AppData\\Local\\Temp\\ipykernel_16288\\2605245590.py:22: FutureWarning: Downcasting object dtype arrays on .fillna, .ffill, .bfill is deprecated and will change in a future version. Call result.infer_objects(copy=False) instead. To opt-in to the future behavior, set `pd.set_option('future.no_silent_downcasting', True)`\n",
      "  df2 = df2.fillna(0)\n"
     ]
    },
    {
     "name": "stdout",
     "output_type": "stream",
     "text": [
      "Index(['sentence', 'Metaphor/Simile', 'Rhetorical questions',\n",
      "       'Stories / anecdotes', 'Contrasts', 'Lists / Repetition ',\n",
      "       'Moral conviction', 'Sentiment of the collective',\n",
      "       'Ambitious goals / Setting high expectations', 'Confidence in goals'],\n",
      "      dtype='object')\n",
      "(225, 10)\n",
      "(225, 10)\n",
      "Differences saved in 'differences/Coding_Differneces_4.xlsx'.\n",
      "Index(['sentence', 'Metaphor/Simile', 'Rhetorical questions',\n",
      "       'Stories / anecdotes', 'Contrasts', 'Lists / Repetition ',\n",
      "       'Moral conviction', 'Sentiment of the collective',\n",
      "       'Ambitious goals / Setting high expectations', 'Confidence in goals'],\n",
      "      dtype='object')\n",
      "(265, 10)\n"
     ]
    },
    {
     "name": "stderr",
     "output_type": "stream",
     "text": [
      "C:\\Users\\felix\\AppData\\Local\\Temp\\ipykernel_16288\\2605245590.py:22: FutureWarning: Downcasting object dtype arrays on .fillna, .ffill, .bfill is deprecated and will change in a future version. Call result.infer_objects(copy=False) instead. To opt-in to the future behavior, set `pd.set_option('future.no_silent_downcasting', True)`\n",
      "  df2 = df2.fillna(0)\n",
      "C:\\Users\\felix\\AppData\\Local\\Temp\\ipykernel_16288\\2605245590.py:22: FutureWarning: Downcasting object dtype arrays on .fillna, .ffill, .bfill is deprecated and will change in a future version. Call result.infer_objects(copy=False) instead. To opt-in to the future behavior, set `pd.set_option('future.no_silent_downcasting', True)`\n",
      "  df2 = df2.fillna(0)\n"
     ]
    },
    {
     "name": "stdout",
     "output_type": "stream",
     "text": [
      "(265, 10)\n",
      "Differences saved in 'differences/Coding_Differneces_5.xlsx'.\n",
      "Index(['sentence', 'Metaphor/Simile', 'Rhetorical questions',\n",
      "       'Stories / anecdotes', 'Contrasts', 'Lists / Repetition ',\n",
      "       'Moral conviction', 'Sentiment of the collective',\n",
      "       'Ambitious goals / Setting high expectations', 'Confidence in goals'],\n",
      "      dtype='object')\n",
      "(29, 10)\n",
      "(29, 10)\n",
      "Differences saved in 'differences/Speech_10.xlsx'.\n",
      "Index(['sentence', 'Metaphor/Simile', 'Rhetorical questions',\n",
      "       'Stories / anecdotes', 'Contrasts', 'Lists / Repetition ',\n",
      "       'Moral conviction', 'Sentiment of the collective',\n",
      "       'Ambitious goals / Setting high expectations', 'Confidence in goals'],\n",
      "      dtype='object')\n",
      "(9, 10)\n"
     ]
    },
    {
     "name": "stderr",
     "output_type": "stream",
     "text": [
      "C:\\Users\\felix\\AppData\\Local\\Temp\\ipykernel_16288\\2605245590.py:22: FutureWarning: Downcasting object dtype arrays on .fillna, .ffill, .bfill is deprecated and will change in a future version. Call result.infer_objects(copy=False) instead. To opt-in to the future behavior, set `pd.set_option('future.no_silent_downcasting', True)`\n",
      "  df2 = df2.fillna(0)\n",
      "C:\\Users\\felix\\AppData\\Local\\Temp\\ipykernel_16288\\2605245590.py:22: FutureWarning: Downcasting object dtype arrays on .fillna, .ffill, .bfill is deprecated and will change in a future version. Call result.infer_objects(copy=False) instead. To opt-in to the future behavior, set `pd.set_option('future.no_silent_downcasting', True)`\n",
      "  df2 = df2.fillna(0)\n",
      "C:\\Users\\felix\\AppData\\Local\\Temp\\ipykernel_16288\\2605245590.py:22: FutureWarning: Downcasting object dtype arrays on .fillna, .ffill, .bfill is deprecated and will change in a future version. Call result.infer_objects(copy=False) instead. To opt-in to the future behavior, set `pd.set_option('future.no_silent_downcasting', True)`\n",
      "  df2 = df2.fillna(0)\n"
     ]
    },
    {
     "name": "stdout",
     "output_type": "stream",
     "text": [
      "(9, 10)\n",
      "Differences saved in 'differences/Speech_1_Obama_.xlsx'.\n",
      "Index(['sentence', 'Metaphor/Simile', 'Rhetorical questions',\n",
      "       'Stories / anecdotes', 'Contrasts', 'Lists / Repetition ',\n",
      "       'Moral conviction', 'Sentiment of the collective',\n",
      "       'Ambitious goals / Setting high expectations', 'Confidence in goals'],\n",
      "      dtype='object')\n",
      "(16, 10)\n",
      "(16, 10)\n",
      "Differences saved in 'differences/Speech_2_Maggie_Thatcher.xlsx'.\n",
      "Index(['sentence', 'Metaphor/Simile', 'Rhetorical questions',\n",
      "       'Stories / anecdotes', 'Contrasts', 'Lists / Repetition ',\n",
      "       'Moral conviction', 'Sentiment of the collective',\n",
      "       'Ambitious goals / Setting high expectations', 'Confidence in goals'],\n",
      "      dtype='object')\n",
      "(193, 10)\n",
      "(193, 10)\n"
     ]
    },
    {
     "name": "stderr",
     "output_type": "stream",
     "text": [
      "C:\\Users\\felix\\AppData\\Local\\Temp\\ipykernel_16288\\2605245590.py:22: FutureWarning: Downcasting object dtype arrays on .fillna, .ffill, .bfill is deprecated and will change in a future version. Call result.infer_objects(copy=False) instead. To opt-in to the future behavior, set `pd.set_option('future.no_silent_downcasting', True)`\n",
      "  df2 = df2.fillna(0)\n",
      "C:\\Users\\felix\\AppData\\Local\\Temp\\ipykernel_16288\\2605245590.py:22: FutureWarning: Downcasting object dtype arrays on .fillna, .ffill, .bfill is deprecated and will change in a future version. Call result.infer_objects(copy=False) instead. To opt-in to the future behavior, set `pd.set_option('future.no_silent_downcasting', True)`\n",
      "  df2 = df2.fillna(0)\n",
      "C:\\Users\\felix\\AppData\\Local\\Temp\\ipykernel_16288\\2605245590.py:22: FutureWarning: Downcasting object dtype arrays on .fillna, .ffill, .bfill is deprecated and will change in a future version. Call result.infer_objects(copy=False) instead. To opt-in to the future behavior, set `pd.set_option('future.no_silent_downcasting', True)`\n",
      "  df2 = df2.fillna(0)\n"
     ]
    },
    {
     "name": "stdout",
     "output_type": "stream",
     "text": [
      "Differences saved in 'differences/Speech_3_Testspeech.xlsx'.\n",
      "Index(['sentence', 'Metaphor/Simile', 'Rhetorical questions',\n",
      "       'Stories / anecdotes', 'Contrasts', 'Lists / Repetition ',\n",
      "       'Moral conviction', 'Sentiment of the collective',\n",
      "       'Ambitious goals / Setting high expectations', 'Confidence in goals'],\n",
      "      dtype='object')\n",
      "(14, 10)\n",
      "(14, 10)\n",
      "Differences saved in 'differences/Speech_4.xlsx'.\n",
      "Index(['sentence', 'Metaphor/Simile', 'Rhetorical questions',\n",
      "       'Stories / anecdotes', 'Contrasts', 'Lists / Repetition ',\n",
      "       'Moral conviction', 'Sentiment of the collective',\n",
      "       'Ambitious goals / Setting high expectations', 'Confidence in goals'],\n",
      "      dtype='object')\n",
      "(54, 10)\n",
      "(54, 10)\n",
      "Differences saved in 'differences/Speech_5.xlsx'.\n",
      "Index(['sentence', 'Metaphor/Simile', 'Rhetorical questions',\n",
      "       'Stories / anecdotes', 'Contrasts', 'Lists / Repetition ',\n",
      "       'Moral conviction', 'Sentiment of the collective',\n",
      "       'Ambitious goals / Setting high expectations', 'Confidence in goals'],\n",
      "      dtype='object')\n",
      "(39, 10)\n",
      "(39, 10)\n"
     ]
    },
    {
     "name": "stderr",
     "output_type": "stream",
     "text": [
      "C:\\Users\\felix\\AppData\\Local\\Temp\\ipykernel_16288\\2605245590.py:22: FutureWarning: Downcasting object dtype arrays on .fillna, .ffill, .bfill is deprecated and will change in a future version. Call result.infer_objects(copy=False) instead. To opt-in to the future behavior, set `pd.set_option('future.no_silent_downcasting', True)`\n",
      "  df2 = df2.fillna(0)\n",
      "C:\\Users\\felix\\AppData\\Local\\Temp\\ipykernel_16288\\2605245590.py:22: FutureWarning: Downcasting object dtype arrays on .fillna, .ffill, .bfill is deprecated and will change in a future version. Call result.infer_objects(copy=False) instead. To opt-in to the future behavior, set `pd.set_option('future.no_silent_downcasting', True)`\n",
      "  df2 = df2.fillna(0)\n",
      "C:\\Users\\felix\\AppData\\Local\\Temp\\ipykernel_16288\\2605245590.py:22: FutureWarning: Downcasting object dtype arrays on .fillna, .ffill, .bfill is deprecated and will change in a future version. Call result.infer_objects(copy=False) instead. To opt-in to the future behavior, set `pd.set_option('future.no_silent_downcasting', True)`\n",
      "  df2 = df2.fillna(0)\n"
     ]
    },
    {
     "name": "stdout",
     "output_type": "stream",
     "text": [
      "Differences saved in 'differences/Speech_6.xlsx'.\n",
      "Index(['sentence', 'Metaphor/Simile', 'Rhetorical questions',\n",
      "       'Stories / anecdotes', 'Contrasts', 'Lists / Repetition ',\n",
      "       'Moral conviction', 'Sentiment of the collective',\n",
      "       'Ambitious goals / Setting high expectations', 'Confidence in goals'],\n",
      "      dtype='object')\n",
      "(29, 10)\n",
      "(29, 10)\n",
      "Differences saved in 'differences/Speech_7.xlsx'.\n",
      "Index(['sentence', 'Metaphor/Simile', 'Rhetorical questions',\n",
      "       'Stories / anecdotes', 'Contrasts', 'Lists / Repetition ',\n",
      "       'Moral conviction', 'Sentiment of the collective',\n",
      "       'Ambitious goals / Setting high expectations', 'Confidence in goals'],\n",
      "      dtype='object')\n",
      "(29, 10)\n",
      "(29, 10)\n",
      "Differences saved in 'differences/Speech_8.xlsx'.\n",
      "Index(['sentence', 'Metaphor/Simile', 'Rhetorical questions',\n",
      "       'Stories / anecdotes', 'Contrasts', 'Lists / Repetition ',\n",
      "       'Moral conviction', 'Sentiment of the collective',\n",
      "       'Ambitious goals / Setting high expectations', 'Confidence in goals'],\n",
      "      dtype='object')\n",
      "(29, 10)\n",
      "(29, 10)\n",
      "Differences saved in 'differences/Speech_9.xlsx'.\n"
     ]
    },
    {
     "name": "stderr",
     "output_type": "stream",
     "text": [
      "C:\\Users\\felix\\AppData\\Local\\Temp\\ipykernel_16288\\2605245590.py:22: FutureWarning: Downcasting object dtype arrays on .fillna, .ffill, .bfill is deprecated and will change in a future version. Call result.infer_objects(copy=False) instead. To opt-in to the future behavior, set `pd.set_option('future.no_silent_downcasting', True)`\n",
      "  df2 = df2.fillna(0)\n"
     ]
    }
   ],
   "source": [
    "files = tuple(zip(files_AI,files_test))\n",
    "for f in files:\n",
    "    compare(*f)"
   ]
  },
  {
   "cell_type": "code",
   "execution_count": null,
   "id": "397615d5",
   "metadata": {},
   "outputs": [],
   "source": []
  },
  {
   "cell_type": "code",
   "execution_count": null,
   "id": "d6711b34",
   "metadata": {},
   "outputs": [],
   "source": []
  }
 ],
 "metadata": {
  "kernelspec": {
   "display_name": "Python 3 (ipykernel)",
   "language": "python",
   "name": "python3"
  },
  "language_info": {
   "codemirror_mode": {
    "name": "ipython",
    "version": 3
   },
   "file_extension": ".py",
   "mimetype": "text/x-python",
   "name": "python",
   "nbconvert_exporter": "python",
   "pygments_lexer": "ipython3",
   "version": "3.9.17"
  }
 },
 "nbformat": 4,
 "nbformat_minor": 5
}
