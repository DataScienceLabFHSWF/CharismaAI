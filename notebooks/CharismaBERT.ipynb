{
 "cells": [
  {
   "cell_type": "code",
   "execution_count": 1,
   "id": "61691c77",
   "metadata": {},
   "outputs": [],
   "source": [
    "import pandas as pd\n",
    "import os\n",
    "from glob import glob"
   ]
  },
  {
   "cell_type": "code",
   "execution_count": 2,
   "id": "989aa90f",
   "metadata": {},
   "outputs": [
    {
     "name": "stdout",
     "output_type": "stream",
     "text": [
      "There are 1 GPU(s) available.\n",
      "We will use the GPU: NVIDIA GeForce RTX 3060\n"
     ]
    }
   ],
   "source": [
    "import torch\n",
    "# If there's a GPU available...\n",
    "if torch.cuda.is_available():    \n",
    "    # Tell PyTorch to use the GPU.    \n",
    "    device = torch.device(\"cuda:0\")\n",
    "    print('There are %d GPU(s) available.' % torch.cuda.device_count())\n",
    "    print('We will use the GPU:', torch.cuda.get_device_name(0))\n",
    "# If not...\n",
    "else:\n",
    "    print('No GPU available, using the CPU instead.')\n",
    "    device = torch.device(\"cpu\")"
   ]
  },
  {
   "cell_type": "code",
   "execution_count": null,
   "id": "7544d5e8",
   "metadata": {},
   "outputs": [],
   "source": [
    "# read corpora\n",
    "ambitious = pd.read_csv('../corpora/ambitious_goals.csv')\n",
    "confidence = pd.read_csv('../corpora/confidence_in_goals.csv')\n",
    "contrast = pd.read_csv('../corpora/contrast.csv')\n",
    "lists = glob('raw/Lists*')\n",
    "similie = glob('raw/Metaphor*')\n",
    "rhetoricalq = glob('raw/Rhe*')\n",
    "sentiment = glob('raw/Sentiment*')\n",
    "story = glob('raw/Story*')\n",
    "vua_metaphor = pd.read_csv('../corpora/vua_metaphor.csv')\n",
    "vua_metaphor = vua_metaphor[['sentence', 'label']].rename(columns={'label':'Metaphor'})\n",
    "vua_metaphor"
   ]
  }
 ],
 "metadata": {
  "kernelspec": {
   "display_name": "Python 3 (ipykernel)",
   "language": "python",
   "name": "python3"
  },
  "language_info": {
   "codemirror_mode": {
    "name": "ipython",
    "version": 3
   },
   "file_extension": ".py",
   "mimetype": "text/x-python",
   "name": "python",
   "nbconvert_exporter": "python",
   "pygments_lexer": "ipython3",
   "version": "3.9.17"
  }
 },
 "nbformat": 4,
 "nbformat_minor": 5
}
