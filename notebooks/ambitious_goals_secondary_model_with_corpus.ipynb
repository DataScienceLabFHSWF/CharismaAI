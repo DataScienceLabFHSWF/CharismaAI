{
 "cells": [
  {
   "cell_type": "code",
   "execution_count": 1,
   "metadata": {
    "id": "BSsd_sVvA7uf"
   },
   "outputs": [],
   "source": [
    "import pandas as pd\n",
    "import os\n",
    "from glob import glob"
   ]
  },
  {
   "cell_type": "markdown",
   "metadata": {
    "id": "ZpNvv6d6mCPS"
   },
   "source": [
    "# GPU config"
   ]
  },
  {
   "cell_type": "code",
   "execution_count": 2,
   "metadata": {
    "colab": {
     "base_uri": "https://localhost:8080/"
    },
    "id": "H70mg_nVmEcq",
    "outputId": "2cc95e9f-2edf-4520-ac47-91c67abbcbbd"
   },
   "outputs": [
    {
     "name": "stdout",
     "output_type": "stream",
     "text": [
      "There are 2 GPU(s) available.\n",
      "We will use the GPU: NVIDIA A100-PCIE-40GB\n"
     ]
    }
   ],
   "source": [
    "import torch\n",
    "# If there's a GPU available...\n",
    "if torch.cuda.is_available():    \n",
    "    # Tell PyTorch to use the GPU.    \n",
    "    device = torch.device(\"cuda:0\")\n",
    "    print('There are %d GPU(s) available.' % torch.cuda.device_count())\n",
    "    print('We will use the GPU:', torch.cuda.get_device_name(0))\n",
    "# If not...\n",
    "else:\n",
    "    print('No GPU available, using the CPU instead.')\n",
    "    device = torch.device(\"cpu\")"
   ]
  },
  {
   "cell_type": "markdown",
   "metadata": {
    "id": "qEb50x7Y_1FZ"
   },
   "source": [
    "# Load Data"
   ]
  },
  {
   "cell_type": "code",
   "execution_count": 3,
   "metadata": {},
   "outputs": [
    {
     "name": "stdout",
     "output_type": "stream",
     "text": [
      "['../coded_speeches/108_ak.xlsx', '../coded_speeches/108_ln.xlsx', '../coded_speeches/10_ak.xlsx', '../coded_speeches/10_ln.xlsx', '../coded_speeches/112_ln.xlsx', '../coded_speeches/114_ln.xlsx', '../coded_speeches/137_ak.xlsx', '../coded_speeches/137_ln.xlsx', '../coded_speeches/138_ak.xlsx', '../coded_speeches/138_ln.xlsx', '../coded_speeches/139_ak.xlsx', '../coded_speeches/139_ln.xlsx', '../coded_speeches/140_ak.xlsx', '../coded_speeches/140_ln.xlsx', '../coded_speeches/142_ak.xlsx', '../coded_speeches/142_ln.xlsx', '../coded_speeches/143_ak.xlsx', '../coded_speeches/143_ln.xlsx', '../coded_speeches/144_ak.xlsx', '../coded_speeches/144_ln.xlsx', '../coded_speeches/145_ak.xlsx', '../coded_speeches/145_ln.xlsx', '../coded_speeches/14_ak.xlsx', '../coded_speeches/14_ln.xlsx', '../coded_speeches/150_ak.xlsx', '../coded_speeches/150_ln.xlsx', '../coded_speeches/152_ak.xlsx', '../coded_speeches/152_ln.xlsx', '../coded_speeches/153_ak.xlsx', '../coded_speeches/153_ln.xlsx', '../coded_speeches/154_ak.xlsx', '../coded_speeches/154_ln.xlsx', '../coded_speeches/155_ak.xlsx', '../coded_speeches/155_ln.xlsx', '../coded_speeches/156_ak.xlsx', '../coded_speeches/156_ln.xlsx', '../coded_speeches/157_ak.xlsx', '../coded_speeches/157_ln.xlsx', '../coded_speeches/158_ak.xlsx', '../coded_speeches/158_ln.xlsx', '../coded_speeches/15_ak.xlsx', '../coded_speeches/15_ln.xlsx', '../coded_speeches/163_ak.xlsx', '../coded_speeches/163_ln.xlsx', '../coded_speeches/164_ak.xlsx', '../coded_speeches/164_ln.xlsx', '../coded_speeches/19_ak.xlsx', '../coded_speeches/19_ln.xlsx', '../coded_speeches/1_ln.xlsx', '../coded_speeches/21_ak.xlsx', '../coded_speeches/21_ln.xlsx', '../coded_speeches/23_ak.xlsx', '../coded_speeches/23_ln.xlsx', '../coded_speeches/24_ak.xlsx', '../coded_speeches/24_ln.xlsx', '../coded_speeches/25_ak.xlsx', '../coded_speeches/25_ln.xlsx', '../coded_speeches/27_ak.xlsx', '../coded_speeches/27_ln.xlsx', '../coded_speeches/2_ln.xlsx', '../coded_speeches/30B_ak.xlsx', '../coded_speeches/30B_ln.xlsx', '../coded_speeches/31_ak.xlsx', '../coded_speeches/31_ln.xlsx', '../coded_speeches/32_ak.xlsx', '../coded_speeches/32_ln.xlsx', '../coded_speeches/34_ak.xlsx', '../coded_speeches/34_ln.xlsx', '../coded_speeches/44_ak.xlsx', '../coded_speeches/44_ln.xlsx', '../coded_speeches/49_ak.xlsx', '../coded_speeches/49_ln.xlsx', '../coded_speeches/50_ak.xlsx', '../coded_speeches/50_ln.xlsx', '../coded_speeches/55_ak.xlsx', '../coded_speeches/55_ln.xlsx', '../coded_speeches/56A_ak.xlsx', '../coded_speeches/56A_ln.xlsx', '../coded_speeches/56B_ak.xlsx', '../coded_speeches/56B_ln.xlsx', '../coded_speeches/57_ak.xlsx', '../coded_speeches/57_ln.xlsx', '../coded_speeches/58_ak.xlsx', '../coded_speeches/58_ln.xlsx', '../coded_speeches/59_ak.xlsx', '../coded_speeches/59_ln.xlsx', '../coded_speeches/5_ln.xlsx', '../coded_speeches/6_ln.xlsx', '../coded_speeches/70_ak.xlsx', '../coded_speeches/70_ln.xlsx', '../coded_speeches/77_ak.xlsx', '../coded_speeches/77_ln.xlsx', '../coded_speeches/7_ln.xlsx', '../coded_speeches/84_ak.xlsx', '../coded_speeches/84_ln.xlsx', '../coded_speeches/85_ak.xlsx', '../coded_speeches/85_ln.xlsx', '../coded_speeches/8_ak.xlsx', '../coded_speeches/8_ln.xlsx', '../coded_speeches/96_ak.xlsx', '../coded_speeches/96_ln.xlsx', '../coded_speeches/99_ak.xlsx', '../coded_speeches/99_ln.xlsx', '../coded_speeches/9_ak.xlsx', '../coded_speeches/9_ln.xlsx']\n"
     ]
    }
   ],
   "source": [
    "path = '../coded_speeches/'\n",
    "files = sorted(glob(path+'*.xlsx'))\n",
    "print(files)\n"
   ]
  },
  {
   "cell_type": "code",
   "execution_count": 4,
   "metadata": {},
   "outputs": [
    {
     "name": "stdout",
     "output_type": "stream",
     "text": [
      "Index(['sentence', 'Metaphor/Similie', 'Rhetorical question', 'Story/Anecdote',\n",
      "       'Contrast', 'Lists/Repetitions', 'Sentiment of the Collective',\n",
      "       'Moral Conviction', 'Ambitious goals', 'Confidence in goals'],\n",
      "      dtype='object')\n"
     ]
    },
    {
     "data": {
      "text/html": [
       "<div>\n",
       "<style scoped>\n",
       "    .dataframe tbody tr th:only-of-type {\n",
       "        vertical-align: middle;\n",
       "    }\n",
       "\n",
       "    .dataframe tbody tr th {\n",
       "        vertical-align: top;\n",
       "    }\n",
       "\n",
       "    .dataframe thead th {\n",
       "        text-align: right;\n",
       "    }\n",
       "</style>\n",
       "<table border=\"1\" class=\"dataframe\">\n",
       "  <thead>\n",
       "    <tr style=\"text-align: right;\">\n",
       "      <th></th>\n",
       "      <th>sentence</th>\n",
       "      <th>Ambitious goals</th>\n",
       "    </tr>\n",
       "  </thead>\n",
       "  <tbody>\n",
       "    <tr>\n",
       "      <th>0</th>\n",
       "      <td>Just as a conductor leads an orchestra, each s...</td>\n",
       "      <td>0.0</td>\n",
       "    </tr>\n",
       "    <tr>\n",
       "      <th>1</th>\n",
       "      <td>The figure of speech we find in these speeches...</td>\n",
       "      <td>0.0</td>\n",
       "    </tr>\n",
       "    <tr>\n",
       "      <th>2</th>\n",
       "      <td>Like an artist with a palette of colors, each ...</td>\n",
       "      <td>0.0</td>\n",
       "    </tr>\n",
       "    <tr>\n",
       "      <th>3</th>\n",
       "      <td>The figure of speech used by these individuals...</td>\n",
       "      <td>0.0</td>\n",
       "    </tr>\n",
       "    <tr>\n",
       "      <th>4</th>\n",
       "      <td>Just as a conductor leads an orchestra, each s...</td>\n",
       "      <td>0.0</td>\n",
       "    </tr>\n",
       "    <tr>\n",
       "      <th>...</th>\n",
       "      <td>...</td>\n",
       "      <td>...</td>\n",
       "    </tr>\n",
       "    <tr>\n",
       "      <th>124771</th>\n",
       "      <td>Aristotle said something very interesting in t...</td>\n",
       "      <td>0.0</td>\n",
       "    </tr>\n",
       "    <tr>\n",
       "      <th>124772</th>\n",
       "      <td>Aristotle said something very interesting in t...</td>\n",
       "      <td>0.0</td>\n",
       "    </tr>\n",
       "    <tr>\n",
       "      <th>124773</th>\n",
       "      <td>Aristotle said something very interesting in t...</td>\n",
       "      <td>0.0</td>\n",
       "    </tr>\n",
       "    <tr>\n",
       "      <th>124774</th>\n",
       "      <td>Aristotle said something very interesting in t...</td>\n",
       "      <td>0.0</td>\n",
       "    </tr>\n",
       "    <tr>\n",
       "      <th>124775</th>\n",
       "      <td>What did he mean ?</td>\n",
       "      <td>0.0</td>\n",
       "    </tr>\n",
       "  </tbody>\n",
       "</table>\n",
       "<p>124776 rows × 2 columns</p>\n",
       "</div>"
      ],
      "text/plain": [
       "                                                 sentence  Ambitious goals\n",
       "0       Just as a conductor leads an orchestra, each s...              0.0\n",
       "1       The figure of speech we find in these speeches...              0.0\n",
       "2       Like an artist with a palette of colors, each ...              0.0\n",
       "3       The figure of speech used by these individuals...              0.0\n",
       "4       Just as a conductor leads an orchestra, each s...              0.0\n",
       "...                                                   ...              ...\n",
       "124771  Aristotle said something very interesting in t...              0.0\n",
       "124772  Aristotle said something very interesting in t...              0.0\n",
       "124773  Aristotle said something very interesting in t...              0.0\n",
       "124774  Aristotle said something very interesting in t...              0.0\n",
       "124775                                 What did he mean ?              0.0\n",
       "\n",
       "[124776 rows x 2 columns]"
      ]
     },
     "execution_count": 4,
     "metadata": {},
     "output_type": "execute_result"
    }
   ],
   "source": [
    "# read vua_csv\n",
    "data = pd.read_csv('../corpora/generated_tactics.csv').drop(\"Unnamed: 0\", axis=1)\n",
    "#vua_metaphor = pd.read_csv('../corpora/vua_metaphor.csv')\n",
    "print(data.keys())\n",
    "rq= data[['sentence','Ambitious goals']]#.rename(columns={'label':'Metaphor'})\n",
    "rq"
   ]
  },
  {
   "cell_type": "code",
   "execution_count": 5,
   "metadata": {},
   "outputs": [
    {
     "name": "stdout",
     "output_type": "stream",
     "text": [
      "12\n"
     ]
    },
    {
     "data": {
      "text/html": [
       "<div>\n",
       "<style scoped>\n",
       "    .dataframe tbody tr th:only-of-type {\n",
       "        vertical-align: middle;\n",
       "    }\n",
       "\n",
       "    .dataframe tbody tr th {\n",
       "        vertical-align: top;\n",
       "    }\n",
       "\n",
       "    .dataframe thead th {\n",
       "        text-align: right;\n",
       "    }\n",
       "</style>\n",
       "<table border=\"1\" class=\"dataframe\">\n",
       "  <thead>\n",
       "    <tr style=\"text-align: right;\">\n",
       "      <th></th>\n",
       "      <th>sentence</th>\n",
       "      <th>Rhetorical question</th>\n",
       "      <th>Story/Anecdote</th>\n",
       "      <th>Contrast</th>\n",
       "      <th>Moral_conviction</th>\n",
       "      <th>Sentiment_of_the_collective</th>\n",
       "      <th>Setting_high_expectations</th>\n",
       "      <th>Confidence_in_goals</th>\n",
       "      <th>Metaphor/Similie</th>\n",
       "      <th>Lists/Repetitions</th>\n",
       "      <th>Ambitious goals</th>\n",
       "    </tr>\n",
       "  </thead>\n",
       "  <tbody>\n",
       "    <tr>\n",
       "      <th>0</th>\n",
       "      <td>All right, good afternoon everybody, and welco...</td>\n",
       "      <td>0.0</td>\n",
       "      <td>0.0</td>\n",
       "      <td>0.0</td>\n",
       "      <td>0.0</td>\n",
       "      <td>0.0</td>\n",
       "      <td>0.0</td>\n",
       "      <td>0.0</td>\n",
       "      <td>0.0</td>\n",
       "      <td>0.0</td>\n",
       "      <td>0.0</td>\n",
       "    </tr>\n",
       "    <tr>\n",
       "      <th>1</th>\n",
       "      <td>Im here with Paul Mounds and Roland Cook Ill i...</td>\n",
       "      <td>0.0</td>\n",
       "      <td>0.0</td>\n",
       "      <td>0.0</td>\n",
       "      <td>0.0</td>\n",
       "      <td>0.0</td>\n",
       "      <td>0.0</td>\n",
       "      <td>0.0</td>\n",
       "      <td>0.0</td>\n",
       "      <td>0.0</td>\n",
       "      <td>0.0</td>\n",
       "    </tr>\n",
       "    <tr>\n",
       "      <th>2</th>\n",
       "      <td>Just to give you our briefing.</td>\n",
       "      <td>0.0</td>\n",
       "      <td>0.0</td>\n",
       "      <td>0.0</td>\n",
       "      <td>0.0</td>\n",
       "      <td>0.0</td>\n",
       "      <td>0.0</td>\n",
       "      <td>0.0</td>\n",
       "      <td>0.0</td>\n",
       "      <td>0.0</td>\n",
       "      <td>0.0</td>\n",
       "    </tr>\n",
       "    <tr>\n",
       "      <th>3</th>\n",
       "      <td>First of all, in terms of where we are in the ...</td>\n",
       "      <td>0.0</td>\n",
       "      <td>0.0</td>\n",
       "      <td>0.0</td>\n",
       "      <td>0.0</td>\n",
       "      <td>0.0</td>\n",
       "      <td>0.0</td>\n",
       "      <td>0.0</td>\n",
       "      <td>0.0</td>\n",
       "      <td>0.0</td>\n",
       "      <td>0.0</td>\n",
       "    </tr>\n",
       "    <tr>\n",
       "      <th>4</th>\n",
       "      <td>Um, another 1200 people tested positive at a 3...</td>\n",
       "      <td>0.0</td>\n",
       "      <td>0.0</td>\n",
       "      <td>0.0</td>\n",
       "      <td>0.0</td>\n",
       "      <td>0.0</td>\n",
       "      <td>0.0</td>\n",
       "      <td>0.0</td>\n",
       "      <td>0.0</td>\n",
       "      <td>0.0</td>\n",
       "      <td>0.0</td>\n",
       "    </tr>\n",
       "    <tr>\n",
       "      <th>...</th>\n",
       "      <td>...</td>\n",
       "      <td>...</td>\n",
       "      <td>...</td>\n",
       "      <td>...</td>\n",
       "      <td>...</td>\n",
       "      <td>...</td>\n",
       "      <td>...</td>\n",
       "      <td>...</td>\n",
       "      <td>...</td>\n",
       "      <td>...</td>\n",
       "      <td>...</td>\n",
       "    </tr>\n",
       "    <tr>\n",
       "      <th>124771</th>\n",
       "      <td>Aristotle said something very interesting in t...</td>\n",
       "      <td>0.0</td>\n",
       "      <td>0.0</td>\n",
       "      <td>0.0</td>\n",
       "      <td>0.0</td>\n",
       "      <td>0.0</td>\n",
       "      <td>0.0</td>\n",
       "      <td>0.0</td>\n",
       "      <td>0.0</td>\n",
       "      <td>0.0</td>\n",
       "      <td>0.0</td>\n",
       "    </tr>\n",
       "    <tr>\n",
       "      <th>124772</th>\n",
       "      <td>Aristotle said something very interesting in t...</td>\n",
       "      <td>0.0</td>\n",
       "      <td>0.0</td>\n",
       "      <td>0.0</td>\n",
       "      <td>0.0</td>\n",
       "      <td>0.0</td>\n",
       "      <td>0.0</td>\n",
       "      <td>0.0</td>\n",
       "      <td>0.0</td>\n",
       "      <td>0.0</td>\n",
       "      <td>0.0</td>\n",
       "    </tr>\n",
       "    <tr>\n",
       "      <th>124773</th>\n",
       "      <td>Aristotle said something very interesting in t...</td>\n",
       "      <td>0.0</td>\n",
       "      <td>0.0</td>\n",
       "      <td>0.0</td>\n",
       "      <td>0.0</td>\n",
       "      <td>0.0</td>\n",
       "      <td>0.0</td>\n",
       "      <td>0.0</td>\n",
       "      <td>0.0</td>\n",
       "      <td>0.0</td>\n",
       "      <td>0.0</td>\n",
       "    </tr>\n",
       "    <tr>\n",
       "      <th>124774</th>\n",
       "      <td>Aristotle said something very interesting in t...</td>\n",
       "      <td>0.0</td>\n",
       "      <td>0.0</td>\n",
       "      <td>0.0</td>\n",
       "      <td>0.0</td>\n",
       "      <td>0.0</td>\n",
       "      <td>0.0</td>\n",
       "      <td>0.0</td>\n",
       "      <td>0.0</td>\n",
       "      <td>0.0</td>\n",
       "      <td>0.0</td>\n",
       "    </tr>\n",
       "    <tr>\n",
       "      <th>124775</th>\n",
       "      <td>What did he mean ?</td>\n",
       "      <td>0.0</td>\n",
       "      <td>0.0</td>\n",
       "      <td>0.0</td>\n",
       "      <td>0.0</td>\n",
       "      <td>0.0</td>\n",
       "      <td>0.0</td>\n",
       "      <td>0.0</td>\n",
       "      <td>0.0</td>\n",
       "      <td>0.0</td>\n",
       "      <td>0.0</td>\n",
       "    </tr>\n",
       "  </tbody>\n",
       "</table>\n",
       "<p>132400 rows × 11 columns</p>\n",
       "</div>"
      ],
      "text/plain": [
       "                                                 sentence  \\\n",
       "0       All right, good afternoon everybody, and welco...   \n",
       "1       Im here with Paul Mounds and Roland Cook Ill i...   \n",
       "2                          Just to give you our briefing.   \n",
       "3       First of all, in terms of where we are in the ...   \n",
       "4       Um, another 1200 people tested positive at a 3...   \n",
       "...                                                   ...   \n",
       "124771  Aristotle said something very interesting in t...   \n",
       "124772  Aristotle said something very interesting in t...   \n",
       "124773  Aristotle said something very interesting in t...   \n",
       "124774  Aristotle said something very interesting in t...   \n",
       "124775                                 What did he mean ?   \n",
       "\n",
       "        Rhetorical question  Story/Anecdote  Contrast  Moral_conviction  \\\n",
       "0                       0.0             0.0       0.0               0.0   \n",
       "1                       0.0             0.0       0.0               0.0   \n",
       "2                       0.0             0.0       0.0               0.0   \n",
       "3                       0.0             0.0       0.0               0.0   \n",
       "4                       0.0             0.0       0.0               0.0   \n",
       "...                     ...             ...       ...               ...   \n",
       "124771                  0.0             0.0       0.0               0.0   \n",
       "124772                  0.0             0.0       0.0               0.0   \n",
       "124773                  0.0             0.0       0.0               0.0   \n",
       "124774                  0.0             0.0       0.0               0.0   \n",
       "124775                  0.0             0.0       0.0               0.0   \n",
       "\n",
       "        Sentiment_of_the_collective  Setting_high_expectations  \\\n",
       "0                               0.0                        0.0   \n",
       "1                               0.0                        0.0   \n",
       "2                               0.0                        0.0   \n",
       "3                               0.0                        0.0   \n",
       "4                               0.0                        0.0   \n",
       "...                             ...                        ...   \n",
       "124771                          0.0                        0.0   \n",
       "124772                          0.0                        0.0   \n",
       "124773                          0.0                        0.0   \n",
       "124774                          0.0                        0.0   \n",
       "124775                          0.0                        0.0   \n",
       "\n",
       "        Confidence_in_goals  Metaphor/Similie  Lists/Repetitions  \\\n",
       "0                       0.0               0.0                0.0   \n",
       "1                       0.0               0.0                0.0   \n",
       "2                       0.0               0.0                0.0   \n",
       "3                       0.0               0.0                0.0   \n",
       "4                       0.0               0.0                0.0   \n",
       "...                     ...               ...                ...   \n",
       "124771                  0.0               0.0                0.0   \n",
       "124772                  0.0               0.0                0.0   \n",
       "124773                  0.0               0.0                0.0   \n",
       "124774                  0.0               0.0                0.0   \n",
       "124775                  0.0               0.0                0.0   \n",
       "\n",
       "        Ambitious goals  \n",
       "0                   0.0  \n",
       "1                   0.0  \n",
       "2                   0.0  \n",
       "3                   0.0  \n",
       "4                   0.0  \n",
       "...                 ...  \n",
       "124771              0.0  \n",
       "124772              0.0  \n",
       "124773              0.0  \n",
       "124774              0.0  \n",
       "124775              0.0  \n",
       "\n",
       "[132400 rows x 11 columns]"
      ]
     },
     "execution_count": 5,
     "metadata": {},
     "output_type": "execute_result"
    }
   ],
   "source": [
    "cols = pd.read_excel(files[1], skiprows=7).drop(columns=['Unnamed: 0']).columns\n",
    "print(len(cols))\n",
    "data = pd.DataFrame(columns=[*cols])\n",
    "\n",
    "temp_values = []\n",
    "for file in files:\n",
    "    temp = pd.read_excel(file, skiprows=7).drop(columns=['Unnamed: 0'])\n",
    "    temp_values.append(temp)\n",
    "    \n",
    "new_cols = dict(zip(cols, [\"sentence\",\"Metaphor\",\"Simile\",\"Rhetorical question\", 'Story/Anecdote', \"Contrast\", \"Lists\", \"Repetition\", \"Moral_conviction\", \"Sentiment_of_the_collective\", \"Setting_high_expectations\", \"Confidence_in_goals\"]))\n",
    "                    # ['sentence', 'metaphor', 'simile', 'question', 'reference', 'figure_of_speech', 'lists', 'repetition', 'personal_statement', 'value_statement', 'explicit_goal', 'believe_statement']))\n",
    "\n",
    "\n",
    "data = pd.concat(temp_values).rename(columns = new_cols).fillna(0)\n",
    "data['Metaphor/Similie'] = data[\"Metaphor\"].apply(int) | data[\"Simile\"].apply(int)\n",
    "data = data.drop(columns=['Metaphor', 'Simile'])\n",
    "data['Lists/Repetitions'] = data[\"Lists\"].apply(int) | data[\"Repetition\"].apply(int)\n",
    "data = data.drop(columns=['Lists', 'Repetition'])\n",
    "\n",
    "#append the corpus\n",
    "data = pd.concat([data,rq]).dropna(subset=['sentence']).fillna(0)\n",
    "data"
   ]
  },
  {
   "cell_type": "code",
   "execution_count": 6,
   "metadata": {},
   "outputs": [
    {
     "data": {
      "text/html": [
       "<div>\n",
       "<style scoped>\n",
       "    .dataframe tbody tr th:only-of-type {\n",
       "        vertical-align: middle;\n",
       "    }\n",
       "\n",
       "    .dataframe tbody tr th {\n",
       "        vertical-align: top;\n",
       "    }\n",
       "\n",
       "    .dataframe thead th {\n",
       "        text-align: right;\n",
       "    }\n",
       "</style>\n",
       "<table border=\"1\" class=\"dataframe\">\n",
       "  <thead>\n",
       "    <tr style=\"text-align: right;\">\n",
       "      <th></th>\n",
       "      <th>sentence</th>\n",
       "      <th>Rhetorical question</th>\n",
       "      <th>Story/Anecdote</th>\n",
       "      <th>Contrast</th>\n",
       "      <th>Moral_conviction</th>\n",
       "      <th>Sentiment_of_the_collective</th>\n",
       "      <th>Setting_high_expectations</th>\n",
       "      <th>Confidence_in_goals</th>\n",
       "      <th>Metaphor/Similie</th>\n",
       "      <th>Lists/Repetitions</th>\n",
       "      <th>Ambitious goals</th>\n",
       "      <th>label</th>\n",
       "    </tr>\n",
       "  </thead>\n",
       "  <tbody>\n",
       "    <tr>\n",
       "      <th>0</th>\n",
       "      <td>All right, good afternoon everybody, and welco...</td>\n",
       "      <td>0.0</td>\n",
       "      <td>0.0</td>\n",
       "      <td>0.0</td>\n",
       "      <td>0.0</td>\n",
       "      <td>0.0</td>\n",
       "      <td>0.0</td>\n",
       "      <td>0.0</td>\n",
       "      <td>0.0</td>\n",
       "      <td>0.0</td>\n",
       "      <td>0.0</td>\n",
       "      <td>0</td>\n",
       "    </tr>\n",
       "    <tr>\n",
       "      <th>1</th>\n",
       "      <td>Im here with Paul Mounds and Roland Cook Ill i...</td>\n",
       "      <td>0.0</td>\n",
       "      <td>0.0</td>\n",
       "      <td>0.0</td>\n",
       "      <td>0.0</td>\n",
       "      <td>0.0</td>\n",
       "      <td>0.0</td>\n",
       "      <td>0.0</td>\n",
       "      <td>0.0</td>\n",
       "      <td>0.0</td>\n",
       "      <td>0.0</td>\n",
       "      <td>0</td>\n",
       "    </tr>\n",
       "    <tr>\n",
       "      <th>2</th>\n",
       "      <td>Just to give you our briefing.</td>\n",
       "      <td>0.0</td>\n",
       "      <td>0.0</td>\n",
       "      <td>0.0</td>\n",
       "      <td>0.0</td>\n",
       "      <td>0.0</td>\n",
       "      <td>0.0</td>\n",
       "      <td>0.0</td>\n",
       "      <td>0.0</td>\n",
       "      <td>0.0</td>\n",
       "      <td>0.0</td>\n",
       "      <td>0</td>\n",
       "    </tr>\n",
       "    <tr>\n",
       "      <th>3</th>\n",
       "      <td>First of all, in terms of where we are in the ...</td>\n",
       "      <td>0.0</td>\n",
       "      <td>0.0</td>\n",
       "      <td>0.0</td>\n",
       "      <td>0.0</td>\n",
       "      <td>0.0</td>\n",
       "      <td>0.0</td>\n",
       "      <td>0.0</td>\n",
       "      <td>0.0</td>\n",
       "      <td>0.0</td>\n",
       "      <td>0.0</td>\n",
       "      <td>0</td>\n",
       "    </tr>\n",
       "    <tr>\n",
       "      <th>4</th>\n",
       "      <td>Um, another 1200 people tested positive at a 3...</td>\n",
       "      <td>0.0</td>\n",
       "      <td>0.0</td>\n",
       "      <td>0.0</td>\n",
       "      <td>0.0</td>\n",
       "      <td>0.0</td>\n",
       "      <td>0.0</td>\n",
       "      <td>0.0</td>\n",
       "      <td>0.0</td>\n",
       "      <td>0.0</td>\n",
       "      <td>0.0</td>\n",
       "      <td>0</td>\n",
       "    </tr>\n",
       "    <tr>\n",
       "      <th>...</th>\n",
       "      <td>...</td>\n",
       "      <td>...</td>\n",
       "      <td>...</td>\n",
       "      <td>...</td>\n",
       "      <td>...</td>\n",
       "      <td>...</td>\n",
       "      <td>...</td>\n",
       "      <td>...</td>\n",
       "      <td>...</td>\n",
       "      <td>...</td>\n",
       "      <td>...</td>\n",
       "      <td>...</td>\n",
       "    </tr>\n",
       "    <tr>\n",
       "      <th>124771</th>\n",
       "      <td>Aristotle said something very interesting in t...</td>\n",
       "      <td>0.0</td>\n",
       "      <td>0.0</td>\n",
       "      <td>0.0</td>\n",
       "      <td>0.0</td>\n",
       "      <td>0.0</td>\n",
       "      <td>0.0</td>\n",
       "      <td>0.0</td>\n",
       "      <td>0.0</td>\n",
       "      <td>0.0</td>\n",
       "      <td>0.0</td>\n",
       "      <td>0</td>\n",
       "    </tr>\n",
       "    <tr>\n",
       "      <th>124772</th>\n",
       "      <td>Aristotle said something very interesting in t...</td>\n",
       "      <td>0.0</td>\n",
       "      <td>0.0</td>\n",
       "      <td>0.0</td>\n",
       "      <td>0.0</td>\n",
       "      <td>0.0</td>\n",
       "      <td>0.0</td>\n",
       "      <td>0.0</td>\n",
       "      <td>0.0</td>\n",
       "      <td>0.0</td>\n",
       "      <td>0.0</td>\n",
       "      <td>0</td>\n",
       "    </tr>\n",
       "    <tr>\n",
       "      <th>124773</th>\n",
       "      <td>Aristotle said something very interesting in t...</td>\n",
       "      <td>0.0</td>\n",
       "      <td>0.0</td>\n",
       "      <td>0.0</td>\n",
       "      <td>0.0</td>\n",
       "      <td>0.0</td>\n",
       "      <td>0.0</td>\n",
       "      <td>0.0</td>\n",
       "      <td>0.0</td>\n",
       "      <td>0.0</td>\n",
       "      <td>0.0</td>\n",
       "      <td>0</td>\n",
       "    </tr>\n",
       "    <tr>\n",
       "      <th>124774</th>\n",
       "      <td>Aristotle said something very interesting in t...</td>\n",
       "      <td>0.0</td>\n",
       "      <td>0.0</td>\n",
       "      <td>0.0</td>\n",
       "      <td>0.0</td>\n",
       "      <td>0.0</td>\n",
       "      <td>0.0</td>\n",
       "      <td>0.0</td>\n",
       "      <td>0.0</td>\n",
       "      <td>0.0</td>\n",
       "      <td>0.0</td>\n",
       "      <td>0</td>\n",
       "    </tr>\n",
       "    <tr>\n",
       "      <th>124775</th>\n",
       "      <td>What did he mean ?</td>\n",
       "      <td>0.0</td>\n",
       "      <td>0.0</td>\n",
       "      <td>0.0</td>\n",
       "      <td>0.0</td>\n",
       "      <td>0.0</td>\n",
       "      <td>0.0</td>\n",
       "      <td>0.0</td>\n",
       "      <td>0.0</td>\n",
       "      <td>0.0</td>\n",
       "      <td>0.0</td>\n",
       "      <td>0</td>\n",
       "    </tr>\n",
       "  </tbody>\n",
       "</table>\n",
       "<p>132400 rows × 12 columns</p>\n",
       "</div>"
      ],
      "text/plain": [
       "                                                 sentence  \\\n",
       "0       All right, good afternoon everybody, and welco...   \n",
       "1       Im here with Paul Mounds and Roland Cook Ill i...   \n",
       "2                          Just to give you our briefing.   \n",
       "3       First of all, in terms of where we are in the ...   \n",
       "4       Um, another 1200 people tested positive at a 3...   \n",
       "...                                                   ...   \n",
       "124771  Aristotle said something very interesting in t...   \n",
       "124772  Aristotle said something very interesting in t...   \n",
       "124773  Aristotle said something very interesting in t...   \n",
       "124774  Aristotle said something very interesting in t...   \n",
       "124775                                 What did he mean ?   \n",
       "\n",
       "        Rhetorical question  Story/Anecdote  Contrast  Moral_conviction  \\\n",
       "0                       0.0             0.0       0.0               0.0   \n",
       "1                       0.0             0.0       0.0               0.0   \n",
       "2                       0.0             0.0       0.0               0.0   \n",
       "3                       0.0             0.0       0.0               0.0   \n",
       "4                       0.0             0.0       0.0               0.0   \n",
       "...                     ...             ...       ...               ...   \n",
       "124771                  0.0             0.0       0.0               0.0   \n",
       "124772                  0.0             0.0       0.0               0.0   \n",
       "124773                  0.0             0.0       0.0               0.0   \n",
       "124774                  0.0             0.0       0.0               0.0   \n",
       "124775                  0.0             0.0       0.0               0.0   \n",
       "\n",
       "        Sentiment_of_the_collective  Setting_high_expectations  \\\n",
       "0                               0.0                        0.0   \n",
       "1                               0.0                        0.0   \n",
       "2                               0.0                        0.0   \n",
       "3                               0.0                        0.0   \n",
       "4                               0.0                        0.0   \n",
       "...                             ...                        ...   \n",
       "124771                          0.0                        0.0   \n",
       "124772                          0.0                        0.0   \n",
       "124773                          0.0                        0.0   \n",
       "124774                          0.0                        0.0   \n",
       "124775                          0.0                        0.0   \n",
       "\n",
       "        Confidence_in_goals  Metaphor/Similie  Lists/Repetitions  \\\n",
       "0                       0.0               0.0                0.0   \n",
       "1                       0.0               0.0                0.0   \n",
       "2                       0.0               0.0                0.0   \n",
       "3                       0.0               0.0                0.0   \n",
       "4                       0.0               0.0                0.0   \n",
       "...                     ...               ...                ...   \n",
       "124771                  0.0               0.0                0.0   \n",
       "124772                  0.0               0.0                0.0   \n",
       "124773                  0.0               0.0                0.0   \n",
       "124774                  0.0               0.0                0.0   \n",
       "124775                  0.0               0.0                0.0   \n",
       "\n",
       "        Ambitious goals  label  \n",
       "0                   0.0      0  \n",
       "1                   0.0      0  \n",
       "2                   0.0      0  \n",
       "3                   0.0      0  \n",
       "4                   0.0      0  \n",
       "...                 ...    ...  \n",
       "124771              0.0      0  \n",
       "124772              0.0      0  \n",
       "124773              0.0      0  \n",
       "124774              0.0      0  \n",
       "124775              0.0      0  \n",
       "\n",
       "[132400 rows x 12 columns]"
      ]
     },
     "execution_count": 6,
     "metadata": {},
     "output_type": "execute_result"
    }
   ],
   "source": [
    "label=[]\n",
    "for i in range(len(data)):\n",
    "    if any(data.iloc[i]==1):\n",
    "        label.append(1)\n",
    "    else:\n",
    "        label.append(0)\n",
    "data[\"label\"]=label\n",
    "data"
   ]
  },
  {
   "cell_type": "code",
   "execution_count": 7,
   "metadata": {},
   "outputs": [
    {
     "data": {
      "text/plain": [
       "0.08049848942598187"
      ]
     },
     "execution_count": 7,
     "metadata": {},
     "output_type": "execute_result"
    }
   ],
   "source": [
    "len(data[data.label==1])/len(data)"
   ]
  },
  {
   "cell_type": "code",
   "execution_count": 8,
   "metadata": {},
   "outputs": [
    {
     "data": {
      "text/plain": [
       "sentence                       0\n",
       "Rhetorical question            0\n",
       "Story/Anecdote                 0\n",
       "Contrast                       0\n",
       "Moral_conviction               0\n",
       "Sentiment_of_the_collective    0\n",
       "Setting_high_expectations      0\n",
       "Confidence_in_goals            0\n",
       "Metaphor/Similie               0\n",
       "Lists/Repetitions              0\n",
       "Ambitious goals                0\n",
       "label                          0\n",
       "dtype: int64"
      ]
     },
     "execution_count": 8,
     "metadata": {},
     "output_type": "execute_result"
    }
   ],
   "source": [
    "nan_count = data.isna().sum()\n",
    "nan_count"
   ]
  },
  {
   "cell_type": "markdown",
   "metadata": {
    "id": "uUh8soCWJHkz"
   },
   "source": [
    "# BERT Fine-tuning"
   ]
  },
  {
   "cell_type": "code",
   "execution_count": 9,
   "metadata": {
    "id": "8XN3T_rK0Gls"
   },
   "outputs": [],
   "source": [
    "#split the dataset to train and test sets with 20-80 proportion\n",
    "from sklearn.model_selection import train_test_split\n",
    "# only train and test on positive examples\n",
    "data = data[data.label==1]\n",
    "y = data['Ambitious goals'].values\n",
    "#y = data(columns=['Metaphor']).values #get the labels\n",
    "train, test = train_test_split(data, test_size=0.2, random_state=1337)"
   ]
  },
  {
   "cell_type": "code",
   "execution_count": 10,
   "metadata": {
    "id": "piD9f6sXn_ib"
   },
   "outputs": [],
   "source": [
    "sentences = train.sentence.values\n",
    "colname = 'Ambitious goals'\n",
    "labels =  train.drop(columns=['sentence'])[colname].values"
   ]
  },
  {
   "cell_type": "code",
   "execution_count": 11,
   "metadata": {
    "colab": {
     "base_uri": "https://localhost:8080/"
    },
    "id": "IRetecgj2DFB",
    "outputId": "49dda3c2-33a7-413f-8c4d-dbf6a3dc22ff"
   },
   "outputs": [
    {
     "data": {
      "text/plain": [
       "(8526,)"
      ]
     },
     "execution_count": 11,
     "metadata": {},
     "output_type": "execute_result"
    }
   ],
   "source": [
    "sentences.shape"
   ]
  },
  {
   "cell_type": "code",
   "execution_count": 12,
   "metadata": {},
   "outputs": [
    {
     "data": {
      "text/plain": [
       "(8526,)"
      ]
     },
     "execution_count": 12,
     "metadata": {},
     "output_type": "execute_result"
    }
   ],
   "source": [
    "labels.shape"
   ]
  },
  {
   "cell_type": "code",
   "execution_count": 13,
   "metadata": {
    "colab": {
     "base_uri": "https://localhost:8080/",
     "height": 130,
     "referenced_widgets": [
      "60a9e3d87a8048a19502e4dc70309ea3",
      "519d371a8a2b48cf88e3ca6a0ce2a5d6",
      "5c3ea0d0d975495da9a621ea0857442c",
      "dd3cd04770d347c49e581e96d022faea",
      "dae12a4dd89f41bb847cee62a16b4d58",
      "393a75267c1d49bdb3bd2d86912b28e2",
      "6229b3a04fa14bf399d37e474aab10bc",
      "ea2509f82ed8415aa130b614d6d97d6d",
      "4fd2282f62174b089a0a6b3cecdc28bb",
      "70f9d077f3d7468fb61ebcafe50b1ec8",
      "63081379e309475689de0da8eecd56c2",
      "1baaf8197c5b449fb9e934b84c3e46cf",
      "1b0c580581ad49a3983723a2dc09a29c",
      "f03766d51e3b47c98e5d92571da83540",
      "ba85f6dd1e594ed481bbd13e219dcaa4",
      "be07a4d29ce34df0b8cd17196429990a",
      "6e8e4b9880f94f63bb49324351ddf041",
      "4b1807da41244845bc0cb13646ccd389",
      "65dba09e2970473c9811af2ef1dee951",
      "72138bc767d64714ad78e53b97ceeabe",
      "e494de7bf0ee4b9593774fbb40302d06",
      "11b2d6e950a740f4b21370a9668c4c55",
      "c925dbc631774bc78b69960fca5f893a",
      "7b94831dbc9e49cfb3ca5945f4eb0114",
      "04723376a56d4501acfbaf30358e0267",
      "e8bc12db33d64af489be09f8e0a780a5",
      "be6632cf5a274e5ca68ab339fb8aa646",
      "144075945c6c41378b4bc11290c4dbd9",
      "b803ed5763974ec18432ba5de2eff494",
      "a294ac5d5fde45ee9feaf7fe18ed997b",
      "47b98777d5e840b1b1e9e51fcf5638c4",
      "1f482181c7914bde83126d5885f7a762",
      "9749186028ec4e0caba7623e36d7509d"
     ]
    },
    "id": "IqNAw2qio9Hi",
    "outputId": "8a49d7dd-2239-4342-b91b-0456dd820ce2"
   },
   "outputs": [
    {
     "name": "stderr",
     "output_type": "stream",
     "text": [
      "/home/datasciencefhswf/anaconda3/envs/charisma/lib/python3.11/site-packages/transformers/utils/hub.py:124: FutureWarning: Using `TRANSFORMERS_CACHE` is deprecated and will be removed in v5 of Transformers. Use `HF_HOME` instead.\n",
      "  warnings.warn(\n"
     ]
    },
    {
     "name": "stdout",
     "output_type": "stream",
     "text": [
      "Loading BERT tokenizer...\n"
     ]
    }
   ],
   "source": [
    "from transformers import BertTokenizer\n",
    "# Load the BERT tokenizer.\n",
    "print('Loading BERT tokenizer...')\n",
    "tokenizer = BertTokenizer.from_pretrained('bert-base-uncased', do_lower_case=True)"
   ]
  },
  {
   "cell_type": "code",
   "execution_count": 14,
   "metadata": {
    "colab": {
     "base_uri": "https://localhost:8080/"
    },
    "id": "kgtf31Qeo9ZI",
    "outputId": "98bde8bc-8bb8-477a-a7c4-90bd3c4fe476"
   },
   "outputs": [
    {
     "name": "stdout",
     "output_type": "stream",
     "text": [
      "Original:  Within the next decade, we will invest in initiatives that address social inequality, making a positive impact on marginalized communities.\n",
      "Token IDs: [101, 2306, 1996, 2279, 5476, 1010, 2057, 2097, 15697, 1999, 11107, 2008, 4769, 2591, 16440, 1010, 2437, 1037, 3893, 4254, 2006, 14785, 3550, 4279, 1012, 102]\n"
     ]
    }
   ],
   "source": [
    "# Tokenize all of the sentences and map the tokens to thier word IDs.\n",
    "input_ids = []\n",
    "# For every sentence...\n",
    "for sent in sentences:\n",
    "    # `encode` will:\n",
    "    #   (1) Tokenize the sentence.\n",
    "    #   (2) Prepend the `[CLS]` token to the start.\n",
    "    #   (3) Append the `[SEP]` token to the end.\n",
    "    #   (4) Map tokens to their IDs.\n",
    "    encoded_sent = tokenizer.encode(\n",
    "                        sent,                      # Sentence to encode.\n",
    "                        add_special_tokens = True, # Add '[CLS]' and '[SEP]'\n",
    "                        # This function also supports truncation and conversion\n",
    "                        # to pytorch tensors, but we need to do padding, so we\n",
    "                        # can't use these features :( .\n",
    "                        #max_length = 128,          # Truncate all sentences.\n",
    "                        #return_tensors = 'pt',     # Return pytorch tensors.\n",
    "                   )\n",
    "    # Add the encoded sentence to the list.\n",
    "    input_ids.append(encoded_sent)\n",
    "# Print sentence 0, now as a list of IDs.\n",
    "print('Original: ', sentences[0])\n",
    "print('Token IDs:', input_ids[0])"
   ]
  },
  {
   "cell_type": "markdown",
   "metadata": {
    "id": "Gv_Irq9MGJXl"
   },
   "source": [
    "Below are different values we can try for padding the data depnding on the dataset"
   ]
  },
  {
   "cell_type": "code",
   "execution_count": 15,
   "metadata": {
    "colab": {
     "base_uri": "https://localhost:8080/"
    },
    "id": "bQ9hSdl4pJH_",
    "outputId": "7f1a3703-3489-4bde-c253-9c255b2a665d"
   },
   "outputs": [
    {
     "name": "stdout",
     "output_type": "stream",
     "text": [
      "Max sentence length:  126\n"
     ]
    }
   ],
   "source": [
    "print('Max sentence length: ', max([len(sen) for sen in input_ids]))"
   ]
  },
  {
   "cell_type": "code",
   "execution_count": 16,
   "metadata": {
    "colab": {
     "base_uri": "https://localhost:8080/"
    },
    "id": "Fs8I8dc2DwVZ",
    "outputId": "bdaa7af9-204e-4f17-c8f4-890c197c22a7"
   },
   "outputs": [
    {
     "data": {
      "text/plain": [
       "[139, 80, 62, 124, 181]"
      ]
     },
     "execution_count": 16,
     "metadata": {},
     "output_type": "execute_result"
    }
   ],
   "source": [
    "# get the distribution of sentence lengths\n",
    "sentences_len = [len(sen) for sen in sentences]\n",
    "sentences_len[:5]"
   ]
  },
  {
   "cell_type": "code",
   "execution_count": 17,
   "metadata": {
    "colab": {
     "base_uri": "https://localhost:8080/"
    },
    "id": "-3TvhMzVDp81",
    "outputId": "7a8d9357-b31f-4299-ff11-fec7e3f03adf"
   },
   "outputs": [
    {
     "data": {
      "text/plain": [
       "189.0"
      ]
     },
     "execution_count": 17,
     "metadata": {},
     "output_type": "execute_result"
    }
   ],
   "source": [
    "# 90th percentile of data with lengths\n",
    "import numpy as np\n",
    "p = np.percentile(sentences_len, 90)\n",
    "p"
   ]
  },
  {
   "cell_type": "code",
   "execution_count": 18,
   "metadata": {
    "colab": {
     "base_uri": "https://localhost:8080/"
    },
    "id": "2Aho2uJUIVjP",
    "outputId": "b416a212-6b93-49cb-94ee-6f420dcd184d"
   },
   "outputs": [
    {
     "data": {
      "text/plain": [
       "118.67839549612948"
      ]
     },
     "execution_count": 18,
     "metadata": {},
     "output_type": "execute_result"
    }
   ],
   "source": [
    "#mean of sentence lengths\n",
    "np.mean(sentences_len)"
   ]
  },
  {
   "cell_type": "code",
   "execution_count": 19,
   "metadata": {
    "colab": {
     "base_uri": "https://localhost:8080/"
    },
    "id": "r-e2pmwupZhh",
    "outputId": "440ba64d-33f7-4b8a-dfc2-24361332f6a0"
   },
   "outputs": [
    {
     "name": "stderr",
     "output_type": "stream",
     "text": [
      "2024-03-08 09:11:58.097310: E external/local_xla/xla/stream_executor/cuda/cuda_dnn.cc:9261] Unable to register cuDNN factory: Attempting to register factory for plugin cuDNN when one has already been registered\n",
      "2024-03-08 09:11:58.097365: E external/local_xla/xla/stream_executor/cuda/cuda_fft.cc:607] Unable to register cuFFT factory: Attempting to register factory for plugin cuFFT when one has already been registered\n",
      "2024-03-08 09:11:58.098224: E external/local_xla/xla/stream_executor/cuda/cuda_blas.cc:1515] Unable to register cuBLAS factory: Attempting to register factory for plugin cuBLAS when one has already been registered\n",
      "2024-03-08 09:11:58.104807: I tensorflow/core/platform/cpu_feature_guard.cc:182] This TensorFlow binary is optimized to use available CPU instructions in performance-critical operations.\n",
      "To enable the following instructions: AVX2 FMA, in other operations, rebuild TensorFlow with the appropriate compiler flags.\n",
      "2024-03-08 09:11:58.989837: W tensorflow/compiler/tf2tensorrt/utils/py_utils.cc:38] TF-TRT Warning: Could not find TensorRT\n"
     ]
    },
    {
     "name": "stdout",
     "output_type": "stream",
     "text": [
      "\n",
      "Padding/truncating all sentences to 126 values...\n",
      "\n",
      "Padding token: \"[PAD]\", ID: 0\n",
      "\\Done.\n"
     ]
    }
   ],
   "source": [
    "# We'll use the `pad_sequences` utility function to do this.\n",
    "from tensorflow.keras.preprocessing.sequence import pad_sequences\n",
    "# Set the maximum sequence length.\n",
    "# 149 is the mean of sequence lengths\n",
    "MAX_LEN = max([len(sen) for sen in input_ids])\n",
    "print('\\nPadding/truncating all sentences to %d values...' % MAX_LEN)\n",
    "print('\\nPadding token: \"{:}\", ID: {:}'.format(tokenizer.pad_token, tokenizer.pad_token_id))\n",
    "# Pad our input tokens with value 0.\n",
    "# \"post\" indicates that we want to pad and truncate at the end of the sequence,\n",
    "# as opposed to the beginning.\n",
    "input_ids = pad_sequences(input_ids, maxlen=MAX_LEN, dtype=\"long\", \n",
    "                          value=0, truncating=\"post\", padding=\"post\")\n",
    "\n",
    "labels = torch.tensor(labels,dtype=torch.long)\n",
    "print('\\Done.')"
   ]
  },
  {
   "cell_type": "code",
   "execution_count": 20,
   "metadata": {
    "id": "Bk6tg4OE2oNP"
   },
   "outputs": [],
   "source": [
    "# Create attention masks\n",
    "attention_masks = []\n",
    "# For each sentence...\n",
    "for sent in input_ids:\n",
    "    \n",
    "    # Create the attention mask.\n",
    "    #   - If a token ID is 0, then it's padding, set the mask to 0.\n",
    "    #   - If a token ID is > 0, then it's a real token, set the mask to 1.\n",
    "    att_mask = [int(token_id > 0) for token_id in sent]\n",
    "    \n",
    "    # Store the attention mask for this sentence.\n",
    "    attention_masks.append(att_mask)"
   ]
  },
  {
   "cell_type": "code",
   "execution_count": 21,
   "metadata": {
    "id": "soJ9J0_ApfI3"
   },
   "outputs": [],
   "source": [
    "# Use train_test_split to split our data into train and validation sets for\n",
    "# training\n",
    "from sklearn.model_selection import train_test_split\n",
    "# Use 90% for training and 10% for validation.\n",
    "train_inputs, validation_inputs, train_labels, validation_labels = train_test_split(input_ids, labels, \n",
    "                                                            random_state=2018, test_size=0.1)\n",
    "# Do the same for the masks.\n",
    "train_masks, validation_masks, _, _ = train_test_split(attention_masks, labels,\n",
    "                                             random_state=2018, test_size=0.1)\n"
   ]
  },
  {
   "cell_type": "code",
   "execution_count": 22,
   "metadata": {
    "colab": {
     "base_uri": "https://localhost:8080/"
    },
    "id": "0uSbWLB3phhi",
    "outputId": "3c68fb9f-172b-47a4-fe52-3c8e612361c3"
   },
   "outputs": [
    {
     "name": "stderr",
     "output_type": "stream",
     "text": [
      "/tmp/ipykernel_192880/3629088030.py:5: UserWarning: To copy construct from a tensor, it is recommended to use sourceTensor.clone().detach() or sourceTensor.clone().detach().requires_grad_(True), rather than torch.tensor(sourceTensor).\n",
      "  train_labels = torch.tensor(train_labels)\n",
      "/tmp/ipykernel_192880/3629088030.py:6: UserWarning: To copy construct from a tensor, it is recommended to use sourceTensor.clone().detach() or sourceTensor.clone().detach().requires_grad_(True), rather than torch.tensor(sourceTensor).\n",
      "  validation_labels = torch.tensor(validation_labels)\n"
     ]
    }
   ],
   "source": [
    "# Convert all inputs and labels into torch tensors, the required datatype \n",
    "# for our model.\n",
    "train_inputs = torch.tensor(train_inputs)\n",
    "validation_inputs = torch.tensor(validation_inputs)\n",
    "train_labels = torch.tensor(train_labels)\n",
    "validation_labels = torch.tensor(validation_labels)\n",
    "train_masks = torch.tensor(train_masks)\n",
    "validation_masks = torch.tensor(validation_masks)"
   ]
  },
  {
   "cell_type": "code",
   "execution_count": 23,
   "metadata": {},
   "outputs": [
    {
     "data": {
      "text/plain": [
       "torch.Size([7673])"
      ]
     },
     "execution_count": 23,
     "metadata": {},
     "output_type": "execute_result"
    }
   ],
   "source": [
    "train_labels.shape"
   ]
  },
  {
   "cell_type": "code",
   "execution_count": 24,
   "metadata": {
    "id": "CGn9JMMupl4e"
   },
   "outputs": [],
   "source": [
    "from torch.utils.data import TensorDataset, DataLoader, RandomSampler, SequentialSampler\n",
    "# The DataLoader needs to know our batch size for training, so we specify it \n",
    "# here.\n",
    "# For fine-tuning BERT on a specific task, the authors recommend a batch size of\n",
    "batch_size = 32#*labels.shape[1] #32 # 32*11\n",
    "# Create the DataLoader for our training set.\n",
    "train_data = TensorDataset(train_inputs, train_masks, train_labels)\n",
    "train_sampler = RandomSampler(train_data)\n",
    "train_dataloader = DataLoader(train_data, sampler=train_sampler, batch_size=batch_size)\n",
    "# Create the DataLoader for our validation set.\n",
    "validation_data = TensorDataset(validation_inputs, validation_masks, validation_labels)\n",
    "validation_sampler = SequentialSampler(validation_data)\n",
    "validation_dataloader = DataLoader(validation_data, sampler=validation_sampler, batch_size=batch_size)"
   ]
  },
  {
   "cell_type": "code",
   "execution_count": 25,
   "metadata": {
    "colab": {
     "base_uri": "https://localhost:8080/",
     "height": 1000,
     "referenced_widgets": [
      "a8a17b8996dd4855b863da2b86bcd1b3",
      "f1c89363848b414a84154aa764d38aae",
      "749e1494df8f4839b45164ffbfcca798",
      "54d322ff0f13486db128fce09221d241",
      "4a10555540ed4911adb76c3d69914441",
      "36b96edad07144ad84bc070051c667d4",
      "1f0db9ba18d9400c91b7baf22d1c2214",
      "9cc18e0ceace476a9c7340d91aef46cf",
      "1dd117b8fb18405b926ac0dce6a0ffe8",
      "0b34bdd3ee164ee88a5fcec8d93d32c0",
      "e8173d6531724017948b0a487f9dd63e"
     ]
    },
    "id": "Vy0yyeg7po7h",
    "outputId": "ee79e372-f524-4d7c-8f9a-e9674aedb0f8"
   },
   "outputs": [
    {
     "name": "stderr",
     "output_type": "stream",
     "text": [
      "Some weights of BertForSequenceClassification were not initialized from the model checkpoint at bert-base-uncased and are newly initialized: ['classifier.bias', 'classifier.weight']\n",
      "You should probably TRAIN this model on a down-stream task to be able to use it for predictions and inference.\n"
     ]
    },
    {
     "data": {
      "text/plain": [
       "BertForSequenceClassification(\n",
       "  (bert): BertModel(\n",
       "    (embeddings): BertEmbeddings(\n",
       "      (word_embeddings): Embedding(30522, 768, padding_idx=0)\n",
       "      (position_embeddings): Embedding(512, 768)\n",
       "      (token_type_embeddings): Embedding(2, 768)\n",
       "      (LayerNorm): LayerNorm((768,), eps=1e-12, elementwise_affine=True)\n",
       "      (dropout): Dropout(p=0.1, inplace=False)\n",
       "    )\n",
       "    (encoder): BertEncoder(\n",
       "      (layer): ModuleList(\n",
       "        (0-11): 12 x BertLayer(\n",
       "          (attention): BertAttention(\n",
       "            (self): BertSelfAttention(\n",
       "              (query): Linear(in_features=768, out_features=768, bias=True)\n",
       "              (key): Linear(in_features=768, out_features=768, bias=True)\n",
       "              (value): Linear(in_features=768, out_features=768, bias=True)\n",
       "              (dropout): Dropout(p=0.1, inplace=False)\n",
       "            )\n",
       "            (output): BertSelfOutput(\n",
       "              (dense): Linear(in_features=768, out_features=768, bias=True)\n",
       "              (LayerNorm): LayerNorm((768,), eps=1e-12, elementwise_affine=True)\n",
       "              (dropout): Dropout(p=0.1, inplace=False)\n",
       "            )\n",
       "          )\n",
       "          (intermediate): BertIntermediate(\n",
       "            (dense): Linear(in_features=768, out_features=3072, bias=True)\n",
       "            (intermediate_act_fn): GELUActivation()\n",
       "          )\n",
       "          (output): BertOutput(\n",
       "            (dense): Linear(in_features=3072, out_features=768, bias=True)\n",
       "            (LayerNorm): LayerNorm((768,), eps=1e-12, elementwise_affine=True)\n",
       "            (dropout): Dropout(p=0.1, inplace=False)\n",
       "          )\n",
       "        )\n",
       "      )\n",
       "    )\n",
       "    (pooler): BertPooler(\n",
       "      (dense): Linear(in_features=768, out_features=768, bias=True)\n",
       "      (activation): Tanh()\n",
       "    )\n",
       "  )\n",
       "  (dropout): Dropout(p=0.1, inplace=False)\n",
       "  (classifier): Linear(in_features=768, out_features=2, bias=True)\n",
       ")"
      ]
     },
     "execution_count": 25,
     "metadata": {},
     "output_type": "execute_result"
    }
   ],
   "source": [
    "\n",
    "from transformers import BertForSequenceClassification, AdamW, BertConfig\n",
    "\n",
    "# Load BertForSequenceClassification, the pretrained BERT model with a single \n",
    "# linear classification layer on top. \n",
    "model = BertForSequenceClassification.from_pretrained(\n",
    "    \"bert-base-uncased\", # Use the 12-layer BERT model, with an uncased vocab.\n",
    "    num_labels = 2, # The number of output labels--2 for binary classification.\n",
    "                    # You can increase this for multi-class tasks.   \n",
    "    output_attentions = False, # Whether the model returns attentions weights.\n",
    "    output_hidden_states = False, # Whether the model returns all hidden-states.\n",
    "#problem_type=\"multi_label_classification\"\n",
    ")\n",
    "\n",
    "\n",
    "\n",
    "\n",
    "# Tell pytorch to run this model on the GPU.\n",
    "model.to(device)"
   ]
  },
  {
   "cell_type": "code",
   "execution_count": 26,
   "metadata": {
    "colab": {
     "base_uri": "https://localhost:8080/"
    },
    "id": "HWhjGsVdp2z7",
    "outputId": "38d6dcc0-fb46-4a68-c21c-80f6222005bf"
   },
   "outputs": [
    {
     "name": "stdout",
     "output_type": "stream",
     "text": [
      "The BERT model has 201 different named parameters.\n",
      "\n",
      "==== Embedding Layer ====\n",
      "\n",
      "bert.embeddings.word_embeddings.weight                  (30522, 768)\n",
      "bert.embeddings.position_embeddings.weight                (512, 768)\n",
      "bert.embeddings.token_type_embeddings.weight                (2, 768)\n",
      "bert.embeddings.LayerNorm.weight                              (768,)\n",
      "bert.embeddings.LayerNorm.bias                                (768,)\n",
      "\n",
      "==== First Transformer ====\n",
      "\n",
      "bert.encoder.layer.0.attention.self.query.weight          (768, 768)\n",
      "bert.encoder.layer.0.attention.self.query.bias                (768,)\n",
      "bert.encoder.layer.0.attention.self.key.weight            (768, 768)\n",
      "bert.encoder.layer.0.attention.self.key.bias                  (768,)\n",
      "bert.encoder.layer.0.attention.self.value.weight          (768, 768)\n",
      "bert.encoder.layer.0.attention.self.value.bias                (768,)\n",
      "bert.encoder.layer.0.attention.output.dense.weight        (768, 768)\n",
      "bert.encoder.layer.0.attention.output.dense.bias              (768,)\n",
      "bert.encoder.layer.0.attention.output.LayerNorm.weight        (768,)\n",
      "bert.encoder.layer.0.attention.output.LayerNorm.bias          (768,)\n",
      "bert.encoder.layer.0.intermediate.dense.weight           (3072, 768)\n",
      "bert.encoder.layer.0.intermediate.dense.bias                 (3072,)\n",
      "bert.encoder.layer.0.output.dense.weight                 (768, 3072)\n",
      "bert.encoder.layer.0.output.dense.bias                        (768,)\n",
      "bert.encoder.layer.0.output.LayerNorm.weight                  (768,)\n",
      "bert.encoder.layer.0.output.LayerNorm.bias                    (768,)\n",
      "\n",
      "==== Output Layer ====\n",
      "\n",
      "bert.pooler.dense.weight                                  (768, 768)\n",
      "bert.pooler.dense.bias                                        (768,)\n",
      "classifier.weight                                           (2, 768)\n",
      "classifier.bias                                                 (2,)\n"
     ]
    }
   ],
   "source": [
    "# Get all of the model's parameters as a list of tuples.\n",
    "params = list(model.named_parameters())\n",
    "print('The BERT model has {:} different named parameters.\\n'.format(len(params)))\n",
    "print('==== Embedding Layer ====\\n')\n",
    "for p in params[0:5]:\n",
    "    print(\"{:<55} {:>12}\".format(p[0], str(tuple(p[1].size()))))\n",
    "print('\\n==== First Transformer ====\\n')\n",
    "for p in params[5:21]:\n",
    "    print(\"{:<55} {:>12}\".format(p[0], str(tuple(p[1].size()))))\n",
    "print('\\n==== Output Layer ====\\n')\n",
    "for p in params[-4:]:\n",
    "    print(\"{:<55} {:>12}\".format(p[0], str(tuple(p[1].size()))))"
   ]
  },
  {
   "cell_type": "code",
   "execution_count": 27,
   "metadata": {
    "colab": {
     "base_uri": "https://localhost:8080/"
    },
    "id": "vlicrhIJqA1I",
    "outputId": "61a4c53a-6b50-4837-d42d-4bb25d06b5a2"
   },
   "outputs": [
    {
     "name": "stderr",
     "output_type": "stream",
     "text": [
      "/home/datasciencefhswf/anaconda3/envs/charisma/lib/python3.11/site-packages/transformers/optimization.py:429: FutureWarning: This implementation of AdamW is deprecated and will be removed in a future version. Use the PyTorch implementation torch.optim.AdamW instead, or set `no_deprecation_warning=True` to disable this warning\n",
      "  warnings.warn(\n"
     ]
    }
   ],
   "source": [
    "optimizer = AdamW(model.parameters(),\n",
    "                  lr = 5e-5, # args.learning_rate - default is 5e-5, our notebook had 2e-5\n",
    "                  eps = 1e-8 # args.adam_epsilon  - default is 1e-8.\n",
    "                )\n",
    "from transformers import get_linear_schedule_with_warmup\n",
    "# Number of training epochs (authors recommend between 2 and 4)\n",
    "epochs = 20\n",
    "# Total number of training steps is number of batches * number of epochs.\n",
    "total_steps = len(train_dataloader) * epochs\n",
    "# Create the learning rate scheduler.\n",
    "scheduler = get_linear_schedule_with_warmup(optimizer, \n",
    "                                            num_warmup_steps = 0, # Default value in run_glue.py\n",
    "                                            num_training_steps = total_steps)"
   ]
  },
  {
   "cell_type": "code",
   "execution_count": 28,
   "metadata": {
    "id": "5x-7TIdGqJPZ"
   },
   "outputs": [],
   "source": [
    "import numpy as np\n",
    "# Function to calculate the accuracy of our predictions vs labels\n",
    "def flat_accuracy(preds, labels):\n",
    "    pred_flat = np.argmax(preds, axis=1).flatten()\n",
    "    labels_flat = labels.flatten()\n",
    "    return np.sum(pred_flat == labels_flat) / len(labels_flat)"
   ]
  },
  {
   "cell_type": "code",
   "execution_count": 29,
   "metadata": {
    "id": "9cxDriIDqPCm"
   },
   "outputs": [],
   "source": [
    "import time\n",
    "import datetime\n",
    "def format_time(elapsed):\n",
    "    '''\n",
    "    Takes a time in seconds and returns a string hh:mm:ss\n",
    "    '''\n",
    "    # Round to the nearest second.\n",
    "    elapsed_rounded = int(round((elapsed)))\n",
    "    \n",
    "    # Format as hh:mm:ss\n",
    "    return str(datetime.timedelta(seconds=elapsed_rounded))"
   ]
  },
  {
   "cell_type": "code",
   "execution_count": 30,
   "metadata": {},
   "outputs": [
    {
     "name": "stdout",
     "output_type": "stream",
     "text": [
      "|===========================================================================|\n",
      "|                  PyTorch CUDA memory summary, device ID 0                 |\n",
      "|---------------------------------------------------------------------------|\n",
      "|            CUDA OOMs: 0            |        cudaMalloc retries: 0         |\n",
      "|===========================================================================|\n",
      "|        Metric         | Cur Usage  | Peak Usage | Tot Alloc  | Tot Freed  |\n",
      "|---------------------------------------------------------------------------|\n",
      "| Allocated memory      | 428785 KiB | 428785 KiB | 428785 KiB |      0 B   |\n",
      "|---------------------------------------------------------------------------|\n",
      "| Active memory         | 428785 KiB | 428785 KiB | 428785 KiB |      0 B   |\n",
      "|---------------------------------------------------------------------------|\n",
      "| Requested memory      | 427679 KiB | 427679 KiB | 427679 KiB |      0 B   |\n",
      "|---------------------------------------------------------------------------|\n",
      "| GPU reserved memory   | 483328 KiB | 483328 KiB | 483328 KiB |      0 B   |\n",
      "|---------------------------------------------------------------------------|\n",
      "| Non-releasable memory |  54542 KiB |  54552 KiB | 265210 KiB | 210667 KiB |\n",
      "|---------------------------------------------------------------------------|\n",
      "| Allocations           |     203    |     203    |     203    |       0    |\n",
      "|---------------------------------------------------------------------------|\n",
      "| Active allocs         |     203    |     203    |     203    |       0    |\n",
      "|---------------------------------------------------------------------------|\n",
      "| GPU reserved segments |      21    |      21    |      21    |       0    |\n",
      "|---------------------------------------------------------------------------|\n",
      "| Non-releasable allocs |      19    |      19    |      20    |       1    |\n",
      "|---------------------------------------------------------------------------|\n",
      "| Oversize allocations  |       0    |       0    |       0    |       0    |\n",
      "|---------------------------------------------------------------------------|\n",
      "| Oversize GPU segments |       0    |       0    |       0    |       0    |\n",
      "|===========================================================================|\n",
      "\n"
     ]
    }
   ],
   "source": [
    "print(torch.cuda.memory_summary(device=None, abbreviated=True))"
   ]
  },
  {
   "cell_type": "code",
   "execution_count": 31,
   "metadata": {
    "id": "b8CDRm_sqReG"
   },
   "outputs": [
    {
     "name": "stdout",
     "output_type": "stream",
     "text": [
      "\n",
      "======== Epoch 1 / 20 ========\n",
      "Training...\n",
      "  Batch    40  of    240.    Elapsed: 0:00:37.\n",
      "  Batch    80  of    240.    Elapsed: 0:01:13.\n",
      "  Batch   120  of    240.    Elapsed: 0:01:55.\n",
      "  Batch   160  of    240.    Elapsed: 0:02:38.\n",
      "  Batch   200  of    240.    Elapsed: 0:03:22.\n",
      "\n",
      "  Average training loss: 0.03\n",
      "  Training epoch took: 0:04:05\n",
      "\n",
      "Running Validation...\n",
      "  Accuracy: 1.00\n",
      "  Validation took: 0:00:10\n",
      "\n",
      "======== Epoch 2 / 20 ========\n",
      "Training...\n",
      "  Batch    40  of    240.    Elapsed: 0:00:43.\n",
      "  Batch    80  of    240.    Elapsed: 0:01:27.\n",
      "  Batch   120  of    240.    Elapsed: 0:02:10.\n",
      "  Batch   160  of    240.    Elapsed: 0:02:53.\n",
      "  Batch   200  of    240.    Elapsed: 0:03:36.\n",
      "\n",
      "  Average training loss: 0.01\n",
      "  Training epoch took: 0:04:19\n",
      "\n",
      "Running Validation...\n",
      "  Accuracy: 1.00\n",
      "  Validation took: 0:00:10\n",
      "\n",
      "======== Epoch 3 / 20 ========\n",
      "Training...\n",
      "  Batch    40  of    240.    Elapsed: 0:00:43.\n",
      "  Batch    80  of    240.    Elapsed: 0:01:27.\n",
      "  Batch   120  of    240.    Elapsed: 0:02:10.\n",
      "  Batch   160  of    240.    Elapsed: 0:02:53.\n",
      "  Batch   200  of    240.    Elapsed: 0:03:36.\n",
      "\n",
      "  Average training loss: 0.00\n",
      "  Training epoch took: 0:04:20\n",
      "\n",
      "Running Validation...\n",
      "  Accuracy: 1.00\n",
      "  Validation took: 0:00:10\n",
      "\n",
      "======== Epoch 4 / 20 ========\n",
      "Training...\n",
      "  Batch    40  of    240.    Elapsed: 0:00:43.\n",
      "  Batch    80  of    240.    Elapsed: 0:01:27.\n",
      "  Batch   120  of    240.    Elapsed: 0:02:10.\n",
      "  Batch   160  of    240.    Elapsed: 0:02:53.\n",
      "  Batch   200  of    240.    Elapsed: 0:03:37.\n",
      "\n",
      "  Average training loss: 0.00\n",
      "  Training epoch took: 0:04:20\n",
      "\n",
      "Running Validation...\n",
      "  Accuracy: 1.00\n",
      "  Validation took: 0:00:10\n",
      "\n",
      "======== Epoch 5 / 20 ========\n",
      "Training...\n",
      "  Batch    40  of    240.    Elapsed: 0:00:43.\n",
      "  Batch    80  of    240.    Elapsed: 0:01:27.\n",
      "  Batch   120  of    240.    Elapsed: 0:02:10.\n",
      "  Batch   160  of    240.    Elapsed: 0:02:53.\n",
      "  Batch   200  of    240.    Elapsed: 0:03:37.\n",
      "\n",
      "  Average training loss: 0.00\n",
      "  Training epoch took: 0:04:19\n",
      "\n",
      "Running Validation...\n",
      "  Accuracy: 1.00\n",
      "  Validation took: 0:00:10\n",
      "\n",
      "======== Epoch 6 / 20 ========\n",
      "Training...\n",
      "  Batch    40  of    240.    Elapsed: 0:00:43.\n",
      "  Batch    80  of    240.    Elapsed: 0:01:26.\n",
      "  Batch   120  of    240.    Elapsed: 0:02:09.\n",
      "  Batch   160  of    240.    Elapsed: 0:02:53.\n",
      "  Batch   200  of    240.    Elapsed: 0:03:36.\n",
      "\n",
      "  Average training loss: 0.00\n",
      "  Training epoch took: 0:04:19\n",
      "\n",
      "Running Validation...\n",
      "  Accuracy: 1.00\n",
      "  Validation took: 0:00:10\n",
      "\n",
      "======== Epoch 7 / 20 ========\n",
      "Training...\n",
      "  Batch    40  of    240.    Elapsed: 0:00:43.\n",
      "  Batch    80  of    240.    Elapsed: 0:01:27.\n",
      "  Batch   120  of    240.    Elapsed: 0:02:10.\n",
      "  Batch   160  of    240.    Elapsed: 0:02:53.\n",
      "  Batch   200  of    240.    Elapsed: 0:03:37.\n",
      "\n",
      "  Average training loss: 0.00\n",
      "  Training epoch took: 0:04:19\n",
      "\n",
      "Running Validation...\n",
      "  Accuracy: 1.00\n",
      "  Validation took: 0:00:10\n",
      "\n",
      "======== Epoch 8 / 20 ========\n",
      "Training...\n",
      "  Batch    40  of    240.    Elapsed: 0:00:43.\n",
      "  Batch    80  of    240.    Elapsed: 0:01:27.\n",
      "  Batch   120  of    240.    Elapsed: 0:02:10.\n",
      "  Batch   160  of    240.    Elapsed: 0:02:53.\n",
      "  Batch   200  of    240.    Elapsed: 0:03:37.\n",
      "\n",
      "  Average training loss: 0.00\n",
      "  Training epoch took: 0:04:20\n",
      "\n",
      "Running Validation...\n",
      "  Accuracy: 1.00\n",
      "  Validation took: 0:00:10\n",
      "\n",
      "======== Epoch 9 / 20 ========\n",
      "Training...\n",
      "  Batch    40  of    240.    Elapsed: 0:00:43.\n",
      "  Batch    80  of    240.    Elapsed: 0:01:27.\n",
      "  Batch   120  of    240.    Elapsed: 0:02:10.\n",
      "  Batch   160  of    240.    Elapsed: 0:02:53.\n",
      "  Batch   200  of    240.    Elapsed: 0:03:36.\n",
      "\n",
      "  Average training loss: 0.01\n",
      "  Training epoch took: 0:04:19\n",
      "\n",
      "Running Validation...\n",
      "  Accuracy: 1.00\n",
      "  Validation took: 0:00:10\n",
      "\n",
      "======== Epoch 10 / 20 ========\n",
      "Training...\n",
      "  Batch    40  of    240.    Elapsed: 0:00:43.\n",
      "  Batch    80  of    240.    Elapsed: 0:01:26.\n",
      "  Batch   120  of    240.    Elapsed: 0:02:10.\n",
      "  Batch   160  of    240.    Elapsed: 0:02:53.\n",
      "  Batch   200  of    240.    Elapsed: 0:03:36.\n",
      "\n",
      "  Average training loss: 0.00\n",
      "  Training epoch took: 0:04:19\n",
      "\n",
      "Running Validation...\n",
      "  Accuracy: 1.00\n",
      "  Validation took: 0:00:10\n",
      "\n",
      "======== Epoch 11 / 20 ========\n",
      "Training...\n",
      "  Batch    40  of    240.    Elapsed: 0:00:43.\n",
      "  Batch    80  of    240.    Elapsed: 0:01:27.\n",
      "  Batch   120  of    240.    Elapsed: 0:02:10.\n",
      "  Batch   160  of    240.    Elapsed: 0:02:53.\n",
      "  Batch   200  of    240.    Elapsed: 0:03:37.\n",
      "\n",
      "  Average training loss: 0.00\n",
      "  Training epoch took: 0:04:20\n",
      "\n",
      "Running Validation...\n",
      "  Accuracy: 1.00\n",
      "  Validation took: 0:00:10\n",
      "\n",
      "======== Epoch 12 / 20 ========\n",
      "Training...\n",
      "  Batch    40  of    240.    Elapsed: 0:00:43.\n",
      "  Batch    80  of    240.    Elapsed: 0:01:26.\n",
      "  Batch   120  of    240.    Elapsed: 0:02:09.\n",
      "  Batch   160  of    240.    Elapsed: 0:02:52.\n",
      "  Batch   200  of    240.    Elapsed: 0:03:36.\n",
      "\n",
      "  Average training loss: 0.00\n",
      "  Training epoch took: 0:04:19\n",
      "\n",
      "Running Validation...\n",
      "  Accuracy: 1.00\n",
      "  Validation took: 0:00:10\n",
      "\n",
      "======== Epoch 13 / 20 ========\n",
      "Training...\n",
      "  Batch    40  of    240.    Elapsed: 0:00:43.\n",
      "  Batch    80  of    240.    Elapsed: 0:01:26.\n",
      "  Batch   120  of    240.    Elapsed: 0:02:10.\n",
      "  Batch   160  of    240.    Elapsed: 0:02:53.\n",
      "  Batch   200  of    240.    Elapsed: 0:03:36.\n",
      "\n",
      "  Average training loss: 0.00\n",
      "  Training epoch took: 0:04:19\n",
      "\n",
      "Running Validation...\n",
      "  Accuracy: 1.00\n",
      "  Validation took: 0:00:10\n",
      "\n",
      "======== Epoch 14 / 20 ========\n",
      "Training...\n",
      "  Batch    40  of    240.    Elapsed: 0:00:43.\n",
      "  Batch    80  of    240.    Elapsed: 0:01:26.\n",
      "  Batch   120  of    240.    Elapsed: 0:02:10.\n",
      "  Batch   160  of    240.    Elapsed: 0:02:53.\n",
      "  Batch   200  of    240.    Elapsed: 0:03:36.\n",
      "\n",
      "  Average training loss: 0.00\n",
      "  Training epoch took: 0:04:20\n",
      "\n",
      "Running Validation...\n",
      "  Accuracy: 1.00\n",
      "  Validation took: 0:00:10\n",
      "\n",
      "======== Epoch 15 / 20 ========\n",
      "Training...\n",
      "  Batch    40  of    240.    Elapsed: 0:00:43.\n",
      "  Batch    80  of    240.    Elapsed: 0:01:26.\n",
      "  Batch   120  of    240.    Elapsed: 0:02:10.\n",
      "  Batch   160  of    240.    Elapsed: 0:02:53.\n",
      "  Batch   200  of    240.    Elapsed: 0:03:36.\n",
      "\n",
      "  Average training loss: 0.00\n",
      "  Training epoch took: 0:04:19\n",
      "\n",
      "Running Validation...\n",
      "  Accuracy: 1.00\n",
      "  Validation took: 0:00:10\n",
      "\n",
      "======== Epoch 16 / 20 ========\n",
      "Training...\n",
      "  Batch    40  of    240.    Elapsed: 0:00:43.\n",
      "  Batch    80  of    240.    Elapsed: 0:01:27.\n",
      "  Batch   120  of    240.    Elapsed: 0:02:10.\n",
      "  Batch   160  of    240.    Elapsed: 0:02:53.\n",
      "  Batch   200  of    240.    Elapsed: 0:03:36.\n",
      "\n",
      "  Average training loss: 0.00\n",
      "  Training epoch took: 0:04:19\n",
      "\n",
      "Running Validation...\n",
      "  Accuracy: 1.00\n",
      "  Validation took: 0:00:10\n",
      "\n",
      "======== Epoch 17 / 20 ========\n",
      "Training...\n",
      "  Batch    40  of    240.    Elapsed: 0:00:43.\n",
      "  Batch    80  of    240.    Elapsed: 0:01:27.\n",
      "  Batch   120  of    240.    Elapsed: 0:02:10.\n",
      "  Batch   160  of    240.    Elapsed: 0:02:53.\n",
      "  Batch   200  of    240.    Elapsed: 0:03:37.\n",
      "\n",
      "  Average training loss: 0.00\n",
      "  Training epoch took: 0:04:20\n",
      "\n",
      "Running Validation...\n",
      "  Accuracy: 1.00\n",
      "  Validation took: 0:00:10\n",
      "\n",
      "======== Epoch 18 / 20 ========\n",
      "Training...\n",
      "  Batch    40  of    240.    Elapsed: 0:00:43.\n",
      "  Batch    80  of    240.    Elapsed: 0:01:27.\n",
      "  Batch   120  of    240.    Elapsed: 0:02:10.\n",
      "  Batch   160  of    240.    Elapsed: 0:02:53.\n",
      "  Batch   200  of    240.    Elapsed: 0:03:37.\n",
      "\n",
      "  Average training loss: 0.00\n",
      "  Training epoch took: 0:04:20\n",
      "\n",
      "Running Validation...\n",
      "  Accuracy: 1.00\n",
      "  Validation took: 0:00:10\n",
      "\n",
      "======== Epoch 19 / 20 ========\n",
      "Training...\n",
      "  Batch    40  of    240.    Elapsed: 0:00:43.\n",
      "  Batch    80  of    240.    Elapsed: 0:01:26.\n",
      "  Batch   120  of    240.    Elapsed: 0:02:10.\n",
      "  Batch   160  of    240.    Elapsed: 0:02:53.\n",
      "  Batch   200  of    240.    Elapsed: 0:03:36.\n",
      "\n",
      "  Average training loss: 0.00\n",
      "  Training epoch took: 0:04:19\n",
      "\n",
      "Running Validation...\n",
      "  Accuracy: 1.00\n",
      "  Validation took: 0:00:10\n",
      "\n",
      "======== Epoch 20 / 20 ========\n",
      "Training...\n",
      "  Batch    40  of    240.    Elapsed: 0:00:43.\n",
      "  Batch    80  of    240.    Elapsed: 0:01:26.\n",
      "  Batch   120  of    240.    Elapsed: 0:02:10.\n",
      "  Batch   160  of    240.    Elapsed: 0:02:53.\n",
      "  Batch   200  of    240.    Elapsed: 0:03:36.\n",
      "\n",
      "  Average training loss: 0.00\n",
      "  Training epoch took: 0:04:19\n",
      "\n",
      "Running Validation...\n",
      "  Accuracy: 1.00\n",
      "  Validation took: 0:00:10\n",
      "\n",
      "Training complete!\n"
     ]
    }
   ],
   "source": [
    "import random\n",
    "# This training code is based on the `run_glue.py` script here:\n",
    "# https://github.com/huggingface/transformers/blob/5bfcd0485ece086ebcbed2d008813037968a9e58/examples/run_glue.py#L128\n",
    "# Set the seed value all over the place to make this reproducible.\n",
    "torch.cuda.empty_cache()\n",
    "seed_val = 421337\n",
    "random.seed(seed_val)\n",
    "np.random.seed(seed_val)\n",
    "torch.manual_seed(seed_val)\n",
    "torch.cuda.manual_seed_all(seed_val)\n",
    "# Store the average loss after each epoch so we can plot them.\n",
    "loss_values = []\n",
    "# For each epoch...\n",
    "for epoch_i in range(0, epochs):\n",
    "    \n",
    "    # ========================================\n",
    "    #               Training\n",
    "    # ========================================\n",
    "    \n",
    "    # Perform one full pass over the training set.\n",
    "    print(\"\")\n",
    "    print('======== Epoch {:} / {:} ========'.format(epoch_i + 1, epochs))\n",
    "    print('Training...')\n",
    "    # Measure how long the training epoch takes.\n",
    "    t0 = time.time()\n",
    "    # Reset the total loss for this epoch.\n",
    "    total_loss = 0\n",
    "    # Put the model into training mode. Don't be mislead--the call to \n",
    "    # `train` just changes the *mode*, it doesn't *perform* the training.\n",
    "    # `dropout` and `batchnorm` layers behave differently during training\n",
    "    # vs. test (source: https://stackoverflow.com/questions/51433378/what-does-model-train-do-in-pytorch)\n",
    "    model.train()\n",
    "    # For each batch of training data...\n",
    "    for step, batch in enumerate(train_dataloader):\n",
    "        # Progress update every 40 batches.\n",
    "        if step % 40 == 0 and not step == 0:\n",
    "            # Calculate elapsed time in minutes.\n",
    "            elapsed = format_time(time.time() - t0)\n",
    "            \n",
    "            # Report progress.\n",
    "            print('  Batch {:>5,}  of  {:>5,}.    Elapsed: {:}.'.format(step, len(train_dataloader), elapsed))\n",
    "        # Unpack this training batch from our dataloader. \n",
    "        #\n",
    "        # As we unpack the batch, we'll also copy each tensor to the GPU using the \n",
    "        # `to` method.\n",
    "        #\n",
    "        # `batch` contains three pytorch tensors:\n",
    "        #   [0]: input ids \n",
    "        #   [1]: attention masks\n",
    "        #   [2]: labels \n",
    "        b_input_ids = batch[0].to(device)\n",
    "        b_input_mask = batch[1].to(device)\n",
    "        b_labels = batch[2].to(device)\n",
    "        # Always clear any previously calculated gradients before performing a\n",
    "        # backward pass. PyTorch doesn't do this automatically because \n",
    "        # accumulating the gradients is \"convenient while training RNNs\". \n",
    "        # (source: https://stackoverflow.com/questions/48001598/why-do-we-need-to-call-zero-grad-in-pytorch)\n",
    "        model.zero_grad()        \n",
    "        # Perform a forward pass (evaluate the model on this training batch).\n",
    "        # This will return the loss (rather than the model output) because we\n",
    "        # have provided the `labels`.\n",
    "        # The documentation for this `model` function is here: \n",
    "        # https://huggingface.co/transformers/v2.2.0/model_doc/bert.html#transformers.BertForSequenceClassification\n",
    "        outputs = model(b_input_ids, \n",
    "                    token_type_ids=None, \n",
    "                    attention_mask=b_input_mask, \n",
    "                    labels=b_labels)\n",
    "        \n",
    "        # The call to `model` always returns a tuple, so we need to pull the \n",
    "        # loss value out of the tuple.\n",
    "        loss = outputs[0]\n",
    "        # Accumulate the training loss over all of the batches so that we can\n",
    "        # calculate the average loss at the end. `loss` is a Tensor containing a\n",
    "        # single value; the `.item()` function just returns the Python value \n",
    "        # from the tensor.\n",
    "        total_loss += loss.item()\n",
    "        # Perform a backward pass to calculate the gradients.\n",
    "        loss.backward()\n",
    "        # Clip the norm of the gradients to 1.0.\n",
    "        # This is to help prevent the \"exploding gradients\" problem.\n",
    "        torch.nn.utils.clip_grad_norm_(model.parameters(), 1.0)\n",
    "        # Update parameters and take a step using the computed gradient.\n",
    "        # The optimizer dictates the \"update rule\"--how the parameters are\n",
    "        # modified based on their gradients, the learning rate, etc.\n",
    "        optimizer.step()\n",
    "        # Update the learning rate.\n",
    "        scheduler.step()\n",
    "    # Calculate the average loss over the training data.\n",
    "    avg_train_loss = total_loss / len(train_dataloader)            \n",
    "    \n",
    "    # Store the loss value for plotting the learning curve.\n",
    "    loss_values.append(avg_train_loss)\n",
    "    print(\"\")\n",
    "    print(\"  Average training loss: {0:.2f}\".format(avg_train_loss))\n",
    "    print(\"  Training epoch took: {:}\".format(format_time(time.time() - t0)))\n",
    "        \n",
    "    # ========================================\n",
    "    #               Validation\n",
    "    # ========================================\n",
    "    # After the completion of each training epoch, measure our performance on\n",
    "    # our validation set.\n",
    "    print(\"\")\n",
    "    print(\"Running Validation...\")\n",
    "    t0 = time.time()\n",
    "    # Put the model in evaluation mode--the dropout layers behave differently\n",
    "    # during evaluation.\n",
    "    model.eval()\n",
    "    # Tracking variables \n",
    "    eval_loss, eval_accuracy = 0, 0\n",
    "    nb_eval_steps, nb_eval_examples = 0, 0\n",
    "    # Evaluate data for one epoch\n",
    "    for batch in validation_dataloader:\n",
    "        \n",
    "        # Add batch to GPU\n",
    "        batch = tuple(t.to(device) for t in batch)\n",
    "        \n",
    "        # Unpack the inputs from our dataloader\n",
    "        b_input_ids, b_input_mask, b_labels = batch\n",
    "        \n",
    "        # Telling the model not to compute or store gradients, saving memory and\n",
    "        # speeding up validation\n",
    "        with torch.no_grad():        \n",
    "            # Forward pass, calculate logit predictions.\n",
    "            # This will return the logits rather than the loss because we have\n",
    "            # not provided labels.\n",
    "            # token_type_ids is the same as the \"segment ids\", which \n",
    "            # differentiates sentence 1 and 2 in 2-sentence tasks.\n",
    "            # The documentation for this `model` function is here: \n",
    "            # https://huggingface.co/transformers/v2.2.0/model_doc/bert.html#transformers.BertForSequenceClassification\n",
    "            outputs = model(b_input_ids, \n",
    "                            token_type_ids=None, \n",
    "                            attention_mask=b_input_mask)\n",
    "        \n",
    "        # Get the \"logits\" output by the model. The \"logits\" are the output\n",
    "        # values prior to applying an activation function like the softmax.\n",
    "        logits = outputs[0]\n",
    "        # Move logits and labels to CPU\n",
    "        logits = logits.detach().cpu().numpy()\n",
    "        label_ids = b_labels.to('cpu').numpy()\n",
    "        \n",
    "        # Calculate the accuracy for this batch of test sentences.\n",
    "        tmp_eval_accuracy = flat_accuracy(logits, label_ids)\n",
    "        \n",
    "        # Accumulate the total accuracy.\n",
    "        eval_accuracy += tmp_eval_accuracy\n",
    "        # Track the number of batches\n",
    "        nb_eval_steps += 1\n",
    "    # Report the final accuracy for this validation run.\n",
    "    print(\"  Accuracy: {0:.2f}\".format(eval_accuracy/nb_eval_steps))\n",
    "    print(\"  Validation took: {:}\".format(format_time(time.time() - t0)))\n",
    "print(\"\")\n",
    "print(\"Training complete!\")"
   ]
  },
  {
   "cell_type": "code",
   "execution_count": 32,
   "metadata": {
    "id": "zpR_JnnOg8vq"
   },
   "outputs": [],
   "source": [
    "#torch.save(model.state_dict(), colname+'_secondary_with_corpus_state_dict.pt')\n",
    "torch.save(model, colname+'_secondary_with_corpus.pt')"
   ]
  },
  {
   "cell_type": "code",
   "execution_count": 33,
   "metadata": {
    "colab": {
     "base_uri": "https://localhost:8080/",
     "height": 265
    },
    "id": "_-8y66_JK3C6",
    "outputId": "52412569-8c21-4276-d24a-5e16571bb123"
   },
   "outputs": [
    {
     "data": {
      "image/png": "[encoded data removed]",
      "text/plain": [
       "<Figure size 640x480 with 1 Axes>"
      ]
     },
     "metadata": {},
     "output_type": "display_data"
    }
   ],
   "source": [
    "import matplotlib.pyplot as plt\n",
    "f = pd.DataFrame(loss_values)\n",
    "f.columns=['Loss']\n",
    "fig = plt.plot(f.index, f.Loss)\n",
    "plt.show()"
   ]
  },
  {
   "cell_type": "code",
   "execution_count": 34,
   "metadata": {
    "colab": {
     "base_uri": "https://localhost:8080/"
    },
    "id": "_YOL-W8rwRat",
    "outputId": "159e96e0-fe55-4c3a-919d-82c36290e31f"
   },
   "outputs": [
    {
     "name": "stdout",
     "output_type": "stream",
     "text": [
      "Number of test sentences: 2,132\n",
      "\n"
     ]
    },
    {
     "name": "stderr",
     "output_type": "stream",
     "text": [
      "/tmp/ipykernel_192880/708511204.py:39: UserWarning: To copy construct from a tensor, it is recommended to use sourceTensor.clone().detach() or sourceTensor.clone().detach().requires_grad_(True), rather than torch.tensor(sourceTensor).\n",
      "  prediction_labels = torch.tensor(labels)\n"
     ]
    }
   ],
   "source": [
    "#Test data\n",
    "\n",
    "import pandas as pd\n",
    "# Load the dataset into a pandas dataframe.\n",
    "\n",
    "# Report the number of sentences.\n",
    "print('Number of test sentences: {:,}\\n'.format(test.shape[0]))\n",
    "# Create sentence and label lists\n",
    "sentences = test.sentence.values\n",
    "labels = test.drop(columns=['sentence'])[colname].values\n",
    "# Tokenize all of the sentences and map the tokens to thier word IDs.\n",
    "input_ids = []\n",
    "# For every sentence...\n",
    "for sent in sentences:\n",
    "    # `encode` will:\n",
    "    #   (1) Tokenize the sentence.\n",
    "    #   (2) Prepend the `[CLS]` token to the start.\n",
    "    #   (3) Append the `[SEP]` token to the end.\n",
    "    #   (4) Map tokens to their IDs.\n",
    "    encoded_sent = tokenizer.encode(\n",
    "                        sent,                      # Sentence to encode.\n",
    "                        add_special_tokens = True, # Add '[CLS]' and '[SEP]'\n",
    "                   )\n",
    "    \n",
    "    input_ids.append(encoded_sent)\n",
    "# Pad our input tokens\n",
    "input_ids = pad_sequences(input_ids, maxlen=MAX_LEN, \n",
    "                          dtype=\"long\", truncating=\"post\", padding=\"post\")\n",
    "labels = torch.tensor(labels,dtype=torch.long)\n",
    "# Create attention masks\n",
    "attention_masks = []\n",
    "# Create a mask of 1s for each token followed by 0s for padding\n",
    "for seq in input_ids:\n",
    "  seq_mask = [float(i>0) for i in seq]\n",
    "  attention_masks.append(seq_mask) \n",
    "# Convert to tensors.\n",
    "prediction_inputs = torch.tensor(input_ids)\n",
    "prediction_masks = torch.tensor(attention_masks)\n",
    "prediction_labels = torch.tensor(labels)\n",
    "# Set the batch size.  \n",
    "batch_size = 32  \n",
    "# Create the DataLoader.\n",
    "prediction_data = TensorDataset(prediction_inputs, prediction_masks, prediction_labels)\n",
    "prediction_sampler = SequentialSampler(prediction_data)\n",
    "prediction_dataloader = DataLoader(prediction_data, sampler=prediction_sampler, batch_size=batch_size)"
   ]
  },
  {
   "cell_type": "code",
   "execution_count": 35,
   "metadata": {
    "colab": {
     "base_uri": "https://localhost:8080/"
    },
    "id": "wShgOY4K42p4",
    "outputId": "9ee18474-2037-4ad0-e517-d1fb30718e26"
   },
   "outputs": [
    {
     "name": "stdout",
     "output_type": "stream",
     "text": [
      "Predicting labels for 2,132 test sentences...\n"
     ]
    },
    {
     "name": "stderr",
     "output_type": "stream",
     "text": [
      "2024-03-08 10:41:40.835072: I tensorflow/core/common_runtime/gpu/gpu_device.cc:1929] Created device /job:localhost/replica:0/task:0/device:GPU:0 with 58 MB memory:  -> device: 0, name: NVIDIA A100-PCIE-40GB, pci bus id: 0000:21:00.0, compute capability: 8.0\n",
      "2024-03-08 10:41:40.838000: I tensorflow/core/common_runtime/gpu/gpu_device.cc:1929] Created device /job:localhost/replica:0/task:0/device:GPU:1 with 37932 MB memory:  -> device: 1, name: NVIDIA A100-PCIE-40GB, pci bus id: 0000:81:00.0, compute capability: 8.0\n",
      "2024-03-08 10:41:40.862157: I external/local_xla/xla/stream_executor/cuda/cuda_driver.cc:1101] failed to allocate 58.94MiB (61800448 bytes) from device: CUDA_ERROR_OUT_OF_MEMORY: out of memory\n"
     ]
    },
    {
     "name": "stdout",
     "output_type": "stream",
     "text": [
      "DONE.\n"
     ]
    }
   ],
   "source": [
    "import tensorflow as tf\n",
    "# Prediction on test set\n",
    "print('Predicting labels for {:,} test sentences...'.format(len(prediction_inputs)))\n",
    "# Put model in evaluation mode\n",
    "model.eval()\n",
    "# Tracking variables \n",
    "predictions , true_labels, prediction_probs = [], [],[] #Atefeh\n",
    "# Predict \n",
    "for batch in prediction_dataloader:\n",
    "  # Add batch to GPU\n",
    "  batch = tuple(t.to(device) for t in batch)\n",
    "  \n",
    "  # Unpack the inputs from our dataloader\n",
    "  b_input_ids, b_input_mask, b_labels = batch\n",
    "  \n",
    "  # Telling the model not to compute or store gradients, saving memory and \n",
    "  # speeding up prediction\n",
    "  with torch.no_grad():\n",
    "      # Forward pass, calculate logit predictions\n",
    "      outputs = model(b_input_ids, token_type_ids=None, \n",
    "                      attention_mask=b_input_mask)\n",
    "  logits = outputs[0]\n",
    "  # Move logits and labels to CPU\n",
    "  logits = logits.detach().cpu().numpy()\n",
    "  label_ids = b_labels.to('cpu').numpy()\n",
    "  \n",
    "  prediction_probs.append (tf.nn.softmax(logits))\n",
    "\n",
    "  # Store predictions and true labels\n",
    "  predictions.append(logits)\n",
    "  true_labels.append(label_ids)\n",
    "print('DONE.')"
   ]
  },
  {
   "cell_type": "code",
   "execution_count": 36,
   "metadata": {
    "colab": {
     "base_uri": "https://localhost:8080/"
    },
    "id": "m5FmWBTQAKqg",
    "outputId": "a5789880-4938-43b2-dfb0-24294429fa2f"
   },
   "outputs": [
    {
     "data": {
      "text/plain": [
       "[<tf.Tensor: shape=(32, 2), dtype=float32, numpy=\n",
       " array([[2.2782608e-06, 9.9999774e-01],\n",
       "        [9.9999833e-01, 1.6226944e-06],\n",
       "        [9.9999845e-01, 1.6024657e-06],\n",
       "        [2.7126414e-06, 9.9999726e-01],\n",
       "        [2.8959421e-06, 9.9999714e-01],\n",
       "        [9.9999762e-01, 2.3382586e-06],\n",
       "        [9.9999833e-01, 1.6226727e-06],\n",
       "        [2.0103228e-06, 9.9999797e-01],\n",
       "        [9.9999833e-01, 1.6812410e-06],\n",
       "        [9.9999714e-01, 2.8710720e-06],\n",
       "        [9.9999845e-01, 1.5336254e-06],\n",
       "        [9.9999833e-01, 1.6374330e-06],\n",
       "        [9.9999821e-01, 1.8067865e-06],\n",
       "        [9.9999833e-01, 1.6312079e-06],\n",
       "        [9.9999845e-01, 1.5690872e-06],\n",
       "        [9.9999821e-01, 1.8368204e-06],\n",
       "        [9.9999821e-01, 1.8064986e-06],\n",
       "        [3.1419529e-06, 9.9999690e-01],\n",
       "        [9.9999845e-01, 1.5355922e-06],\n",
       "        [9.9999821e-01, 1.7458182e-06],\n",
       "        [9.9999845e-01, 1.5765495e-06],\n",
       "        [9.9999666e-01, 3.3970337e-06],\n",
       "        [2.0870302e-06, 9.9999785e-01],\n",
       "        [9.9999833e-01, 1.6364761e-06],\n",
       "        [9.9999845e-01, 1.6019432e-06],\n",
       "        [9.9999845e-01, 1.5688657e-06],\n",
       "        [9.9999821e-01, 1.7906756e-06],\n",
       "        [9.9999821e-01, 1.8404482e-06],\n",
       "        [9.9999821e-01, 1.7606621e-06],\n",
       "        [5.1561078e-06, 9.9999487e-01],\n",
       "        [9.9999833e-01, 1.6312079e-06],\n",
       "        [9.9999833e-01, 1.6613436e-06]], dtype=float32)>]"
      ]
     },
     "execution_count": 36,
     "metadata": {},
     "output_type": "execute_result"
    }
   ],
   "source": [
    "prediction_probs[:1]"
   ]
  },
  {
   "cell_type": "markdown",
   "metadata": {
    "id": "gsCF__W7Hw_e"
   },
   "source": [
    "# Evaluation Metrics"
   ]
  },
  {
   "cell_type": "code",
   "execution_count": 37,
   "metadata": {
    "colab": {
     "base_uri": "https://localhost:8080/"
    },
    "id": "mTbhA-wu5Csx",
    "outputId": "ff17771d-6b08-4da0-c581-3ee9631d2345"
   },
   "outputs": [
    {
     "name": "stdout",
     "output_type": "stream",
     "text": [
      "(32, 2)\n",
      "Calculating Matthews Corr. Coef. for each batch...\n"
     ]
    }
   ],
   "source": [
    "from sklearn.metrics import matthews_corrcoef\n",
    "matthews_set = []\n",
    "print(predictions[0].shape)\n",
    "# Evaluate each test batch using Matthew's correlation coefficient\n",
    "print('Calculating Matthews Corr. Coef. for each batch...')\n",
    "# For each input batch...\n",
    "for i in range(len(true_labels)):\n",
    "  \n",
    "  # The predictions for this batch are a 2-column ndarray (one column for \"0\" \n",
    "  # and one column for \"1\"). Pick the label with the highest value and turn this\n",
    "  # in to a list of 0s and 1s.\n",
    "  pred_labels_i = np.argmax(predictions[i], axis=1).flatten()\n",
    "  \n",
    "  # Calculate and store the coef for this batch.  \n",
    "  matthews = matthews_corrcoef(true_labels[i], pred_labels_i)                \n",
    "  matthews_set.append(matthews)"
   ]
  },
  {
   "cell_type": "code",
   "execution_count": 38,
   "metadata": {
    "colab": {
     "base_uri": "https://localhost:8080/"
    },
    "id": "-bC6BS7UQs3O",
    "outputId": "70fb810a-0707-4ae3-d0a9-2f82eff3682d"
   },
   "outputs": [
    {
     "name": "stdout",
     "output_type": "stream",
     "text": [
      "MCC: 1.000\n"
     ]
    }
   ],
   "source": [
    "# Combine the predictions for each batch into a single list of 0s and 1s.\n",
    "flat_predictions = [item for sublist in predictions for item in sublist]\n",
    "flat_predictions = np.argmax(flat_predictions, axis=1).flatten()\n",
    "# Combine the correct labels for each batch into a single list.\n",
    "flat_true_labels = [item for sublist in true_labels for item in sublist]\n",
    "# Calculate the MCC\n",
    "mcc = matthews_corrcoef(flat_true_labels, flat_predictions)\n",
    "print('MCC: %.3f' % mcc)"
   ]
  },
  {
   "cell_type": "code",
   "execution_count": 39,
   "metadata": {
    "id": "SJZOYKlZDn2Z"
   },
   "outputs": [],
   "source": [
    "# Combine the predictions for each batch into a single list of 0s and 1s.\n",
    "#By Atefeh here we have prediction_probs list instead of predictions\n",
    "flat_predictions = [item for sublist in prediction_probs for item in sublist]\n",
    "#flat_predictions = np.amax(flat_predictions, axis=1).flatten()\n",
    "\n",
    "flat_predictions = np.argmax(flat_predictions, axis=1).flatten()"
   ]
  },
  {
   "cell_type": "code",
   "execution_count": 40,
   "metadata": {
    "id": "Y34fXlu56Tiq"
   },
   "outputs": [],
   "source": [
    "from sklearn.metrics import auc\n",
    "from sklearn.metrics import classification_report\n",
    "import seaborn as sns\n",
    "import matplotlib.pyplot as plt\n",
    "from sklearn.metrics import roc_curve,confusion_matrix,auc\n",
    "\n",
    "def roc_curve_plot(fpr,tpr,roc_auc):\n",
    "    plt.figure()\n",
    "    lw = 2\n",
    "    plt.plot(fpr, tpr, color='darkorange',\n",
    "             lw=lw, label='ROC curve (area = %0.2f)' %roc_auc)\n",
    "    plt.plot([0, 1], [0, 1], color='navy', lw=lw, linestyle='--')\n",
    "    plt.xlim([0.0, 1.0])\n",
    "    plt.ylim([0.0, 1.05])\n",
    "    plt.xlabel('False Positive Rate')\n",
    "    plt.ylabel('True Positive Rate')\n",
    "    plt.title('Receiver operating characteristic for tactic: '+colname)\n",
    "    plt.legend(loc=\"lower right\")\n",
    "    plt.show()"
   ]
  },
  {
   "cell_type": "code",
   "execution_count": 41,
   "metadata": {},
   "outputs": [
    {
     "data": {
      "text/plain": [
       "array([[1597,    0],\n",
       "       [   0,  535]])"
      ]
     },
     "execution_count": 41,
     "metadata": {},
     "output_type": "execute_result"
    }
   ],
   "source": [
    "from sklearn.metrics import confusion_matrix\n",
    "confusion_matrix(flat_true_labels,flat_predictions)"
   ]
  },
  {
   "cell_type": "code",
   "execution_count": 42,
   "metadata": {
    "id": "nYipnNqI_nwS"
   },
   "outputs": [
    {
     "data": {
      "image/png": "[encoded data removed]",
      "text/plain": [
       "<Figure size 640x480 with 1 Axes>"
      ]
     },
     "metadata": {},
     "output_type": "display_data"
    }
   ],
   "source": [
    "# visualize the ROC curve\n",
    "fpr, tpr, _ = roc_curve(flat_true_labels,flat_predictions)\n",
    "roc_auc = auc(fpr, tpr)\n",
    "roc_curve_plot(fpr,tpr,roc_auc)"
   ]
  },
  {
   "cell_type": "code",
   "execution_count": 43,
   "metadata": {
    "id": "Jh7HtxDMpDqo"
   },
   "outputs": [
    {
     "data": {
      "image/png": "[encoded data removed]",
      "text/plain": [
       "<Figure size 640x480 with 1 Axes>"
      ]
     },
     "metadata": {},
     "output_type": "display_data"
    }
   ],
   "source": [
    "\n",
    "fpr, tpr, _ = roc_curve(flat_true_labels,flat_predictions)\n",
    "roc_auc = auc(fpr, tpr)\n",
    "roc_curve_plot(fpr,tpr,roc_auc)"
   ]
  },
  {
   "cell_type": "code",
   "execution_count": 44,
   "metadata": {
    "id": "kRQLidteErJn"
   },
   "outputs": [],
   "source": [
    "def plot_cm(y_true, y_pred, title):\n",
    "    ''''\n",
    "    input y_true-Ground Truth Labels\n",
    "          y_pred-Predicted Value of Model\n",
    "          title-What Title to give to the confusion matrix\n",
    "    \n",
    "    Draws a Confusion Matrix for better understanding of how the model is working\n",
    "    \n",
    "    return None\n",
    "    \n",
    "    '''\n",
    "    \n",
    "    figsize=(10,10)\n",
    "    cm = confusion_matrix(y_true, y_pred, labels=np.unique(y_true))\n",
    "    cm_sum = np.sum(cm, axis=1, keepdims=True)\n",
    "    cm_perc = cm / cm_sum.astype(float) * 100\n",
    "    annot = np.empty_like(cm).astype(str)\n",
    "    nrows, ncols = cm.shape\n",
    "    for i in range(nrows):\n",
    "        for j in range(ncols):\n",
    "            c = cm[i, j]\n",
    "            p = cm_perc[i, j]\n",
    "            if i == j:\n",
    "                s = cm_sum[i]\n",
    "                annot[i, j] = '%.1f%%\\n%d/%d' % (p, c, s)\n",
    "            elif c == 0:\n",
    "                annot[i, j] = ''\n",
    "            else:\n",
    "                annot[i, j] = '%.1f%%\\n%d' % (p, c)\n",
    "    cm = pd.DataFrame(cm, index=np.unique(y_true), columns=np.unique(y_true))\n",
    "    cm.index.name = 'Actual'\n",
    "    cm.columns.name = 'Predicted'\n",
    "    fig, ax = plt.subplots(figsize=figsize)\n",
    "    plt.title(title)\n",
    "    sns.heatmap(cm, cmap= \"YlGnBu\", annot=annot, fmt='', ax=ax)"
   ]
  },
  {
   "cell_type": "code",
   "execution_count": 45,
   "metadata": {
    "colab": {
     "base_uri": "https://localhost:8080/",
     "height": 621
    },
    "id": "xYSHmjMKQ800",
    "outputId": "97c07480-6f88-4b9f-ffc0-53d00ac7c512"
   },
   "outputs": [
    {
     "name": "stderr",
     "output_type": "stream",
     "text": [
      "/tmp/ipykernel_192880/2625397281.py:25: DeprecationWarning: Conversion of an array with ndim > 0 to a scalar is deprecated, and will error in future. Ensure you extract a single element from your array before performing this operation. (Deprecated NumPy 1.25.)\n",
      "  annot[i, j] = '%.1f%%\\n%d/%d' % (p, c, s)\n"
     ]
    },
    {
     "data": {
      "image/png": "[encoded data removed]",
      "text/plain": [
       "<Figure size 1000x1000 with 2 Axes>"
      ]
     },
     "metadata": {},
     "output_type": "display_data"
    }
   ],
   "source": [
    "plot_cm(flat_true_labels, flat_predictions, colname)"
   ]
  },
  {
   "cell_type": "code",
   "execution_count": 46,
   "metadata": {
    "colab": {
     "base_uri": "https://localhost:8080/"
    },
    "id": "yKHQ5aCsva0S",
    "outputId": "b13c5885-3af4-49ca-a716-6d1d491685f3"
   },
   "outputs": [
    {
     "name": "stdout",
     "output_type": "stream",
     "text": [
      "Accuracy: 1.000\n",
      "Precision: 1.000\n",
      "Recall: 1.000\n",
      "F1 Score: 1.000\n"
     ]
    }
   ],
   "source": [
    "#new data 149len and 4 epochs\n",
    "from sklearn.metrics import precision_score, recall_score, f1_score, accuracy_score\n",
    "print('Accuracy: %.3f' % accuracy_score(flat_true_labels, flat_predictions))\n",
    "print('Precision: %.3f' % precision_score(flat_true_labels, flat_predictions))\n",
    "print('Recall: %.3f' % recall_score(flat_true_labels, flat_predictions))\n",
    "print('F1 Score: %.3f' % f1_score(flat_true_labels, flat_predictions))"
   ]
  },
  {
   "cell_type": "code",
   "execution_count": 47,
   "metadata": {},
   "outputs": [],
   "source": [
    "# vergleiche oder listen\n",
    "# stories\n",
    "# repetitions"
   ]
  },
  {
   "cell_type": "code",
   "execution_count": 48,
   "metadata": {},
   "outputs": [],
   "source": [
    "torch.cuda.empty_cache()"
   ]
  },
  {
   "cell_type": "code",
   "execution_count": null,
   "metadata": {},
   "outputs": [],
   "source": []
  }
 ],
 "metadata": {
  "accelerator": "GPU",
  "colab": {
   "collapsed_sections": [
    "m0dkWtSyo537",
    "ZpNvv6d6mCPS",
    "bj4G9eWgmb7Q",
    "_VROJL-xn8dl",
    "qEb50x7Y_1FZ"
   ],
   "include_colab_link": true,
   "provenance": [],
   "toc_visible": true
  },
  "kernelspec": {
   "display_name": "Python 3 (ipykernel)",
   "language": "python",
   "name": "python3"
  },
  "language_info": {
   "codemirror_mode": {
    "name": "ipython",
    "version": 3
   },
   "file_extension": ".py",
   "mimetype": "text/x-python",
   "name": "python",
   "nbconvert_exporter": "python",
   "pygments_lexer": "ipython3",
   "version": "3.11.8"
  },
  "widgets": {
   "application/vnd.jupyter.widget-state+json": {
    "04723376a56d4501acfbaf30358e0267": {
     "model_module": "@jupyter-widgets/controls",
     "model_module_version": "1.5.0",
     "model_name": "FloatProgressModel",
     "state": {
      "_dom_classes": [],
      "_model_module": "@jupyter-widgets/controls",
      "_model_module_version": "1.5.0",
      "_model_name": "FloatProgressModel",
      "_view_count": null,
      "_view_module": "@jupyter-widgets/controls",
      "_view_module_version": "1.5.0",
      "_view_name": "ProgressView",
      "bar_style": "success",
      "description": "",
      "description_tooltip": null,
      "layout": "IPY_MODEL_a294ac5d5fde45ee9feaf7fe18ed997b",
      "max": 570,
      "min": 0,
      "orientation": "horizontal",
      "style": "IPY_MODEL_47b98777d5e840b1b1e9e51fcf5638c4",
      "value": 570
     }
    },
    "0b34bdd3ee164ee88a5fcec8d93d32c0": {
     "model_module": "@jupyter-widgets/base",
     "model_module_version": "1.2.0",
     "model_name": "LayoutModel",
     "state": {
      "_model_module": "@jupyter-widgets/base",
      "_model_module_version": "1.2.0",
      "_model_name": "LayoutModel",
      "_view_count": null,
      "_view_module": "@jupyter-widgets/base",
      "_view_module_version": "1.2.0",
      "_view_name": "LayoutView",
      "align_content": null,
      "align_items": null,
      "align_self": null,
      "border": null,
      "bottom": null,
      "display": null,
      "flex": null,
      "flex_flow": null,
      "grid_area": null,
      "grid_auto_columns": null,
      "grid_auto_flow": null,
      "grid_auto_rows": null,
      "grid_column": null,
      "grid_gap": null,
      "grid_row": null,
      "grid_template_areas": null,
      "grid_template_columns": null,
      "grid_template_rows": null,
      "height": null,
      "justify_content": null,
      "justify_items": null,
      "left": null,
      "margin": null,
      "max_height": null,
      "max_width": null,
      "min_height": null,
      "min_width": null,
      "object_fit": null,
      "object_position": null,
      "order": null,
      "overflow": null,
      "overflow_x": null,
      "overflow_y": null,
      "padding": null,
      "right": null,
      "top": null,
      "visibility": null,
      "width": null
     }
    },
    "11b2d6e950a740f4b21370a9668c4c55": {
     "model_module": "@jupyter-widgets/controls",
     "model_module_version": "1.5.0",
     "model_name": "DescriptionStyleModel",
     "state": {
      "_model_module": "@jupyter-widgets/controls",
      "_model_module_version": "1.5.0",
      "_model_name": "DescriptionStyleModel",
      "_view_count": null,
      "_view_module": "@jupyter-widgets/base",
      "_view_module_version": "1.2.0",
      "_view_name": "StyleView",
      "description_width": ""
     }
    },
    "144075945c6c41378b4bc11290c4dbd9": {
     "model_module": "@jupyter-widgets/base",
     "model_module_version": "1.2.0",
     "model_name": "LayoutModel",
     "state": {
      "_model_module": "@jupyter-widgets/base",
      "_model_module_version": "1.2.0",
      "_model_name": "LayoutModel",
      "_view_count": null,
      "_view_module": "@jupyter-widgets/base",
      "_view_module_version": "1.2.0",
      "_view_name": "LayoutView",
      "align_content": null,
      "align_items": null,
      "align_self": null,
      "border": null,
      "bottom": null,
      "display": null,
      "flex": null,
      "flex_flow": null,
      "grid_area": null,
      "grid_auto_columns": null,
      "grid_auto_flow": null,
      "grid_auto_rows": null,
      "grid_column": null,
      "grid_gap": null,
      "grid_row": null,
      "grid_template_areas": null,
      "grid_template_columns": null,
      "grid_template_rows": null,
      "height": null,
      "justify_content": null,
      "justify_items": null,
      "left": null,
      "margin": null,
      "max_height": null,
      "max_width": null,
      "min_height": null,
      "min_width": null,
      "object_fit": null,
      "object_position": null,
      "order": null,
      "overflow": null,
      "overflow_x": null,
      "overflow_y": null,
      "padding": null,
      "right": null,
      "top": null,
      "visibility": null,
      "width": null
     }
    },
    "1b0c580581ad49a3983723a2dc09a29c": {
     "model_module": "@jupyter-widgets/controls",
     "model_module_version": "1.5.0",
     "model_name": "HTMLModel",
     "state": {
      "_dom_classes": [],
      "_model_module": "@jupyter-widgets/controls",
      "_model_module_version": "1.5.0",
      "_model_name": "HTMLModel",
      "_view_count": null,
      "_view_module": "@jupyter-widgets/controls",
      "_view_module_version": "1.5.0",
      "_view_name": "HTMLView",
      "description": "",
      "description_tooltip": null,
      "layout": "IPY_MODEL_6e8e4b9880f94f63bb49324351ddf041",
      "placeholder": "​",
      "style": "IPY_MODEL_4b1807da41244845bc0cb13646ccd389",
      "value": "Downloading: 100%"
     }
    },
    "1baaf8197c5b449fb9e934b84c3e46cf": {
     "model_module": "@jupyter-widgets/controls",
     "model_module_version": "1.5.0",
     "model_name": "HBoxModel",
     "state": {
      "_dom_classes": [],
      "_model_module": "@jupyter-widgets/controls",
      "_model_module_version": "1.5.0",
      "_model_name": "HBoxModel",
      "_view_count": null,
      "_view_module": "@jupyter-widgets/controls",
      "_view_module_version": "1.5.0",
      "_view_name": "HBoxView",
      "box_style": "",
      "children": [
       "IPY_MODEL_1b0c580581ad49a3983723a2dc09a29c",
       "IPY_MODEL_f03766d51e3b47c98e5d92571da83540",
       "IPY_MODEL_ba85f6dd1e594ed481bbd13e219dcaa4"
      ],
      "layout": "IPY_MODEL_be07a4d29ce34df0b8cd17196429990a"
     }
    },
    "1dd117b8fb18405b926ac0dce6a0ffe8": {
     "model_module": "@jupyter-widgets/controls",
     "model_module_version": "1.5.0",
     "model_name": "ProgressStyleModel",
     "state": {
      "_model_module": "@jupyter-widgets/controls",
      "_model_module_version": "1.5.0",
      "_model_name": "ProgressStyleModel",
      "_view_count": null,
      "_view_module": "@jupyter-widgets/base",
      "_view_module_version": "1.2.0",
      "_view_name": "StyleView",
      "bar_color": null,
      "description_width": ""
     }
    },
    "1f0db9ba18d9400c91b7baf22d1c2214": {
     "model_module": "@jupyter-widgets/controls",
     "model_module_version": "1.5.0",
     "model_name": "DescriptionStyleModel",
     "state": {
      "_model_module": "@jupyter-widgets/controls",
      "_model_module_version": "1.5.0",
      "_model_name": "DescriptionStyleModel",
      "_view_count": null,
      "_view_module": "@jupyter-widgets/base",
      "_view_module_version": "1.2.0",
      "_view_name": "StyleView",
      "description_width": ""
     }
    },
    "1f482181c7914bde83126d5885f7a762": {
     "model_module": "@jupyter-widgets/base",
     "model_module_version": "1.2.0",
     "model_name": "LayoutModel",
     "state": {
      "_model_module": "@jupyter-widgets/base",
      "_model_module_version": "1.2.0",
      "_model_name": "LayoutModel",
      "_view_count": null,
      "_view_module": "@jupyter-widgets/base",
      "_view_module_version": "1.2.0",
      "_view_name": "LayoutView",
      "align_content": null,
      "align_items": null,
      "align_self": null,
      "border": null,
      "bottom": null,
      "display": null,
      "flex": null,
      "flex_flow": null,
      "grid_area": null,
      "grid_auto_columns": null,
      "grid_auto_flow": null,
      "grid_auto_rows": null,
      "grid_column": null,
      "grid_gap": null,
      "grid_row": null,
      "grid_template_areas": null,
      "grid_template_columns": null,
      "grid_template_rows": null,
      "height": null,
      "justify_content": null,
      "justify_items": null,
      "left": null,
      "margin": null,
      "max_height": null,
      "max_width": null,
      "min_height": null,
      "min_width": null,
      "object_fit": null,
      "object_position": null,
      "order": null,
      "overflow": null,
      "overflow_x": null,
      "overflow_y": null,
      "padding": null,
      "right": null,
      "top": null,
      "visibility": null,
      "width": null
     }
    },
    "36b96edad07144ad84bc070051c667d4": {
     "model_module": "@jupyter-widgets/base",
     "model_module_version": "1.2.0",
     "model_name": "LayoutModel",
     "state": {
      "_model_module": "@jupyter-widgets/base",
      "_model_module_version": "1.2.0",
      "_model_name": "LayoutModel",
      "_view_count": null,
      "_view_module": "@jupyter-widgets/base",
      "_view_module_version": "1.2.0",
      "_view_name": "LayoutView",
      "align_content": null,
      "align_items": null,
      "align_self": null,
      "border": null,
      "bottom": null,
      "display": null,
      "flex": null,
      "flex_flow": null,
      "grid_area": null,
      "grid_auto_columns": null,
      "grid_auto_flow": null,
      "grid_auto_rows": null,
      "grid_column": null,
      "grid_gap": null,
      "grid_row": null,
      "grid_template_areas": null,
      "grid_template_columns": null,
      "grid_template_rows": null,
      "height": null,
      "justify_content": null,
      "justify_items": null,
      "left": null,
      "margin": null,
      "max_height": null,
      "max_width": null,
      "min_height": null,
      "min_width": null,
      "object_fit": null,
      "object_position": null,
      "order": null,
      "overflow": null,
      "overflow_x": null,
      "overflow_y": null,
      "padding": null,
      "right": null,
      "top": null,
      "visibility": null,
      "width": null
     }
    },
    "393a75267c1d49bdb3bd2d86912b28e2": {
     "model_module": "@jupyter-widgets/base",
     "model_module_version": "1.2.0",
     "model_name": "LayoutModel",
     "state": {
      "_model_module": "@jupyter-widgets/base",
      "_model_module_version": "1.2.0",
      "_model_name": "LayoutModel",
      "_view_count": null,
      "_view_module": "@jupyter-widgets/base",
      "_view_module_version": "1.2.0",
      "_view_name": "LayoutView",
      "align_content": null,
      "align_items": null,
      "align_self": null,
      "border": null,
      "bottom": null,
      "display": null,
      "flex": null,
      "flex_flow": null,
      "grid_area": null,
      "grid_auto_columns": null,
      "grid_auto_flow": null,
      "grid_auto_rows": null,
      "grid_column": null,
      "grid_gap": null,
      "grid_row": null,
      "grid_template_areas": null,
      "grid_template_columns": null,
      "grid_template_rows": null,
      "height": null,
      "justify_content": null,
      "justify_items": null,
      "left": null,
      "margin": null,
      "max_height": null,
      "max_width": null,
      "min_height": null,
      "min_width": null,
      "object_fit": null,
      "object_position": null,
      "order": null,
      "overflow": null,
      "overflow_x": null,
      "overflow_y": null,
      "padding": null,
      "right": null,
      "top": null,
      "visibility": null,
      "width": null
     }
    },
    "47b98777d5e840b1b1e9e51fcf5638c4": {
     "model_module": "@jupyter-widgets/controls",
     "model_module_version": "1.5.0",
     "model_name": "ProgressStyleModel",
     "state": {
      "_model_module": "@jupyter-widgets/controls",
      "_model_module_version": "1.5.0",
      "_model_name": "ProgressStyleModel",
      "_view_count": null,
      "_view_module": "@jupyter-widgets/base",
      "_view_module_version": "1.2.0",
      "_view_name": "StyleView",
      "bar_color": null,
      "description_width": ""
     }
    },
    "4a10555540ed4911adb76c3d69914441": {
     "model_module": "@jupyter-widgets/base",
     "model_module_version": "1.2.0",
     "model_name": "LayoutModel",
     "state": {
      "_model_module": "@jupyter-widgets/base",
      "_model_module_version": "1.2.0",
      "_model_name": "LayoutModel",
      "_view_count": null,
      "_view_module": "@jupyter-widgets/base",
      "_view_module_version": "1.2.0",
      "_view_name": "LayoutView",
      "align_content": null,
      "align_items": null,
      "align_self": null,
      "border": null,
      "bottom": null,
      "display": null,
      "flex": null,
      "flex_flow": null,
      "grid_area": null,
      "grid_auto_columns": null,
      "grid_auto_flow": null,
      "grid_auto_rows": null,
      "grid_column": null,
      "grid_gap": null,
      "grid_row": null,
      "grid_template_areas": null,
      "grid_template_columns": null,
      "grid_template_rows": null,
      "height": null,
      "justify_content": null,
      "justify_items": null,
      "left": null,
      "margin": null,
      "max_height": null,
      "max_width": null,
      "min_height": null,
      "min_width": null,
      "object_fit": null,
      "object_position": null,
      "order": null,
      "overflow": null,
      "overflow_x": null,
      "overflow_y": null,
      "padding": null,
      "right": null,
      "top": null,
      "visibility": null,
      "width": null
     }
    },
    "4b1807da41244845bc0cb13646ccd389": {
     "model_module": "@jupyter-widgets/controls",
     "model_module_version": "1.5.0",
     "model_name": "DescriptionStyleModel",
     "state": {
      "_model_module": "@jupyter-widgets/controls",
      "_model_module_version": "1.5.0",
      "_model_name": "DescriptionStyleModel",
      "_view_count": null,
      "_view_module": "@jupyter-widgets/base",
      "_view_module_version": "1.2.0",
      "_view_name": "StyleView",
      "description_width": ""
     }
    },
    "4fd2282f62174b089a0a6b3cecdc28bb": {
     "model_module": "@jupyter-widgets/controls",
     "model_module_version": "1.5.0",
     "model_name": "ProgressStyleModel",
     "state": {
      "_model_module": "@jupyter-widgets/controls",
      "_model_module_version": "1.5.0",
      "_model_name": "ProgressStyleModel",
      "_view_count": null,
      "_view_module": "@jupyter-widgets/base",
      "_view_module_version": "1.2.0",
      "_view_name": "StyleView",
      "bar_color": null,
      "description_width": ""
     }
    },
    "519d371a8a2b48cf88e3ca6a0ce2a5d6": {
     "model_module": "@jupyter-widgets/controls",
     "model_module_version": "1.5.0",
     "model_name": "HTMLModel",
     "state": {
      "_dom_classes": [],
      "_model_module": "@jupyter-widgets/controls",
      "_model_module_version": "1.5.0",
      "_model_name": "HTMLModel",
      "_view_count": null,
      "_view_module": "@jupyter-widgets/controls",
      "_view_module_version": "1.5.0",
      "_view_name": "HTMLView",
      "description": "",
      "description_tooltip": null,
      "layout": "IPY_MODEL_393a75267c1d49bdb3bd2d86912b28e2",
      "placeholder": "​",
      "style": "IPY_MODEL_6229b3a04fa14bf399d37e474aab10bc",
      "value": "Downloading: 100%"
     }
    },
    "54d322ff0f13486db128fce09221d241": {
     "model_module": "@jupyter-widgets/controls",
     "model_module_version": "1.5.0",
     "model_name": "HTMLModel",
     "state": {
      "_dom_classes": [],
      "_model_module": "@jupyter-widgets/controls",
      "_model_module_version": "1.5.0",
      "_model_name": "HTMLModel",
      "_view_count": null,
      "_view_module": "@jupyter-widgets/controls",
      "_view_module_version": "1.5.0",
      "_view_name": "HTMLView",
      "description": "",
      "description_tooltip": null,
      "layout": "IPY_MODEL_0b34bdd3ee164ee88a5fcec8d93d32c0",
      "placeholder": "​",
      "style": "IPY_MODEL_e8173d6531724017948b0a487f9dd63e",
      "value": " 420M/420M [00:07&lt;00:00, 61.8MB/s]"
     }
    },
    "5c3ea0d0d975495da9a621ea0857442c": {
     "model_module": "@jupyter-widgets/controls",
     "model_module_version": "1.5.0",
     "model_name": "FloatProgressModel",
     "state": {
      "_dom_classes": [],
      "_model_module": "@jupyter-widgets/controls",
      "_model_module_version": "1.5.0",
      "_model_name": "FloatProgressModel",
      "_view_count": null,
      "_view_module": "@jupyter-widgets/controls",
      "_view_module_version": "1.5.0",
      "_view_name": "ProgressView",
      "bar_style": "success",
      "description": "",
      "description_tooltip": null,
      "layout": "IPY_MODEL_ea2509f82ed8415aa130b614d6d97d6d",
      "max": 231508,
      "min": 0,
      "orientation": "horizontal",
      "style": "IPY_MODEL_4fd2282f62174b089a0a6b3cecdc28bb",
      "value": 231508
     }
    },
    "60a9e3d87a8048a19502e4dc70309ea3": {
     "model_module": "@jupyter-widgets/controls",
     "model_module_version": "1.5.0",
     "model_name": "HBoxModel",
     "state": {
      "_dom_classes": [],
      "_model_module": "@jupyter-widgets/controls",
      "_model_module_version": "1.5.0",
      "_model_name": "HBoxModel",
      "_view_count": null,
      "_view_module": "@jupyter-widgets/controls",
      "_view_module_version": "1.5.0",
      "_view_name": "HBoxView",
      "box_style": "",
      "children": [
       "IPY_MODEL_519d371a8a2b48cf88e3ca6a0ce2a5d6",
       "IPY_MODEL_5c3ea0d0d975495da9a621ea0857442c",
       "IPY_MODEL_dd3cd04770d347c49e581e96d022faea"
      ],
      "layout": "IPY_MODEL_dae12a4dd89f41bb847cee62a16b4d58"
     }
    },
    "6229b3a04fa14bf399d37e474aab10bc": {
     "model_module": "@jupyter-widgets/controls",
     "model_module_version": "1.5.0",
     "model_name": "DescriptionStyleModel",
     "state": {
      "_model_module": "@jupyter-widgets/controls",
      "_model_module_version": "1.5.0",
      "_model_name": "DescriptionStyleModel",
      "_view_count": null,
      "_view_module": "@jupyter-widgets/base",
      "_view_module_version": "1.2.0",
      "_view_name": "StyleView",
      "description_width": ""
     }
    },
    "63081379e309475689de0da8eecd56c2": {
     "model_module": "@jupyter-widgets/controls",
     "model_module_version": "1.5.0",
     "model_name": "DescriptionStyleModel",
     "state": {
      "_model_module": "@jupyter-widgets/controls",
      "_model_module_version": "1.5.0",
      "_model_name": "DescriptionStyleModel",
      "_view_count": null,
      "_view_module": "@jupyter-widgets/base",
      "_view_module_version": "1.2.0",
      "_view_name": "StyleView",
      "description_width": ""
     }
    },
    "65dba09e2970473c9811af2ef1dee951": {
     "model_module": "@jupyter-widgets/base",
     "model_module_version": "1.2.0",
     "model_name": "LayoutModel",
     "state": {
      "_model_module": "@jupyter-widgets/base",
      "_model_module_version": "1.2.0",
      "_model_name": "LayoutModel",
      "_view_count": null,
      "_view_module": "@jupyter-widgets/base",
      "_view_module_version": "1.2.0",
      "_view_name": "LayoutView",
      "align_content": null,
      "align_items": null,
      "align_self": null,
      "border": null,
      "bottom": null,
      "display": null,
      "flex": null,
      "flex_flow": null,
      "grid_area": null,
      "grid_auto_columns": null,
      "grid_auto_flow": null,
      "grid_auto_rows": null,
      "grid_column": null,
      "grid_gap": null,
      "grid_row": null,
      "grid_template_areas": null,
      "grid_template_columns": null,
      "grid_template_rows": null,
      "height": null,
      "justify_content": null,
      "justify_items": null,
      "left": null,
      "margin": null,
      "max_height": null,
      "max_width": null,
      "min_height": null,
      "min_width": null,
      "object_fit": null,
      "object_position": null,
      "order": null,
      "overflow": null,
      "overflow_x": null,
      "overflow_y": null,
      "padding": null,
      "right": null,
      "top": null,
      "visibility": null,
      "width": null
     }
    },
    "6e8e4b9880f94f63bb49324351ddf041": {
     "model_module": "@jupyter-widgets/base",
     "model_module_version": "1.2.0",
     "model_name": "LayoutModel",
     "state": {
      "_model_module": "@jupyter-widgets/base",
      "_model_module_version": "1.2.0",
      "_model_name": "LayoutModel",
      "_view_count": null,
      "_view_module": "@jupyter-widgets/base",
      "_view_module_version": "1.2.0",
      "_view_name": "LayoutView",
      "align_content": null,
      "align_items": null,
      "align_self": null,
      "border": null,
      "bottom": null,
      "display": null,
      "flex": null,
      "flex_flow": null,
      "grid_area": null,
      "grid_auto_columns": null,
      "grid_auto_flow": null,
      "grid_auto_rows": null,
      "grid_column": null,
      "grid_gap": null,
      "grid_row": null,
      "grid_template_areas": null,
      "grid_template_columns": null,
      "grid_template_rows": null,
      "height": null,
      "justify_content": null,
      "justify_items": null,
      "left": null,
      "margin": null,
      "max_height": null,
      "max_width": null,
      "min_height": null,
      "min_width": null,
      "object_fit": null,
      "object_position": null,
      "order": null,
      "overflow": null,
      "overflow_x": null,
      "overflow_y": null,
      "padding": null,
      "right": null,
      "top": null,
      "visibility": null,
      "width": null
     }
    },
    "70f9d077f3d7468fb61ebcafe50b1ec8": {
     "model_module": "@jupyter-widgets/base",
     "model_module_version": "1.2.0",
     "model_name": "LayoutModel",
     "state": {
      "_model_module": "@jupyter-widgets/base",
      "_model_module_version": "1.2.0",
      "_model_name": "LayoutModel",
      "_view_count": null,
      "_view_module": "@jupyter-widgets/base",
      "_view_module_version": "1.2.0",
      "_view_name": "LayoutView",
      "align_content": null,
      "align_items": null,
      "align_self": null,
      "border": null,
      "bottom": null,
      "display": null,
      "flex": null,
      "flex_flow": null,
      "grid_area": null,
      "grid_auto_columns": null,
      "grid_auto_flow": null,
      "grid_auto_rows": null,
      "grid_column": null,
      "grid_gap": null,
      "grid_row": null,
      "grid_template_areas": null,
      "grid_template_columns": null,
      "grid_template_rows": null,
      "height": null,
      "justify_content": null,
      "justify_items": null,
      "left": null,
      "margin": null,
      "max_height": null,
      "max_width": null,
      "min_height": null,
      "min_width": null,
      "object_fit": null,
      "object_position": null,
      "order": null,
      "overflow": null,
      "overflow_x": null,
      "overflow_y": null,
      "padding": null,
      "right": null,
      "top": null,
      "visibility": null,
      "width": null
     }
    },
    "72138bc767d64714ad78e53b97ceeabe": {
     "model_module": "@jupyter-widgets/controls",
     "model_module_version": "1.5.0",
     "model_name": "ProgressStyleModel",
     "state": {
      "_model_module": "@jupyter-widgets/controls",
      "_model_module_version": "1.5.0",
      "_model_name": "ProgressStyleModel",
      "_view_count": null,
      "_view_module": "@jupyter-widgets/base",
      "_view_module_version": "1.2.0",
      "_view_name": "StyleView",
      "bar_color": null,
      "description_width": ""
     }
    },
    "749e1494df8f4839b45164ffbfcca798": {
     "model_module": "@jupyter-widgets/controls",
     "model_module_version": "1.5.0",
     "model_name": "FloatProgressModel",
     "state": {
      "_dom_classes": [],
      "_model_module": "@jupyter-widgets/controls",
      "_model_module_version": "1.5.0",
      "_model_name": "FloatProgressModel",
      "_view_count": null,
      "_view_module": "@jupyter-widgets/controls",
      "_view_module_version": "1.5.0",
      "_view_name": "ProgressView",
      "bar_style": "success",
      "description": "",
      "description_tooltip": null,
      "layout": "IPY_MODEL_9cc18e0ceace476a9c7340d91aef46cf",
      "max": 440473133,
      "min": 0,
      "orientation": "horizontal",
      "style": "IPY_MODEL_1dd117b8fb18405b926ac0dce6a0ffe8",
      "value": 440473133
     }
    },
    "7b94831dbc9e49cfb3ca5945f4eb0114": {
     "model_module": "@jupyter-widgets/controls",
     "model_module_version": "1.5.0",
     "model_name": "HTMLModel",
     "state": {
      "_dom_classes": [],
      "_model_module": "@jupyter-widgets/controls",
      "_model_module_version": "1.5.0",
      "_model_name": "HTMLModel",
      "_view_count": null,
      "_view_module": "@jupyter-widgets/controls",
      "_view_module_version": "1.5.0",
      "_view_name": "HTMLView",
      "description": "",
      "description_tooltip": null,
      "layout": "IPY_MODEL_144075945c6c41378b4bc11290c4dbd9",
      "placeholder": "​",
      "style": "IPY_MODEL_b803ed5763974ec18432ba5de2eff494",
      "value": "Downloading: 100%"
     }
    },
    "9749186028ec4e0caba7623e36d7509d": {
     "model_module": "@jupyter-widgets/controls",
     "model_module_version": "1.5.0",
     "model_name": "DescriptionStyleModel",
     "state": {
      "_model_module": "@jupyter-widgets/controls",
      "_model_module_version": "1.5.0",
      "_model_name": "DescriptionStyleModel",
      "_view_count": null,
      "_view_module": "@jupyter-widgets/base",
      "_view_module_version": "1.2.0",
      "_view_name": "StyleView",
      "description_width": ""
     }
    },
    "9cc18e0ceace476a9c7340d91aef46cf": {
     "model_module": "@jupyter-widgets/base",
     "model_module_version": "1.2.0",
     "model_name": "LayoutModel",
     "state": {
      "_model_module": "@jupyter-widgets/base",
      "_model_module_version": "1.2.0",
      "_model_name": "LayoutModel",
      "_view_count": null,
      "_view_module": "@jupyter-widgets/base",
      "_view_module_version": "1.2.0",
      "_view_name": "LayoutView",
      "align_content": null,
      "align_items": null,
      "align_self": null,
      "border": null,
      "bottom": null,
      "display": null,
      "flex": null,
      "flex_flow": null,
      "grid_area": null,
      "grid_auto_columns": null,
      "grid_auto_flow": null,
      "grid_auto_rows": null,
      "grid_column": null,
      "grid_gap": null,
      "grid_row": null,
      "grid_template_areas": null,
      "grid_template_columns": null,
      "grid_template_rows": null,
      "height": null,
      "justify_content": null,
      "justify_items": null,
      "left": null,
      "margin": null,
      "max_height": null,
      "max_width": null,
      "min_height": null,
      "min_width": null,
      "object_fit": null,
      "object_position": null,
      "order": null,
      "overflow": null,
      "overflow_x": null,
      "overflow_y": null,
      "padding": null,
      "right": null,
      "top": null,
      "visibility": null,
      "width": null
     }
    },
    "a294ac5d5fde45ee9feaf7fe18ed997b": {
     "model_module": "@jupyter-widgets/base",
     "model_module_version": "1.2.0",
     "model_name": "LayoutModel",
     "state": {
      "_model_module": "@jupyter-widgets/base",
      "_model_module_version": "1.2.0",
      "_model_name": "LayoutModel",
      "_view_count": null,
      "_view_module": "@jupyter-widgets/base",
      "_view_module_version": "1.2.0",
      "_view_name": "LayoutView",
      "align_content": null,
      "align_items": null,
      "align_self": null,
      "border": null,
      "bottom": null,
      "display": null,
      "flex": null,
      "flex_flow": null,
      "grid_area": null,
      "grid_auto_columns": null,
      "grid_auto_flow": null,
      "grid_auto_rows": null,
      "grid_column": null,
      "grid_gap": null,
      "grid_row": null,
      "grid_template_areas": null,
      "grid_template_columns": null,
      "grid_template_rows": null,
      "height": null,
      "justify_content": null,
      "justify_items": null,
      "left": null,
      "margin": null,
      "max_height": null,
      "max_width": null,
      "min_height": null,
      "min_width": null,
      "object_fit": null,
      "object_position": null,
      "order": null,
      "overflow": null,
      "overflow_x": null,
      "overflow_y": null,
      "padding": null,
      "right": null,
      "top": null,
      "visibility": null,
      "width": null
     }
    },
    "a8a17b8996dd4855b863da2b86bcd1b3": {
     "model_module": "@jupyter-widgets/controls",
     "model_module_version": "1.5.0",
     "model_name": "HBoxModel",
     "state": {
      "_dom_classes": [],
      "_model_module": "@jupyter-widgets/controls",
      "_model_module_version": "1.5.0",
      "_model_name": "HBoxModel",
      "_view_count": null,
      "_view_module": "@jupyter-widgets/controls",
      "_view_module_version": "1.5.0",
      "_view_name": "HBoxView",
      "box_style": "",
      "children": [
       "IPY_MODEL_f1c89363848b414a84154aa764d38aae",
       "IPY_MODEL_749e1494df8f4839b45164ffbfcca798",
       "IPY_MODEL_54d322ff0f13486db128fce09221d241"
      ],
      "layout": "IPY_MODEL_4a10555540ed4911adb76c3d69914441"
     }
    },
    "b803ed5763974ec18432ba5de2eff494": {
     "model_module": "@jupyter-widgets/controls",
     "model_module_version": "1.5.0",
     "model_name": "DescriptionStyleModel",
     "state": {
      "_model_module": "@jupyter-widgets/controls",
      "_model_module_version": "1.5.0",
      "_model_name": "DescriptionStyleModel",
      "_view_count": null,
      "_view_module": "@jupyter-widgets/base",
      "_view_module_version": "1.2.0",
      "_view_name": "StyleView",
      "description_width": ""
     }
    },
    "ba85f6dd1e594ed481bbd13e219dcaa4": {
     "model_module": "@jupyter-widgets/controls",
     "model_module_version": "1.5.0",
     "model_name": "HTMLModel",
     "state": {
      "_dom_classes": [],
      "_model_module": "@jupyter-widgets/controls",
      "_model_module_version": "1.5.0",
      "_model_name": "HTMLModel",
      "_view_count": null,
      "_view_module": "@jupyter-widgets/controls",
      "_view_module_version": "1.5.0",
      "_view_name": "HTMLView",
      "description": "",
      "description_tooltip": null,
      "layout": "IPY_MODEL_e494de7bf0ee4b9593774fbb40302d06",
      "placeholder": "​",
      "style": "IPY_MODEL_11b2d6e950a740f4b21370a9668c4c55",
      "value": " 28.0/28.0 [00:00&lt;00:00, 863B/s]"
     }
    },
    "be07a4d29ce34df0b8cd17196429990a": {
     "model_module": "@jupyter-widgets/base",
     "model_module_version": "1.2.0",
     "model_name": "LayoutModel",
     "state": {
      "_model_module": "@jupyter-widgets/base",
      "_model_module_version": "1.2.0",
      "_model_name": "LayoutModel",
      "_view_count": null,
      "_view_module": "@jupyter-widgets/base",
      "_view_module_version": "1.2.0",
      "_view_name": "LayoutView",
      "align_content": null,
      "align_items": null,
      "align_self": null,
      "border": null,
      "bottom": null,
      "display": null,
      "flex": null,
      "flex_flow": null,
      "grid_area": null,
      "grid_auto_columns": null,
      "grid_auto_flow": null,
      "grid_auto_rows": null,
      "grid_column": null,
      "grid_gap": null,
      "grid_row": null,
      "grid_template_areas": null,
      "grid_template_columns": null,
      "grid_template_rows": null,
      "height": null,
      "justify_content": null,
      "justify_items": null,
      "left": null,
      "margin": null,
      "max_height": null,
      "max_width": null,
      "min_height": null,
      "min_width": null,
      "object_fit": null,
      "object_position": null,
      "order": null,
      "overflow": null,
      "overflow_x": null,
      "overflow_y": null,
      "padding": null,
      "right": null,
      "top": null,
      "visibility": null,
      "width": null
     }
    },
    "be6632cf5a274e5ca68ab339fb8aa646": {
     "model_module": "@jupyter-widgets/base",
     "model_module_version": "1.2.0",
     "model_name": "LayoutModel",
     "state": {
      "_model_module": "@jupyter-widgets/base",
      "_model_module_version": "1.2.0",
      "_model_name": "LayoutModel",
      "_view_count": null,
      "_view_module": "@jupyter-widgets/base",
      "_view_module_version": "1.2.0",
      "_view_name": "LayoutView",
      "align_content": null,
      "align_items": null,
      "align_self": null,
      "border": null,
      "bottom": null,
      "display": null,
      "flex": null,
      "flex_flow": null,
      "grid_area": null,
      "grid_auto_columns": null,
      "grid_auto_flow": null,
      "grid_auto_rows": null,
      "grid_column": null,
      "grid_gap": null,
      "grid_row": null,
      "grid_template_areas": null,
      "grid_template_columns": null,
      "grid_template_rows": null,
      "height": null,
      "justify_content": null,
      "justify_items": null,
      "left": null,
      "margin": null,
      "max_height": null,
      "max_width": null,
      "min_height": null,
      "min_width": null,
      "object_fit": null,
      "object_position": null,
      "order": null,
      "overflow": null,
      "overflow_x": null,
      "overflow_y": null,
      "padding": null,
      "right": null,
      "top": null,
      "visibility": null,
      "width": null
     }
    },
    "c925dbc631774bc78b69960fca5f893a": {
     "model_module": "@jupyter-widgets/controls",
     "model_module_version": "1.5.0",
     "model_name": "HBoxModel",
     "state": {
      "_dom_classes": [],
      "_model_module": "@jupyter-widgets/controls",
      "_model_module_version": "1.5.0",
      "_model_name": "HBoxModel",
      "_view_count": null,
      "_view_module": "@jupyter-widgets/controls",
      "_view_module_version": "1.5.0",
      "_view_name": "HBoxView",
      "box_style": "",
      "children": [
       "IPY_MODEL_7b94831dbc9e49cfb3ca5945f4eb0114",
       "IPY_MODEL_04723376a56d4501acfbaf30358e0267",
       "IPY_MODEL_e8bc12db33d64af489be09f8e0a780a5"
      ],
      "layout": "IPY_MODEL_be6632cf5a274e5ca68ab339fb8aa646"
     }
    },
    "dae12a4dd89f41bb847cee62a16b4d58": {
     "model_module": "@jupyter-widgets/base",
     "model_module_version": "1.2.0",
     "model_name": "LayoutModel",
     "state": {
      "_model_module": "@jupyter-widgets/base",
      "_model_module_version": "1.2.0",
      "_model_name": "LayoutModel",
      "_view_count": null,
      "_view_module": "@jupyter-widgets/base",
      "_view_module_version": "1.2.0",
      "_view_name": "LayoutView",
      "align_content": null,
      "align_items": null,
      "align_self": null,
      "border": null,
      "bottom": null,
      "display": null,
      "flex": null,
      "flex_flow": null,
      "grid_area": null,
      "grid_auto_columns": null,
      "grid_auto_flow": null,
      "grid_auto_rows": null,
      "grid_column": null,
      "grid_gap": null,
      "grid_row": null,
      "grid_template_areas": null,
      "grid_template_columns": null,
      "grid_template_rows": null,
      "height": null,
      "justify_content": null,
      "justify_items": null,
      "left": null,
      "margin": null,
      "max_height": null,
      "max_width": null,
      "min_height": null,
      "min_width": null,
      "object_fit": null,
      "object_position": null,
      "order": null,
      "overflow": null,
      "overflow_x": null,
      "overflow_y": null,
      "padding": null,
      "right": null,
      "top": null,
      "visibility": null,
      "width": null
     }
    },
    "dd3cd04770d347c49e581e96d022faea": {
     "model_module": "@jupyter-widgets/controls",
     "model_module_version": "1.5.0",
     "model_name": "HTMLModel",
     "state": {
      "_dom_classes": [],
      "_model_module": "@jupyter-widgets/controls",
      "_model_module_version": "1.5.0",
      "_model_name": "HTMLModel",
      "_view_count": null,
      "_view_module": "@jupyter-widgets/controls",
      "_view_module_version": "1.5.0",
      "_view_name": "HTMLView",
      "description": "",
      "description_tooltip": null,
      "layout": "IPY_MODEL_70f9d077f3d7468fb61ebcafe50b1ec8",
      "placeholder": "​",
      "style": "IPY_MODEL_63081379e309475689de0da8eecd56c2",
      "value": " 226k/226k [00:00&lt;00:00, 282kB/s]"
     }
    },
    "e494de7bf0ee4b9593774fbb40302d06": {
     "model_module": "@jupyter-widgets/base",
     "model_module_version": "1.2.0",
     "model_name": "LayoutModel",
     "state": {
      "_model_module": "@jupyter-widgets/base",
      "_model_module_version": "1.2.0",
      "_model_name": "LayoutModel",
      "_view_count": null,
      "_view_module": "@jupyter-widgets/base",
      "_view_module_version": "1.2.0",
      "_view_name": "LayoutView",
      "align_content": null,
      "align_items": null,
      "align_self": null,
      "border": null,
      "bottom": null,
      "display": null,
      "flex": null,
      "flex_flow": null,
      "grid_area": null,
      "grid_auto_columns": null,
      "grid_auto_flow": null,
      "grid_auto_rows": null,
      "grid_column": null,
      "grid_gap": null,
      "grid_row": null,
      "grid_template_areas": null,
      "grid_template_columns": null,
      "grid_template_rows": null,
      "height": null,
      "justify_content": null,
      "justify_items": null,
      "left": null,
      "margin": null,
      "max_height": null,
      "max_width": null,
      "min_height": null,
      "min_width": null,
      "object_fit": null,
      "object_position": null,
      "order": null,
      "overflow": null,
      "overflow_x": null,
      "overflow_y": null,
      "padding": null,
      "right": null,
      "top": null,
      "visibility": null,
      "width": null
     }
    },
    "e8173d6531724017948b0a487f9dd63e": {
     "model_module": "@jupyter-widgets/controls",
     "model_module_version": "1.5.0",
     "model_name": "DescriptionStyleModel",
     "state": {
      "_model_module": "@jupyter-widgets/controls",
      "_model_module_version": "1.5.0",
      "_model_name": "DescriptionStyleModel",
      "_view_count": null,
      "_view_module": "@jupyter-widgets/base",
      "_view_module_version": "1.2.0",
      "_view_name": "StyleView",
      "description_width": ""
     }
    },
    "e8bc12db33d64af489be09f8e0a780a5": {
     "model_module": "@jupyter-widgets/controls",
     "model_module_version": "1.5.0",
     "model_name": "HTMLModel",
     "state": {
      "_dom_classes": [],
      "_model_module": "@jupyter-widgets/controls",
      "_model_module_version": "1.5.0",
      "_model_name": "HTMLModel",
      "_view_count": null,
      "_view_module": "@jupyter-widgets/controls",
      "_view_module_version": "1.5.0",
      "_view_name": "HTMLView",
      "description": "",
      "description_tooltip": null,
      "layout": "IPY_MODEL_1f482181c7914bde83126d5885f7a762",
      "placeholder": "​",
      "style": "IPY_MODEL_9749186028ec4e0caba7623e36d7509d",
      "value": " 570/570 [00:00&lt;00:00, 18.4kB/s]"
     }
    },
    "ea2509f82ed8415aa130b614d6d97d6d": {
     "model_module": "@jupyter-widgets/base",
     "model_module_version": "1.2.0",
     "model_name": "LayoutModel",
     "state": {
      "_model_module": "@jupyter-widgets/base",
      "_model_module_version": "1.2.0",
      "_model_name": "LayoutModel",
      "_view_count": null,
      "_view_module": "@jupyter-widgets/base",
      "_view_module_version": "1.2.0",
      "_view_name": "LayoutView",
      "align_content": null,
      "align_items": null,
      "align_self": null,
      "border": null,
      "bottom": null,
      "display": null,
      "flex": null,
      "flex_flow": null,
      "grid_area": null,
      "grid_auto_columns": null,
      "grid_auto_flow": null,
      "grid_auto_rows": null,
      "grid_column": null,
      "grid_gap": null,
      "grid_row": null,
      "grid_template_areas": null,
      "grid_template_columns": null,
      "grid_template_rows": null,
      "height": null,
      "justify_content": null,
      "justify_items": null,
      "left": null,
      "margin": null,
      "max_height": null,
      "max_width": null,
      "min_height": null,
      "min_width": null,
      "object_fit": null,
      "object_position": null,
      "order": null,
      "overflow": null,
      "overflow_x": null,
      "overflow_y": null,
      "padding": null,
      "right": null,
      "top": null,
      "visibility": null,
      "width": null
     }
    },
    "f03766d51e3b47c98e5d92571da83540": {
     "model_module": "@jupyter-widgets/controls",
     "model_module_version": "1.5.0",
     "model_name": "FloatProgressModel",
     "state": {
      "_dom_classes": [],
      "_model_module": "@jupyter-widgets/controls",
      "_model_module_version": "1.5.0",
      "_model_name": "FloatProgressModel",
      "_view_count": null,
      "_view_module": "@jupyter-widgets/controls",
      "_view_module_version": "1.5.0",
      "_view_name": "ProgressView",
      "bar_style": "success",
      "description": "",
      "description_tooltip": null,
      "layout": "IPY_MODEL_65dba09e2970473c9811af2ef1dee951",
      "max": 28,
      "min": 0,
      "orientation": "horizontal",
      "style": "IPY_MODEL_72138bc767d64714ad78e53b97ceeabe",
      "value": 28
     }
    },
    "f1c89363848b414a84154aa764d38aae": {
     "model_module": "@jupyter-widgets/controls",
     "model_module_version": "1.5.0",
     "model_name": "HTMLModel",
     "state": {
      "_dom_classes": [],
      "_model_module": "@jupyter-widgets/controls",
      "_model_module_version": "1.5.0",
      "_model_name": "HTMLModel",
      "_view_count": null,
      "_view_module": "@jupyter-widgets/controls",
      "_view_module_version": "1.5.0",
      "_view_name": "HTMLView",
      "description": "",
      "description_tooltip": null,
      "layout": "IPY_MODEL_36b96edad07144ad84bc070051c667d4",
      "placeholder": "​",
      "style": "IPY_MODEL_1f0db9ba18d9400c91b7baf22d1c2214",
      "value": "Downloading: 100%"
     }
    }
   }
  }
 },
 "nbformat": 4,
 "nbformat_minor": 4
}
