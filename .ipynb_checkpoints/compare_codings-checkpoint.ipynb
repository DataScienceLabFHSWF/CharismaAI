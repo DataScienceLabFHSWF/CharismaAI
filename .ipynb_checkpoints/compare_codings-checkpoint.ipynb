{
 "cells": [
  {
   "cell_type": "code",
   "execution_count": 1,
   "id": "e657a7c2",
   "metadata": {},
   "outputs": [],
   "source": [
    "import pandas as pd \n",
    "from glob import glob\n",
    "import difflib\n",
    "import numpy as np\n",
    "\n",
    "def compare(file1, file2):\n",
    "    #print(file2[14:-5])\n",
    "    df1 = pd.read_excel(file1, index_col=0).drop(columns='label').dropna(subset='sentence')\n",
    "    print(df1.columns)\n",
    "    print(df1.shape)\n",
    "    df1 = df1.fillna(0)\n",
    "\n",
    "    df2 =pd.read_excel(file2,skiprows=6,header=0).drop(columns=\n",
    "                                                       'Unnamed: 0').rename(columns=\n",
    "                                                                            {'Sentence':'sentence'}).dropna(subset=\n",
    "                                                                                                            'sentence')\n",
    "    #print(df2)\n",
    "    #print(df2.columns)\n",
    "    print(df2.shape)\n",
    "    df2.index = df2.index.fillna(0)\n",
    "    \n",
    "    df2 = df2.fillna(0)\n",
    "\n",
    "    # Check if shapes are the same\n",
    "    if df1.shape != df2.shape:\n",
    "        print(\"Sheets have different shapes. They cannot be compared.\")\n",
    "    else:\n",
    "        diff_df = df1.drop(columns='sentence').compare(df2.drop(columns='sentence'),\n",
    "                                                       result_names=('Coding AI', 'Coding Human'),\n",
    "                                                       keep_shape=True, keep_equal=True).round(0).astype(int)\n",
    "        #print(diff_df.columns)#.get_level_values(0))\n",
    "        for col in diff_df.columns.get_level_values(0):\n",
    "            diff_df[col, \"Final coding\"] = None\n",
    "            diff_df[' sentence'] = df1['sentence']\n",
    "        diff_excel_path = 'differences/test/'+file2[19:-5]+'.xlsx'   \n",
    "        diff_df = diff_df.reindex(sorted(diff_df.columns), axis=1)\n",
    "        diff_df.reindex(sorted(diff_df.columns), axis=1).to_excel(diff_excel_path)\n",
    "        print(f\"Differences saved in '{diff_excel_path}'.\")\n",
    "\n"
   ]
  },
  {
   "cell_type": "code",
   "execution_count": 2,
   "id": "9075ffd7",
   "metadata": {},
   "outputs": [],
   "source": [
    "files_AI = glob('with_confidences/test/0.9/*.xlsx')\n",
    "files_test = glob('test_speeches/test/*.xlsx')"
   ]
  },
  {
   "cell_type": "code",
   "execution_count": 3,
   "id": "b6b98bba",
   "metadata": {},
   "outputs": [
    {
     "data": {
      "text/plain": [
       "['with_confidences/test/0.5\\\\Speech_10_AI.xlsx',\n",
       " 'with_confidences/test/0.5\\\\Speech_1_Obama__AI.xlsx',\n",
       " 'with_confidences/test/0.5\\\\Speech_2_Maggie_Thatcher_AI.xlsx',\n",
       " 'with_confidences/test/0.5\\\\Speech_3_Testspeech_AI.xlsx',\n",
       " 'with_confidences/test/0.5\\\\Speech_4_AI.xlsx',\n",
       " 'with_confidences/test/0.5\\\\Speech_5_AI.xlsx',\n",
       " 'with_confidences/test/0.5\\\\Speech_6_AI.xlsx',\n",
       " 'with_confidences/test/0.5\\\\Speech_7_AI.xlsx',\n",
       " 'with_confidences/test/0.5\\\\Speech_8_AI.xlsx',\n",
       " 'with_confidences/test/0.5\\\\Speech_9_AI.xlsx']"
      ]
     },
     "execution_count": 3,
     "metadata": {},
     "output_type": "execute_result"
    }
   ],
   "source": [
    "files_AI.sort()\n",
    "files_AI"
   ]
  },
  {
   "cell_type": "code",
   "execution_count": 4,
   "id": "491e9a95",
   "metadata": {},
   "outputs": [
    {
     "data": {
      "text/plain": [
       "'Speech_10'"
      ]
     },
     "execution_count": 4,
     "metadata": {},
     "output_type": "execute_result"
    }
   ],
   "source": [
    "files_test.sort()\n",
    "files_test\n",
    "files_test[0][19:-5]"
   ]
  },
  {
   "cell_type": "code",
   "execution_count": 5,
   "id": "3cce25ef",
   "metadata": {},
   "outputs": [
    {
     "name": "stdout",
     "output_type": "stream",
     "text": [
      "Index(['sentence', 'Metaphor/Simile', 'Rhetorical questions',\n",
      "       'Stories / anecdotes', 'Contrasts', 'Lists / Repetition ',\n",
      "       'Moral conviction', 'Sentiment of the collective',\n",
      "       'Ambitious goals / Setting high expectations', 'Confidence in goals'],\n",
      "      dtype='object')\n",
      "(29, 10)\n",
      "(29, 10)\n",
      "Differences saved in 'differences/new/Speech_10.xlsx'.\n",
      "Index(['sentence', 'Metaphor/Simile', 'Rhetorical questions',\n",
      "       'Stories / anecdotes', 'Contrasts', 'Lists / Repetition ',\n",
      "       'Moral conviction', 'Sentiment of the collective',\n",
      "       'Ambitious goals / Setting high expectations', 'Confidence in goals'],\n",
      "      dtype='object')\n",
      "(9, 10)\n",
      "(9, 10)\n"
     ]
    },
    {
     "name": "stderr",
     "output_type": "stream",
     "text": [
      "C:\\Users\\felix\\AppData\\Local\\Temp\\ipykernel_7364\\4264802598.py:22: FutureWarning: Downcasting object dtype arrays on .fillna, .ffill, .bfill is deprecated and will change in a future version. Call result.infer_objects(copy=False) instead. To opt-in to the future behavior, set `pd.set_option('future.no_silent_downcasting', True)`\n",
      "  df2 = df2.fillna(0)\n",
      "C:\\Users\\felix\\AppData\\Local\\Temp\\ipykernel_7364\\4264802598.py:22: FutureWarning: Downcasting object dtype arrays on .fillna, .ffill, .bfill is deprecated and will change in a future version. Call result.infer_objects(copy=False) instead. To opt-in to the future behavior, set `pd.set_option('future.no_silent_downcasting', True)`\n",
      "  df2 = df2.fillna(0)\n"
     ]
    },
    {
     "name": "stdout",
     "output_type": "stream",
     "text": [
      "Differences saved in 'differences/new/Speech_1_Obama_.xlsx'.\n",
      "Index(['sentence', 'Metaphor/Simile', 'Rhetorical questions',\n",
      "       'Stories / anecdotes', 'Contrasts', 'Lists / Repetition ',\n",
      "       'Moral conviction', 'Sentiment of the collective',\n",
      "       'Ambitious goals / Setting high expectations', 'Confidence in goals'],\n",
      "      dtype='object')\n",
      "(16, 10)\n",
      "(16, 10)\n",
      "Differences saved in 'differences/new/Speech_2_Maggie_Thatcher.xlsx'.\n",
      "Index(['sentence', 'Metaphor/Simile', 'Rhetorical questions',\n",
      "       'Stories / anecdotes', 'Contrasts', 'Lists / Repetition ',\n",
      "       'Moral conviction', 'Sentiment of the collective',\n",
      "       'Ambitious goals / Setting high expectations', 'Confidence in goals'],\n",
      "      dtype='object')\n",
      "(193, 10)\n",
      "(193, 10)\n"
     ]
    },
    {
     "name": "stderr",
     "output_type": "stream",
     "text": [
      "C:\\Users\\felix\\AppData\\Local\\Temp\\ipykernel_7364\\4264802598.py:22: FutureWarning: Downcasting object dtype arrays on .fillna, .ffill, .bfill is deprecated and will change in a future version. Call result.infer_objects(copy=False) instead. To opt-in to the future behavior, set `pd.set_option('future.no_silent_downcasting', True)`\n",
      "  df2 = df2.fillna(0)\n",
      "C:\\Users\\felix\\AppData\\Local\\Temp\\ipykernel_7364\\4264802598.py:22: FutureWarning: Downcasting object dtype arrays on .fillna, .ffill, .bfill is deprecated and will change in a future version. Call result.infer_objects(copy=False) instead. To opt-in to the future behavior, set `pd.set_option('future.no_silent_downcasting', True)`\n",
      "  df2 = df2.fillna(0)\n"
     ]
    },
    {
     "name": "stdout",
     "output_type": "stream",
     "text": [
      "Differences saved in 'differences/new/Speech_3_Testspeech.xlsx'.\n",
      "Index(['sentence', 'Metaphor/Simile', 'Rhetorical questions',\n",
      "       'Stories / anecdotes', 'Contrasts', 'Lists / Repetition ',\n",
      "       'Moral conviction', 'Sentiment of the collective',\n",
      "       'Ambitious goals / Setting high expectations', 'Confidence in goals'],\n",
      "      dtype='object')\n",
      "(14, 10)\n",
      "(14, 10)\n",
      "Differences saved in 'differences/new/Speech_4.xlsx'.\n",
      "Index(['sentence', 'Metaphor/Simile', 'Rhetorical questions',\n",
      "       'Stories / anecdotes', 'Contrasts', 'Lists / Repetition ',\n",
      "       'Moral conviction', 'Sentiment of the collective',\n",
      "       'Ambitious goals / Setting high expectations', 'Confidence in goals'],\n",
      "      dtype='object')\n",
      "(54, 10)\n",
      "(54, 10)\n",
      "Differences saved in 'differences/new/Speech_5.xlsx'.\n"
     ]
    },
    {
     "name": "stderr",
     "output_type": "stream",
     "text": [
      "C:\\Users\\felix\\AppData\\Local\\Temp\\ipykernel_7364\\4264802598.py:22: FutureWarning: Downcasting object dtype arrays on .fillna, .ffill, .bfill is deprecated and will change in a future version. Call result.infer_objects(copy=False) instead. To opt-in to the future behavior, set `pd.set_option('future.no_silent_downcasting', True)`\n",
      "  df2 = df2.fillna(0)\n",
      "C:\\Users\\felix\\AppData\\Local\\Temp\\ipykernel_7364\\4264802598.py:22: FutureWarning: Downcasting object dtype arrays on .fillna, .ffill, .bfill is deprecated and will change in a future version. Call result.infer_objects(copy=False) instead. To opt-in to the future behavior, set `pd.set_option('future.no_silent_downcasting', True)`\n",
      "  df2 = df2.fillna(0)\n",
      "C:\\Users\\felix\\AppData\\Local\\Temp\\ipykernel_7364\\4264802598.py:22: FutureWarning: Downcasting object dtype arrays on .fillna, .ffill, .bfill is deprecated and will change in a future version. Call result.infer_objects(copy=False) instead. To opt-in to the future behavior, set `pd.set_option('future.no_silent_downcasting', True)`\n",
      "  df2 = df2.fillna(0)\n"
     ]
    },
    {
     "name": "stdout",
     "output_type": "stream",
     "text": [
      "Index(['sentence', 'Metaphor/Simile', 'Rhetorical questions',\n",
      "       'Stories / anecdotes', 'Contrasts', 'Lists / Repetition ',\n",
      "       'Moral conviction', 'Sentiment of the collective',\n",
      "       'Ambitious goals / Setting high expectations', 'Confidence in goals'],\n",
      "      dtype='object')\n",
      "(39, 10)\n",
      "(39, 10)\n",
      "Differences saved in 'differences/new/Speech_6.xlsx'.\n",
      "Index(['sentence', 'Metaphor/Simile', 'Rhetorical questions',\n",
      "       'Stories / anecdotes', 'Contrasts', 'Lists / Repetition ',\n",
      "       'Moral conviction', 'Sentiment of the collective',\n",
      "       'Ambitious goals / Setting high expectations', 'Confidence in goals'],\n",
      "      dtype='object')\n",
      "(29, 10)\n",
      "(29, 10)\n",
      "Differences saved in 'differences/new/Speech_7.xlsx'.\n",
      "Index(['sentence', 'Metaphor/Simile', 'Rhetorical questions',\n",
      "       'Stories / anecdotes', 'Contrasts', 'Lists / Repetition ',\n",
      "       'Moral conviction', 'Sentiment of the collective',\n",
      "       'Ambitious goals / Setting high expectations', 'Confidence in goals'],\n",
      "      dtype='object')\n",
      "(29, 10)\n"
     ]
    },
    {
     "name": "stderr",
     "output_type": "stream",
     "text": [
      "C:\\Users\\felix\\AppData\\Local\\Temp\\ipykernel_7364\\4264802598.py:22: FutureWarning: Downcasting object dtype arrays on .fillna, .ffill, .bfill is deprecated and will change in a future version. Call result.infer_objects(copy=False) instead. To opt-in to the future behavior, set `pd.set_option('future.no_silent_downcasting', True)`\n",
      "  df2 = df2.fillna(0)\n",
      "C:\\Users\\felix\\AppData\\Local\\Temp\\ipykernel_7364\\4264802598.py:22: FutureWarning: Downcasting object dtype arrays on .fillna, .ffill, .bfill is deprecated and will change in a future version. Call result.infer_objects(copy=False) instead. To opt-in to the future behavior, set `pd.set_option('future.no_silent_downcasting', True)`\n",
      "  df2 = df2.fillna(0)\n",
      "C:\\Users\\felix\\AppData\\Local\\Temp\\ipykernel_7364\\4264802598.py:22: FutureWarning: Downcasting object dtype arrays on .fillna, .ffill, .bfill is deprecated and will change in a future version. Call result.infer_objects(copy=False) instead. To opt-in to the future behavior, set `pd.set_option('future.no_silent_downcasting', True)`\n",
      "  df2 = df2.fillna(0)\n"
     ]
    },
    {
     "name": "stdout",
     "output_type": "stream",
     "text": [
      "(29, 10)\n",
      "Differences saved in 'differences/new/Speech_8.xlsx'.\n",
      "Index(['sentence', 'Metaphor/Simile', 'Rhetorical questions',\n",
      "       'Stories / anecdotes', 'Contrasts', 'Lists / Repetition ',\n",
      "       'Moral conviction', 'Sentiment of the collective',\n",
      "       'Ambitious goals / Setting high expectations', 'Confidence in goals'],\n",
      "      dtype='object')\n",
      "(29, 10)\n",
      "(29, 10)\n",
      "Differences saved in 'differences/new/Speech_9.xlsx'.\n"
     ]
    }
   ],
   "source": [
    "files = tuple(zip(files_AI,files_test))\n",
    "for f in files:\n",
    "    compare(*f)"
   ]
  },
  {
   "cell_type": "code",
   "execution_count": null,
   "id": "f3d4b06a",
   "metadata": {},
   "outputs": [],
   "source": []
  }
 ],
 "metadata": {
  "kernelspec": {
   "display_name": "Python 3 (ipykernel)",
   "language": "python",
   "name": "python3"
  },
  "language_info": {
   "codemirror_mode": {
    "name": "ipython",
    "version": 3
   },
   "file_extension": ".py",
   "mimetype": "text/x-python",
   "name": "python",
   "nbconvert_exporter": "python",
   "pygments_lexer": "ipython3",
   "version": "3.9.17"
  }
 },
 "nbformat": 4,
 "nbformat_minor": 5
}
