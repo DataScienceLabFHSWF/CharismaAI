{
 "cells": [
  {
   "cell_type": "code",
   "execution_count": 9,
   "id": "0362d045",
   "metadata": {},
   "outputs": [],
   "source": [
    "import pandas as pd \n",
    "file1 = \"./test_speeches/predictions/Speech_1_Obama__AI.xlsx\"\n",
    "file2 = \"./test_speeches/Speech_1_Obama_.xlsx\"\n",
    "\n",
    "def compare(file1, file2):\n",
    "    print(file2[16:-5])\n",
    "    df1 = pd.read_excel(file1,skiprows=1, index_col=0,header=None).iloc[:,:]\n",
    "\n",
    "    df1 = df1.fillna(0)\n",
    "\n",
    "    df2 = pd.read_excel(file2,skiprows=8,header=None).iloc[:,1:]\n",
    "    df2.index = df2.index.fillna(0)\n",
    "\n",
    "    df2 = df2.fillna(0)\n",
    "\n",
    "    # Check if shapes are the same\n",
    "    if df1.shape != df2.shape:\n",
    "        print(\"Sheets have different shapes. They cannot be compared.\")\n",
    "    else:\n",
    "        differences = []\n",
    "\n",
    "        # Compare cell values\n",
    "        for i in range(df1.shape[0]):\n",
    "            for j in range(df1.shape[1]):\n",
    "                if df1.iloc[i, j] != df2.iloc[i, j]:\n",
    "                    differences.append((i+1, j+1, df1.iloc[i, j], df2.iloc[i, j]))\n",
    "\n",
    "        if differences:\n",
    "            diff_df = pd.DataFrame(differences, columns=['Row', 'Column', 'Value_Sheet1', 'Value_Sheet2'])\n",
    "\n",
    "            diff_excel_path = 'differences'+file2[16:-5]+'.xlsx'\n",
    "            diff_df.to_excel(diff_excel_path, index=False)\n",
    "            print(f\"Differences saved in '{diff_excel_path}'.\")\n",
    "        else:\n",
    "            print(\"Sheets are identical. No differences found.\")\n",
    "\n"
   ]
  },
  {
   "cell_type": "code",
   "execution_count": 10,
   "id": "36d2a8df",
   "metadata": {},
   "outputs": [
    {
     "name": "stdout",
     "output_type": "stream",
     "text": [
      "Speech_1_Obama\n",
      "Sheets are identical. No differences found.\n"
     ]
    }
   ],
   "source": [
    "compare(file1,file2)"
   ]
  },
  {
   "cell_type": "code",
   "execution_count": null,
   "id": "435a869b",
   "metadata": {},
   "outputs": [],
   "source": []
  }
 ],
 "metadata": {
  "kernelspec": {
   "display_name": "Python 3 (ipykernel)",
   "language": "python",
   "name": "python3"
  },
  "language_info": {
   "codemirror_mode": {
    "name": "ipython",
    "version": 3
   },
   "file_extension": ".py",
   "mimetype": "text/x-python",
   "name": "python",
   "nbconvert_exporter": "python",
   "pygments_lexer": "ipython3",
   "version": "3.9.17"
  }
 },
 "nbformat": 4,
 "nbformat_minor": 5
}
