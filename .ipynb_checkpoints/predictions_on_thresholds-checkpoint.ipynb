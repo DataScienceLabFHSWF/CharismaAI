{
 "cells": [
  {
   "cell_type": "code",
   "execution_count": 1,
   "id": "6fa10e36",
   "metadata": {},
   "outputs": [],
   "source": [
    "import pandas as pd\n",
    "from glob import glob\n",
    "import seaborn as sns"
   ]
  },
  {
   "cell_type": "code",
   "execution_count": 2,
   "id": "f63df67f",
   "metadata": {},
   "outputs": [
    {
     "data": {
      "text/plain": [
       "['test_speeches/predictions/with_speeches\\\\Speech_10_AI.xlsx',\n",
       " 'test_speeches/predictions/with_speeches\\\\Speech_1_Obama__AI.xlsx',\n",
       " 'test_speeches/predictions/with_speeches\\\\Speech_2_Maggie_Thatcher_AI.xlsx',\n",
       " 'test_speeches/predictions/with_speeches\\\\Speech_3_Testspeech_AI.xlsx',\n",
       " 'test_speeches/predictions/with_speeches\\\\Speech_4_AI.xlsx',\n",
       " 'test_speeches/predictions/with_speeches\\\\Speech_5_AI.xlsx',\n",
       " 'test_speeches/predictions/with_speeches\\\\Speech_6_AI.xlsx',\n",
       " 'test_speeches/predictions/with_speeches\\\\Speech_7_AI.xlsx',\n",
       " 'test_speeches/predictions/with_speeches\\\\Speech_8_AI.xlsx',\n",
       " 'test_speeches/predictions/with_speeches\\\\Speech_9_AI.xlsx']"
      ]
     },
     "execution_count": 2,
     "metadata": {},
     "output_type": "execute_result"
    }
   ],
   "source": [
    "files = glob('test_speeches/predictions/with_speeches/*.xlsx')\n",
    "files"
   ]
  },
  {
   "cell_type": "code",
   "execution_count": 11,
   "id": "b4d91e38",
   "metadata": {},
   "outputs": [
    {
     "data": {
      "text/plain": [
       "'Speech_10_AI'"
      ]
     },
     "execution_count": 11,
     "metadata": {},
     "output_type": "execute_result"
    }
   ],
   "source": [
    "files[0][40:-5]"
   ]
  },
  {
   "cell_type": "code",
   "execution_count": 9,
   "id": "6e013d93",
   "metadata": {},
   "outputs": [],
   "source": [
    "thresholds = [0.3, 0.5, 0.6, 0.8, 0.9]\n",
    "for file in files:\n",
    "    df = pd.read_excel(file, index_col=0).dropna(subset='sentence')\n",
    "    for threshold in thresholds:\n",
    "        for tactic in df.columns[1:]:\n",
    "            df[tactic] = [1 if val >= threshold else 0 for val in df[tactic]]\n",
    "        #print(df)\n",
    "        df.to_excel('with_confidences/test/'+ str(threshold) +'/'+file[40:-5]+'.xlsx')"
   ]
  },
  {
   "cell_type": "code",
   "execution_count": 19,
   "id": "e0fb6f5c",
   "metadata": {},
   "outputs": [],
   "source": [
    "dfs = []\n",
    "for file in files:\n",
    "    dfs.append(pd.read_excel(file, index_col=0).dropna(subset='sentence'))\n",
    "data = pd.concat(dfs)"
   ]
  },
  {
   "cell_type": "code",
   "execution_count": null,
   "id": "e95eadaa",
   "metadata": {},
   "outputs": [],
   "source": [
    "data.columns()"
   ]
  },
  {
   "cell_type": "code",
   "execution_count": null,
   "id": "804c4216",
   "metadata": {},
   "outputs": [],
   "source": [
    "data['']"
   ]
  }
 ],
 "metadata": {
  "kernelspec": {
   "display_name": "Python 3 (ipykernel)",
   "language": "python",
   "name": "python3"
  },
  "language_info": {
   "codemirror_mode": {
    "name": "ipython",
    "version": 3
   },
   "file_extension": ".py",
   "mimetype": "text/x-python",
   "name": "python",
   "nbconvert_exporter": "python",
   "pygments_lexer": "ipython3",
   "version": "3.9.17"
  }
 },
 "nbformat": 4,
 "nbformat_minor": 5
}
