{
 "cells": [
  {
   "cell_type": "code",
   "execution_count": 4,
   "id": "6fa10e36",
   "metadata": {},
   "outputs": [],
   "source": [
    "import pandas as pd\n",
    "from glob import glob\n",
    "import seaborn as sns"
   ]
  },
  {
   "cell_type": "code",
   "execution_count": 5,
   "id": "f63df67f",
   "metadata": {},
   "outputs": [
    {
     "data": {
      "text/plain": [
       "['test_speeches/predictions/onestep/new\\\\Speech_10_AI_conf.xlsx',\n",
       " 'test_speeches/predictions/onestep/new\\\\Speech_1_Obama__AI_conf.xlsx',\n",
       " 'test_speeches/predictions/onestep/new\\\\Speech_2_Maggie_Thatcher_AI_conf.xlsx',\n",
       " 'test_speeches/predictions/onestep/new\\\\Speech_3_Testspeech_AI_conf.xlsx',\n",
       " 'test_speeches/predictions/onestep/new\\\\Speech_4_AI_conf.xlsx',\n",
       " 'test_speeches/predictions/onestep/new\\\\Speech_5_AI_conf.xlsx',\n",
       " 'test_speeches/predictions/onestep/new\\\\Speech_6_AI_conf.xlsx',\n",
       " 'test_speeches/predictions/onestep/new\\\\Speech_7_AI_conf.xlsx',\n",
       " 'test_speeches/predictions/onestep/new\\\\Speech_8_AI_conf.xlsx',\n",
       " 'test_speeches/predictions/onestep/new\\\\Speech_9_AI_conf.xlsx']"
      ]
     },
     "execution_count": 5,
     "metadata": {},
     "output_type": "execute_result"
    }
   ],
   "source": [
    "files = glob('test_speeches/predictions/onestep/new/*.xlsx')\n",
    "files"
   ]
  },
  {
   "cell_type": "code",
   "execution_count": 7,
   "id": "b4d91e38",
   "metadata": {},
   "outputs": [
    {
     "data": {
      "text/plain": [
       "'Speech_10_AI'"
      ]
     },
     "execution_count": 7,
     "metadata": {},
     "output_type": "execute_result"
    }
   ],
   "source": [
    "files[0][38:-10]"
   ]
  },
  {
   "cell_type": "code",
   "execution_count": 18,
   "id": "6e013d93",
   "metadata": {},
   "outputs": [],
   "source": [
    "thresholds = [0.3, 0.5, 0.6, 0.8, 0.9]\n",
    "for file in files:\n",
    "    df = pd.read_excel(file, index_col=0).dropna(subset='sentence')\n",
    "    for threshold in thresholds:\n",
    "        for tactic in df.columns[1:]:\n",
    "            df[tactic] = [1 if val >= threshold else 0 for val in df[tactic]]\n",
    "        #print(df)\n",
    "        df.to_excel('with_confidences/'+ str(threshold) +'/'+file[36:-10]+'.xlsx')"
   ]
  },
  {
   "cell_type": "code",
   "execution_count": 19,
   "id": "e0fb6f5c",
   "metadata": {},
   "outputs": [],
   "source": [
    "dfs = []\n",
    "for file in files:\n",
    "    dfs.append(pd.read_excel(file, index_col=0).dropna(subset='sentence'))\n",
    "data = pd.concat(dfs)"
   ]
  },
  {
   "cell_type": "code",
   "execution_count": null,
   "id": "e95eadaa",
   "metadata": {},
   "outputs": [],
   "source": [
    "data.columns()"
   ]
  },
  {
   "cell_type": "code",
   "execution_count": null,
   "id": "804c4216",
   "metadata": {},
   "outputs": [],
   "source": [
    "data['']"
   ]
  }
 ],
 "metadata": {
  "kernelspec": {
   "display_name": "Python 3 (ipykernel)",
   "language": "python",
   "name": "python3"
  },
  "language_info": {
   "codemirror_mode": {
    "name": "ipython",
    "version": 3
   },
   "file_extension": ".py",
   "mimetype": "text/x-python",
   "name": "python",
   "nbconvert_exporter": "python",
   "pygments_lexer": "ipython3",
   "version": "3.9.17"
  }
 },
 "nbformat": 4,
 "nbformat_minor": 5
}
